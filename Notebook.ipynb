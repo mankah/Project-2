{
 "cells": [
  {
   "cell_type": "code",
   "execution_count": 1,
   "metadata": {},
   "outputs": [],
   "source": [
    "import numpy as np\n",
    "import pandas as pd \n",
    "from scipy import stats\n",
    "import warnings\n",
    "\n",
    "\n",
    "import statsmodels.api as sm\n",
    "from statsmodels.stats.outliers_influence import variance_inflation_factor\n",
    "\n",
    "from sklearn.linear_model import LinearRegression\n",
    "from sklearn.model_selection import train_test_split\n",
    "from sklearn.preprocessing import StandardScaler, PolynomialFeatures\n",
    "from sklearn.metrics import mean_squared_error, r2_score\n",
    "from sklearn.dummy import DummyRegressor\n",
    "from sklearn.preprocessing import PolynomialFeatures\n",
    "from sklearn.model_selection import cross_validate\n",
    "\n",
    "\n",
    "\n",
    "import matplotlib.pyplot as plt\n",
    "import seaborn as sns\n",
    "\n",
    "import time\n",
    "start_time = time.time()\n",
    "%matplotlib inline"
   ]
  },
  {
   "cell_type": "code",
   "execution_count": 2,
   "metadata": {},
   "outputs": [
    {
     "data": {
      "text/html": [
       "<div>\n",
       "<style scoped>\n",
       "    .dataframe tbody tr th:only-of-type {\n",
       "        vertical-align: middle;\n",
       "    }\n",
       "\n",
       "    .dataframe tbody tr th {\n",
       "        vertical-align: top;\n",
       "    }\n",
       "\n",
       "    .dataframe thead th {\n",
       "        text-align: right;\n",
       "    }\n",
       "</style>\n",
       "<table border=\"1\" class=\"dataframe\">\n",
       "  <thead>\n",
       "    <tr style=\"text-align: right;\">\n",
       "      <th></th>\n",
       "      <th>id</th>\n",
       "      <th>date</th>\n",
       "      <th>price</th>\n",
       "      <th>bedrooms</th>\n",
       "      <th>bathrooms</th>\n",
       "      <th>sqft_living</th>\n",
       "      <th>sqft_lot</th>\n",
       "      <th>floors</th>\n",
       "      <th>waterfront</th>\n",
       "      <th>view</th>\n",
       "      <th>...</th>\n",
       "      <th>grade</th>\n",
       "      <th>sqft_above</th>\n",
       "      <th>sqft_basement</th>\n",
       "      <th>yr_built</th>\n",
       "      <th>yr_renovated</th>\n",
       "      <th>zipcode</th>\n",
       "      <th>lat</th>\n",
       "      <th>long</th>\n",
       "      <th>sqft_living15</th>\n",
       "      <th>sqft_lot15</th>\n",
       "    </tr>\n",
       "  </thead>\n",
       "  <tbody>\n",
       "    <tr>\n",
       "      <th>0</th>\n",
       "      <td>7129300520</td>\n",
       "      <td>10/13/2014</td>\n",
       "      <td>221900.0</td>\n",
       "      <td>3</td>\n",
       "      <td>1.00</td>\n",
       "      <td>1180</td>\n",
       "      <td>5650</td>\n",
       "      <td>1.0</td>\n",
       "      <td>NaN</td>\n",
       "      <td>0.0</td>\n",
       "      <td>...</td>\n",
       "      <td>7</td>\n",
       "      <td>1180</td>\n",
       "      <td>0.0</td>\n",
       "      <td>1955</td>\n",
       "      <td>0.0</td>\n",
       "      <td>98178</td>\n",
       "      <td>47.5112</td>\n",
       "      <td>-122.257</td>\n",
       "      <td>1340</td>\n",
       "      <td>5650</td>\n",
       "    </tr>\n",
       "    <tr>\n",
       "      <th>1</th>\n",
       "      <td>6414100192</td>\n",
       "      <td>12/9/2014</td>\n",
       "      <td>538000.0</td>\n",
       "      <td>3</td>\n",
       "      <td>2.25</td>\n",
       "      <td>2570</td>\n",
       "      <td>7242</td>\n",
       "      <td>2.0</td>\n",
       "      <td>0.0</td>\n",
       "      <td>0.0</td>\n",
       "      <td>...</td>\n",
       "      <td>7</td>\n",
       "      <td>2170</td>\n",
       "      <td>400.0</td>\n",
       "      <td>1951</td>\n",
       "      <td>1991.0</td>\n",
       "      <td>98125</td>\n",
       "      <td>47.7210</td>\n",
       "      <td>-122.319</td>\n",
       "      <td>1690</td>\n",
       "      <td>7639</td>\n",
       "    </tr>\n",
       "    <tr>\n",
       "      <th>2</th>\n",
       "      <td>5631500400</td>\n",
       "      <td>2/25/2015</td>\n",
       "      <td>180000.0</td>\n",
       "      <td>2</td>\n",
       "      <td>1.00</td>\n",
       "      <td>770</td>\n",
       "      <td>10000</td>\n",
       "      <td>1.0</td>\n",
       "      <td>0.0</td>\n",
       "      <td>0.0</td>\n",
       "      <td>...</td>\n",
       "      <td>6</td>\n",
       "      <td>770</td>\n",
       "      <td>0.0</td>\n",
       "      <td>1933</td>\n",
       "      <td>NaN</td>\n",
       "      <td>98028</td>\n",
       "      <td>47.7379</td>\n",
       "      <td>-122.233</td>\n",
       "      <td>2720</td>\n",
       "      <td>8062</td>\n",
       "    </tr>\n",
       "    <tr>\n",
       "      <th>3</th>\n",
       "      <td>2487200875</td>\n",
       "      <td>12/9/2014</td>\n",
       "      <td>604000.0</td>\n",
       "      <td>4</td>\n",
       "      <td>3.00</td>\n",
       "      <td>1960</td>\n",
       "      <td>5000</td>\n",
       "      <td>1.0</td>\n",
       "      <td>0.0</td>\n",
       "      <td>0.0</td>\n",
       "      <td>...</td>\n",
       "      <td>7</td>\n",
       "      <td>1050</td>\n",
       "      <td>910.0</td>\n",
       "      <td>1965</td>\n",
       "      <td>0.0</td>\n",
       "      <td>98136</td>\n",
       "      <td>47.5208</td>\n",
       "      <td>-122.393</td>\n",
       "      <td>1360</td>\n",
       "      <td>5000</td>\n",
       "    </tr>\n",
       "    <tr>\n",
       "      <th>4</th>\n",
       "      <td>1954400510</td>\n",
       "      <td>2/18/2015</td>\n",
       "      <td>510000.0</td>\n",
       "      <td>3</td>\n",
       "      <td>2.00</td>\n",
       "      <td>1680</td>\n",
       "      <td>8080</td>\n",
       "      <td>1.0</td>\n",
       "      <td>0.0</td>\n",
       "      <td>0.0</td>\n",
       "      <td>...</td>\n",
       "      <td>8</td>\n",
       "      <td>1680</td>\n",
       "      <td>0.0</td>\n",
       "      <td>1987</td>\n",
       "      <td>0.0</td>\n",
       "      <td>98074</td>\n",
       "      <td>47.6168</td>\n",
       "      <td>-122.045</td>\n",
       "      <td>1800</td>\n",
       "      <td>7503</td>\n",
       "    </tr>\n",
       "  </tbody>\n",
       "</table>\n",
       "<p>5 rows × 21 columns</p>\n",
       "</div>"
      ],
      "text/plain": [
       "           id        date     price  bedrooms  bathrooms  sqft_living  \\\n",
       "0  7129300520  10/13/2014  221900.0         3       1.00         1180   \n",
       "1  6414100192   12/9/2014  538000.0         3       2.25         2570   \n",
       "2  5631500400   2/25/2015  180000.0         2       1.00          770   \n",
       "3  2487200875   12/9/2014  604000.0         4       3.00         1960   \n",
       "4  1954400510   2/18/2015  510000.0         3       2.00         1680   \n",
       "\n",
       "   sqft_lot  floors  waterfront  view  ...  grade  sqft_above  sqft_basement  \\\n",
       "0      5650     1.0         NaN   0.0  ...      7        1180            0.0   \n",
       "1      7242     2.0         0.0   0.0  ...      7        2170          400.0   \n",
       "2     10000     1.0         0.0   0.0  ...      6         770            0.0   \n",
       "3      5000     1.0         0.0   0.0  ...      7        1050          910.0   \n",
       "4      8080     1.0         0.0   0.0  ...      8        1680            0.0   \n",
       "\n",
       "  yr_built  yr_renovated  zipcode      lat     long  sqft_living15  sqft_lot15  \n",
       "0     1955           0.0    98178  47.5112 -122.257           1340        5650  \n",
       "1     1951        1991.0    98125  47.7210 -122.319           1690        7639  \n",
       "2     1933           NaN    98028  47.7379 -122.233           2720        8062  \n",
       "3     1965           0.0    98136  47.5208 -122.393           1360        5000  \n",
       "4     1987           0.0    98074  47.6168 -122.045           1800        7503  \n",
       "\n",
       "[5 rows x 21 columns]"
      ]
     },
     "execution_count": 2,
     "metadata": {},
     "output_type": "execute_result"
    }
   ],
   "source": [
    "# Import the housing dataset as a Pandas Dataframe\n",
    "df = pd.read_csv('data/kc_house_data.csv')\n",
    "df.head()"
   ]
  },
  {
   "cell_type": "code",
   "execution_count": 3,
   "metadata": {},
   "outputs": [
    {
     "name": "stdout",
     "output_type": "stream",
     "text": [
      "<class 'pandas.core.frame.DataFrame'>\n",
      "RangeIndex: 21597 entries, 0 to 21596\n",
      "Data columns (total 21 columns):\n",
      " #   Column         Non-Null Count  Dtype  \n",
      "---  ------         --------------  -----  \n",
      " 0   id             21597 non-null  int64  \n",
      " 1   date           21597 non-null  object \n",
      " 2   price          21597 non-null  float64\n",
      " 3   bedrooms       21597 non-null  int64  \n",
      " 4   bathrooms      21597 non-null  float64\n",
      " 5   sqft_living    21597 non-null  int64  \n",
      " 6   sqft_lot       21597 non-null  int64  \n",
      " 7   floors         21597 non-null  float64\n",
      " 8   waterfront     19221 non-null  float64\n",
      " 9   view           21534 non-null  float64\n",
      " 10  condition      21597 non-null  int64  \n",
      " 11  grade          21597 non-null  int64  \n",
      " 12  sqft_above     21597 non-null  int64  \n",
      " 13  sqft_basement  21597 non-null  object \n",
      " 14  yr_built       21597 non-null  int64  \n",
      " 15  yr_renovated   17755 non-null  float64\n",
      " 16  zipcode        21597 non-null  int64  \n",
      " 17  lat            21597 non-null  float64\n",
      " 18  long           21597 non-null  float64\n",
      " 19  sqft_living15  21597 non-null  int64  \n",
      " 20  sqft_lot15     21597 non-null  int64  \n",
      "dtypes: float64(8), int64(11), object(2)\n",
      "memory usage: 3.5+ MB\n",
      "None\n",
      "\n",
      "yr_renovated and waterfront are only columns containing null values\n",
      "\n"
     ]
    }
   ],
   "source": [
    "# Create a summmary of each column in the df\n",
    "print(df.info())\n",
    "\n",
    "print('''\n",
    "yr_renovated and waterfront are only columns containing null values\n",
    "''')"
   ]
  },
  {
   "cell_type": "code",
   "execution_count": 4,
   "metadata": {},
   "outputs": [],
   "source": [
    "# Set Nan values of 'waterfront' and 'year_renovated' columns to 0\n",
    "df.loc[df.waterfront.isna()==True, 'waterfront'] = 0\n",
    "df.loc[df.yr_renovated.isna()==True, 'yr_renovated'] = 0\n",
    "\n",
    "#Set all sqft_basement values of '?' to 0, then convert to floats.\n",
    "df.loc[df.sqft_basement=='?', 'sqft_basement'] = 0\n",
    "df.sqft_basement = df.sqft_basement.astype(float)\n",
    "\n",
    "# Convert 'date' to a datetime object and use these to create a 'year' column\n",
    "df['date'] = pd.to_datetime(df['date'])\n",
    "df['year'] = df['date'].apply(lambda date: date.year)\n",
    "\n",
    "# Create an 'age' column to specify how old a house was at sale\n",
    "df['age'] = df['year'] - df['yr_built']\n",
    "\n",
    "#Drop unnecessary 'id', 'yr_built', 'year', and 'date' columns\n",
    "cols_to_drop = ['id', 'yr_built', 'year', 'date']\n",
    "df.drop(cols_to_drop, axis=1, inplace=True)\n",
    "\n",
    "#Drop rows that contain null values in the 'view' column\n",
    "df.dropna(subset = ['view'], inplace = True)\n",
    "\n",
    "#drop the outlier house that contains 33 bedrooms\n",
    "df = df[df.bedrooms != 33];"
   ]
  },
  {
   "cell_type": "code",
   "execution_count": 5,
   "metadata": {},
   "outputs": [
    {
     "name": "stdout",
     "output_type": "stream",
     "text": [
      "There is a relatively normal distribution of bedroom sizes\n"
     ]
    },
    {
     "data": {
      "image/png": "[encoded data removed]",
      "text/plain": [
       "<Figure size 432x288 with 1 Axes>"
      ]
     },
     "metadata": {
      "needs_background": "light"
     },
     "output_type": "display_data"
    }
   ],
   "source": [
    "df.hist('bedrooms');\n",
    "print('There is a relatively normal distribution of bedroom sizes')"
   ]
  },
  {
   "cell_type": "code",
   "execution_count": 6,
   "metadata": {
    "scrolled": true
   },
   "outputs": [
    {
     "name": "stdout",
     "output_type": "stream",
     "text": [
      "Price has a positive skew\n"
     ]
    },
    {
     "data": {
      "image/png": "[encoded data removed]",
      "text/plain": [
       "<Figure size 432x288 with 1 Axes>"
      ]
     },
     "metadata": {
      "needs_background": "light"
     },
     "output_type": "display_data"
    }
   ],
   "source": [
    "print(\"Price has a positive skew\")\n",
    "df.hist('price', bins=20);"
   ]
  },
  {
   "cell_type": "code",
   "execution_count": 7,
   "metadata": {},
   "outputs": [],
   "source": [
    "# Create a matrix of correlations for each feature set in the dataframe\n",
    "corr_matrix = df.corr()\n",
    "# Create a boolean mask for all values on or above the matrix diagonal \n",
    "corr_matrix_mask = np.triu(np.ones_like(df.corr(), dtype=bool));"
   ]
  },
  {
   "cell_type": "code",
   "execution_count": 8,
   "metadata": {},
   "outputs": [
    {
     "data": {
      "image/png": "[encoded data removed]",
      "text/plain": [
       "<Figure size 1080x1080 with 2 Axes>"
      ]
     },
     "metadata": {
      "needs_background": "light"
     },
     "output_type": "display_data"
    }
   ],
   "source": [
    "# Creates a heat map of correlation coefficient\n",
    "fig, ax = plt.subplots(figsize  =(15,15))\n",
    "sns.heatmap(\n",
    "            corr_matrix, \n",
    "            ax=ax, \n",
    "            annot=True, \n",
    "            mask= corr_matrix_mask,\n",
    "            cbar_kws={\"label\": \"Correlation\", \"orientation\": \"horizontal\", \"pad\": .2, \"extend\": \"both\"}\n",
    ");"
   ]
  },
  {
   "cell_type": "code",
   "execution_count": 9,
   "metadata": {},
   "outputs": [
    {
     "data": {
      "image/png": "[encoded data removed]",
      "text/plain": [
       "<Figure size 288x720 with 2 Axes>"
      ]
     },
     "metadata": {
      "needs_background": "light"
     },
     "output_type": "display_data"
    }
   ],
   "source": [
    "# Price will be our target value to predict, so we'll zero in on its correlations.\n",
    "plt.figure(figsize=(4,10))\n",
    "heatmap = sns.heatmap(df.corr()[['price']].sort_values(by='price', ascending=False), vmin=-1, vmax=1, linewidths=1, linecolor='black', annot=True, fmt='.2g', cmap=\"gist_heat\")"
   ]
  },
  {
   "cell_type": "code",
   "execution_count": 10,
   "metadata": {},
   "outputs": [
    {
     "data": {
      "image/png": "[encoded data removed]",
      "text/plain": [
       "<Figure size 864x864 with 18 Axes>"
      ]
     },
     "metadata": {
      "needs_background": "light"
     },
     "output_type": "display_data"
    }
   ],
   "source": [
    "x = df.drop('price', axis=1)\n",
    "y= df.price\n",
    "fig, axes = plt.subplots(ncols=3, nrows=6, figsize=(12, 12))\n",
    "fig.set_tight_layout(True)\n",
    "for index, col in enumerate(x.columns):\n",
    "    ax = axes[index//3][index%3]\n",
    "    ax.scatter(x[col], y, alpha=0.2)\n",
    "    ax.set_xlabel(col)\n",
    "    ax.set_ylabel(\"House price\")"
   ]
  },
  {
   "cell_type": "markdown",
   "metadata": {},
   "source": [
    "# Model Building"
   ]
  },
  {
   "cell_type": "markdown",
   "metadata": {},
   "source": [
    "## Baseline Model"
   ]
  },
  {
   "cell_type": "code",
   "execution_count": 11,
   "metadata": {},
   "outputs": [],
   "source": [
    "# Drop the new 'age' column and our target column 'price' for the indep. features\n",
    "X = df.drop(['price', 'age'], axis = 1)\n",
    "\n",
    "# Set our dependent variable as price\n",
    "y = df.price\n",
    "  \n",
    "# Split up our independent and dependent variables into training and test sets\n",
    "X_train, X_test, y_train, y_test = train_test_split(X, y, test_size=0.2, random_state=42)"
   ]
  },
  {
   "cell_type": "code",
   "execution_count": 12,
   "metadata": {},
   "outputs": [
    {
     "name": "stdout",
     "output_type": "stream",
     "text": [
      "0.6749653844713062\n"
     ]
    }
   ],
   "source": [
    "# Trains our model on our baseline values\n",
    "lm = LinearRegression().fit(X_train, y_train)\n",
    "\n",
    "lm_dummy_mean = DummyRegressor(strategy = 'mean').fit(X_train, y_train)\n",
    "\n",
    "y_predict = lm.predict(X_test)\n",
    "y_predict_dummy_mean = lm_dummy_mean.predict(X_test)\n",
    "\n",
    "print(r2_score(y_test, y_predict))"
   ]
  },
  {
   "cell_type": "markdown",
   "metadata": {},
   "source": [
    "### Model 1:  including 'age'"
   ]
  },
  {
   "cell_type": "code",
   "execution_count": 13,
   "metadata": {},
   "outputs": [],
   "source": [
    "# Drop the dependent variable from the independent columns\n",
    "X = df.drop(['price'], axis = 1)\n",
    "\n",
    "# Set our dependent variable as price\n",
    "y = df['price']\n",
    "\n",
    "# Split up our independent and dependent variables into training and test sets\n",
    "X_train, X_test, y_train, y_test = train_test_split(X, y, test_size=0.2, random_state=42)"
   ]
  },
  {
   "cell_type": "code",
   "execution_count": 14,
   "metadata": {},
   "outputs": [],
   "source": [
    "# Initialize an empty regression model\n",
    "lr = LinearRegression()\n",
    "\n",
    "# Fits the model to our training dataset\n",
    "lr.fit(X_train, y_train)\n",
    "\n",
    "pred_lr = lr.predict(X_test)\n",
    "\n",
    "train_score_lr = lr.score(X_train, y_train)\n",
    "test_score_lr = lr.score(X_test, y_test)"
   ]
  },
  {
   "cell_type": "code",
   "execution_count": 15,
   "metadata": {},
   "outputs": [
    {
     "data": {
      "text/plain": [
       "-37275.51245513256"
      ]
     },
     "execution_count": 15,
     "metadata": {},
     "output_type": "execute_result"
    }
   ],
   "source": [
    "lr.coef_[0]"
   ]
  },
  {
   "cell_type": "code",
   "execution_count": 16,
   "metadata": {},
   "outputs": [
    {
     "data": {
      "text/plain": [
       "2351046.7489005704"
      ]
     },
     "execution_count": 16,
     "metadata": {},
     "output_type": "execute_result"
    }
   ],
   "source": [
    "lr.intercept_"
   ]
  },
  {
   "cell_type": "code",
   "execution_count": 17,
   "metadata": {},
   "outputs": [],
   "source": [
    "rmse_lr = mean_squared_error(y_test, pred_lr, squared=False)"
   ]
  },
  {
   "cell_type": "code",
   "execution_count": 18,
   "metadata": {},
   "outputs": [
    {
     "data": {
      "text/plain": [
       "(0.7026591179673134, 0.6931727130407599, 205731.067714451)"
      ]
     },
     "execution_count": 18,
     "metadata": {},
     "output_type": "execute_result"
    }
   ],
   "source": [
    "train_score_lr, test_score_lr, rmse_lr"
   ]
  },
  {
   "cell_type": "code",
   "execution_count": 19,
   "metadata": {},
   "outputs": [
    {
     "data": {
      "image/png": "[encoded data removed]",
      "text/plain": [
       "<Figure size 432x288 with 1 Axes>"
      ]
     },
     "metadata": {
      "needs_background": "light"
     },
     "output_type": "display_data"
    }
   ],
   "source": [
    "# Checking the QQ Plot\n",
    "residuals = (y_test - pred_lr)\n",
    "sm.graphics.qqplot(residuals, dist=stats.norm, line=\"45\", fit=True);"
   ]
  },
  {
   "cell_type": "markdown",
   "metadata": {},
   "source": [
    "### Model 2: log transform 'price'"
   ]
  },
  {
   "cell_type": "code",
   "execution_count": 20,
   "metadata": {},
   "outputs": [],
   "source": [
    "# Drop the dependent variable from the independent columns\n",
    "X = df.drop(['price'], axis = 1)\n",
    "\n",
    "# Set our dependent variable as the natural log of price\n",
    "y = np.log(df['price'])\n",
    "\n",
    "# Split up our independent and dependent variables into training and test sets\n",
    "X_train, X_test, y_train, y_test = train_test_split(X, y, test_size=0.2, random_state=42)"
   ]
  },
  {
   "cell_type": "code",
   "execution_count": 21,
   "metadata": {},
   "outputs": [],
   "source": [
    "# Initialize an empty regression model\n",
    "lr = LinearRegression()\n",
    "\n",
    "# Fits the model to our training dataset\n",
    "lr.fit(X_train, y_train)\n",
    "\n",
    "pred_lr = lr.predict(X_test)"
   ]
  },
  {
   "cell_type": "code",
   "execution_count": 22,
   "metadata": {},
   "outputs": [],
   "source": [
    "train_score_lr = lr.score(X_train, y_train)\n",
    "test_score_lr = lr.score(X_test, y_test)"
   ]
  },
  {
   "cell_type": "code",
   "execution_count": 23,
   "metadata": {},
   "outputs": [
    {
     "data": {
      "text/plain": [
       "-0.013883860421758895"
      ]
     },
     "execution_count": 23,
     "metadata": {},
     "output_type": "execute_result"
    }
   ],
   "source": [
    "lr.coef_[0]"
   ]
  },
  {
   "cell_type": "code",
   "execution_count": 24,
   "metadata": {},
   "outputs": [
    {
     "data": {
      "text/plain": [
       "-10.505785713152028"
      ]
     },
     "execution_count": 24,
     "metadata": {},
     "output_type": "execute_result"
    }
   ],
   "source": [
    "lr.intercept_"
   ]
  },
  {
   "cell_type": "code",
   "execution_count": 25,
   "metadata": {},
   "outputs": [],
   "source": [
    "rmse_lr = mean_squared_error(y_test, pred_lr, squared=False)"
   ]
  },
  {
   "cell_type": "code",
   "execution_count": 26,
   "metadata": {},
   "outputs": [
    {
     "data": {
      "text/plain": [
       "(0.7716633054371125, 0.7649036245277586, 0.2571759340333034)"
      ]
     },
     "execution_count": 26,
     "metadata": {},
     "output_type": "execute_result"
    }
   ],
   "source": [
    "train_score_lr, test_score_lr, rmse_lr"
   ]
  },
  {
   "cell_type": "markdown",
   "metadata": {},
   "source": [
    "### Checking the VIF Score"
   ]
  },
  {
   "cell_type": "code",
   "execution_count": 27,
   "metadata": {},
   "outputs": [
    {
     "name": "stdout",
     "output_type": "stream",
     "text": [
      "    VIF Factor       features\n",
      "0    4432748.0          const\n",
      "1          3.3          price\n",
      "2          1.7       bedrooms\n",
      "3          3.4      bathrooms\n",
      "4        146.5    sqft_living\n",
      "5          2.1       sqft_lot\n",
      "6          2.0         floors\n",
      "7          1.2     waterfront\n",
      "8          1.5           view\n",
      "9          1.2      condition\n",
      "10         3.7          grade\n",
      "11       119.0     sqft_above\n",
      "12        32.9  sqft_basement\n",
      "13         1.1   yr_renovated\n",
      "14         1.7        zipcode\n",
      "15         1.4            lat\n",
      "16         1.8           long\n",
      "17         3.0  sqft_living15\n",
      "18         2.1     sqft_lot15\n",
      "19         2.5            age\n"
     ]
    }
   ],
   "source": [
    "# Making a constant column\n",
    "df_temp = sm.add_constant(df)\n",
    "\n",
    "vif = pd.DataFrame()\n",
    "vif[\"VIF Factor\"] = [variance_inflation_factor(df_temp.values, i) for i in range(df_temp.values.shape[1])]\n",
    "vif[\"features\"] = df_temp.columns\n",
    "\n",
    "print(vif.round(1))"
   ]
  },
  {
   "cell_type": "code",
   "execution_count": 28,
   "metadata": {},
   "outputs": [
    {
     "data": {
      "image/png": "[encoded data removed]",
      "text/plain": [
       "<Figure size 432x288 with 1 Axes>"
      ]
     },
     "metadata": {
      "needs_background": "light"
     },
     "output_type": "display_data"
    }
   ],
   "source": [
    "# Making the QQ Plot\n",
    "residuals = (y_test - pred_lr)\n",
    "sm.graphics.qqplot(residuals, dist=stats.norm, line=\"45\", fit=True);"
   ]
  },
  {
   "cell_type": "markdown",
   "metadata": {},
   "source": [
    "### Model 3:  creating dummy columns for zip code"
   ]
  },
  {
   "cell_type": "code",
   "execution_count": 29,
   "metadata": {},
   "outputs": [],
   "source": [
    "# Adds dummy zipcode columns\n",
    "df = df.join(pd.get_dummies(df['zipcode'], prefix = 'x', drop_first = True))"
   ]
  },
  {
   "cell_type": "code",
   "execution_count": 30,
   "metadata": {},
   "outputs": [],
   "source": [
    "# Drop the dependent variable from the independent columns\n",
    "X = df.drop(['price'], axis = 1)\n",
    "\n",
    "# Set our dependent variable as the natural log of price\n",
    "y = np.log(df['price'])\n",
    "\n",
    "# Split up our independent and dependent variables into training and test sets\n",
    "X_train, X_test, y_train, y_test = train_test_split(X, y, test_size=0.2, random_state=42)"
   ]
  },
  {
   "cell_type": "code",
   "execution_count": 31,
   "metadata": {},
   "outputs": [
    {
     "data": {
      "text/plain": [
       "LinearRegression()"
      ]
     },
     "execution_count": 31,
     "metadata": {},
     "output_type": "execute_result"
    }
   ],
   "source": [
    "# Initialize an empty regression model\n",
    "lr = LinearRegression()\n",
    "\n",
    "# Fits the model to our training dataset\n",
    "lr.fit(X_train, y_train)"
   ]
  },
  {
   "cell_type": "code",
   "execution_count": 32,
   "metadata": {},
   "outputs": [],
   "source": [
    "pred_lr = lr.predict(X_test)"
   ]
  },
  {
   "cell_type": "code",
   "execution_count": 33,
   "metadata": {},
   "outputs": [],
   "source": [
    "train_score_lr = lr.score(X_train, y_train)\n",
    "test_score_lr = lr.score(X_test, y_test)"
   ]
  },
  {
   "cell_type": "code",
   "execution_count": 34,
   "metadata": {},
   "outputs": [
    {
     "data": {
      "text/plain": [
       "0.004176496547229852"
      ]
     },
     "execution_count": 34,
     "metadata": {},
     "output_type": "execute_result"
    }
   ],
   "source": [
    "lr.coef_[0]"
   ]
  },
  {
   "cell_type": "code",
   "execution_count": 35,
   "metadata": {},
   "outputs": [
    {
     "data": {
      "text/plain": [
       "-342.44235822476014"
      ]
     },
     "execution_count": 35,
     "metadata": {},
     "output_type": "execute_result"
    }
   ],
   "source": [
    "lr.intercept_"
   ]
  },
  {
   "cell_type": "code",
   "execution_count": 36,
   "metadata": {},
   "outputs": [],
   "source": [
    "rmse_lr = mean_squared_error(y_test, pred_lr, squared=False)"
   ]
  },
  {
   "cell_type": "code",
   "execution_count": 37,
   "metadata": {},
   "outputs": [
    {
     "data": {
      "text/plain": [
       "(0.8783623094453445, 0.870205934582565, 0.19108859922890828)"
      ]
     },
     "execution_count": 37,
     "metadata": {},
     "output_type": "execute_result"
    }
   ],
   "source": [
    "train_score_lr, test_score_lr, rmse_lr"
   ]
  },
  {
   "cell_type": "code",
   "execution_count": 38,
   "metadata": {
    "scrolled": true
   },
   "outputs": [
    {
     "data": {
      "text/html": [
       "<table class=\"simpletable\">\n",
       "<caption>OLS Regression Results</caption>\n",
       "<tr>\n",
       "  <th>Dep. Variable:</th>          <td>price</td>      <th>  R-squared:         </th>  <td>   0.877</td> \n",
       "</tr>\n",
       "<tr>\n",
       "  <th>Model:</th>                   <td>OLS</td>       <th>  Adj. R-squared:    </th>  <td>   0.876</td> \n",
       "</tr>\n",
       "<tr>\n",
       "  <th>Method:</th>             <td>Least Squares</td>  <th>  F-statistic:       </th>  <td>   1776.</td> \n",
       "</tr>\n",
       "<tr>\n",
       "  <th>Date:</th>             <td>Wed, 14 Jul 2021</td> <th>  Prob (F-statistic):</th>   <td>  0.00</td>  \n",
       "</tr>\n",
       "<tr>\n",
       "  <th>Time:</th>                 <td>10:37:04</td>     <th>  Log-Likelihood:    </th>  <td>  5816.2</td> \n",
       "</tr>\n",
       "<tr>\n",
       "  <th>No. Observations:</th>      <td> 21533</td>      <th>  AIC:               </th> <td>-1.146e+04</td>\n",
       "</tr>\n",
       "<tr>\n",
       "  <th>Df Residuals:</th>          <td> 21446</td>      <th>  BIC:               </th> <td>-1.076e+04</td>\n",
       "</tr>\n",
       "<tr>\n",
       "  <th>Df Model:</th>              <td>    86</td>      <th>                     </th>      <td> </td>    \n",
       "</tr>\n",
       "<tr>\n",
       "  <th>Covariance Type:</th>      <td>nonrobust</td>    <th>                     </th>      <td> </td>    \n",
       "</tr>\n",
       "</table>\n",
       "<table class=\"simpletable\">\n",
       "<tr>\n",
       "        <td></td>           <th>coef</th>     <th>std err</th>      <th>t</th>      <th>P>|t|</th>  <th>[0.025</th>    <th>0.975]</th>  \n",
       "</tr>\n",
       "<tr>\n",
       "  <th>const</th>         <td>   -0.0227</td> <td>    0.001</td> <td>  -20.735</td> <td> 0.000</td> <td>   -0.025</td> <td>   -0.021</td>\n",
       "</tr>\n",
       "<tr>\n",
       "  <th>bedrooms</th>      <td>    0.0030</td> <td>    0.002</td> <td>    1.596</td> <td> 0.110</td> <td>   -0.001</td> <td>    0.007</td>\n",
       "</tr>\n",
       "<tr>\n",
       "  <th>bathrooms</th>     <td>    0.0416</td> <td>    0.003</td> <td>   13.689</td> <td> 0.000</td> <td>    0.036</td> <td>    0.048</td>\n",
       "</tr>\n",
       "<tr>\n",
       "  <th>sqft_living</th>   <td>    0.0001</td> <td> 1.67e-05</td> <td>    6.625</td> <td> 0.000</td> <td> 7.77e-05</td> <td>    0.000</td>\n",
       "</tr>\n",
       "<tr>\n",
       "  <th>sqft_lot</th>      <td> 6.072e-07</td> <td> 4.43e-08</td> <td>   13.711</td> <td> 0.000</td> <td>  5.2e-07</td> <td> 6.94e-07</td>\n",
       "</tr>\n",
       "<tr>\n",
       "  <th>floors</th>        <td>   -0.0300</td> <td>    0.004</td> <td>   -8.230</td> <td> 0.000</td> <td>   -0.037</td> <td>   -0.023</td>\n",
       "</tr>\n",
       "<tr>\n",
       "  <th>waterfront</th>    <td>    0.4589</td> <td>    0.017</td> <td>   26.977</td> <td> 0.000</td> <td>    0.426</td> <td>    0.492</td>\n",
       "</tr>\n",
       "<tr>\n",
       "  <th>view</th>          <td>    0.0602</td> <td>    0.002</td> <td>   29.985</td> <td> 0.000</td> <td>    0.056</td> <td>    0.064</td>\n",
       "</tr>\n",
       "<tr>\n",
       "  <th>condition</th>     <td>    0.0573</td> <td>    0.002</td> <td>   25.891</td> <td> 0.000</td> <td>    0.053</td> <td>    0.062</td>\n",
       "</tr>\n",
       "<tr>\n",
       "  <th>grade</th>         <td>    0.0936</td> <td>    0.002</td> <td>   44.492</td> <td> 0.000</td> <td>    0.089</td> <td>    0.098</td>\n",
       "</tr>\n",
       "<tr>\n",
       "  <th>sqft_above</th>    <td> 8.705e-05</td> <td> 1.67e-05</td> <td>    5.216</td> <td> 0.000</td> <td> 5.43e-05</td> <td>    0.000</td>\n",
       "</tr>\n",
       "<tr>\n",
       "  <th>sqft_basement</th> <td> 1.388e-05</td> <td> 1.65e-05</td> <td>    0.842</td> <td> 0.400</td> <td>-1.84e-05</td> <td> 4.62e-05</td>\n",
       "</tr>\n",
       "<tr>\n",
       "  <th>yr_renovated</th>  <td> 3.939e-05</td> <td> 3.69e-06</td> <td>   10.685</td> <td> 0.000</td> <td> 3.22e-05</td> <td> 4.66e-05</td>\n",
       "</tr>\n",
       "<tr>\n",
       "  <th>zipcode</th>       <td>   -0.0006</td> <td> 7.22e-05</td> <td>   -8.515</td> <td> 0.000</td> <td>   -0.001</td> <td>   -0.000</td>\n",
       "</tr>\n",
       "<tr>\n",
       "  <th>lat</th>           <td>    0.5214</td> <td>    0.073</td> <td>    7.130</td> <td> 0.000</td> <td>    0.378</td> <td>    0.665</td>\n",
       "</tr>\n",
       "<tr>\n",
       "  <th>long</th>          <td>   -0.3815</td> <td>    0.053</td> <td>   -7.264</td> <td> 0.000</td> <td>   -0.484</td> <td>   -0.279</td>\n",
       "</tr>\n",
       "<tr>\n",
       "  <th>sqft_living15</th> <td> 8.424e-05</td> <td> 3.33e-06</td> <td>   25.282</td> <td> 0.000</td> <td> 7.77e-05</td> <td> 9.08e-05</td>\n",
       "</tr>\n",
       "<tr>\n",
       "  <th>sqft_lot15</th>    <td> 7.774e-08</td> <td> 6.97e-08</td> <td>    1.115</td> <td> 0.265</td> <td> -5.9e-08</td> <td> 2.14e-07</td>\n",
       "</tr>\n",
       "<tr>\n",
       "  <th>age</th>           <td>    0.0005</td> <td> 7.41e-05</td> <td>    6.544</td> <td> 0.000</td> <td>    0.000</td> <td>    0.001</td>\n",
       "</tr>\n",
       "<tr>\n",
       "  <th>x_98002</th>       <td>   -0.0139</td> <td>    0.017</td> <td>   -0.835</td> <td> 0.404</td> <td>   -0.047</td> <td>    0.019</td>\n",
       "</tr>\n",
       "<tr>\n",
       "  <th>x_98003</th>       <td>   -0.0089</td> <td>    0.015</td> <td>   -0.600</td> <td> 0.549</td> <td>   -0.038</td> <td>    0.020</td>\n",
       "</tr>\n",
       "<tr>\n",
       "  <th>x_98004</th>       <td>    0.9494</td> <td>    0.027</td> <td>   35.077</td> <td> 0.000</td> <td>    0.896</td> <td>    1.002</td>\n",
       "</tr>\n",
       "<tr>\n",
       "  <th>x_98005</th>       <td>    0.5988</td> <td>    0.029</td> <td>   20.700</td> <td> 0.000</td> <td>    0.542</td> <td>    0.655</td>\n",
       "</tr>\n",
       "<tr>\n",
       "  <th>x_98006</th>       <td>    0.5254</td> <td>    0.024</td> <td>   22.197</td> <td> 0.000</td> <td>    0.479</td> <td>    0.572</td>\n",
       "</tr>\n",
       "<tr>\n",
       "  <th>x_98007</th>       <td>    0.5310</td> <td>    0.030</td> <td>   17.791</td> <td> 0.000</td> <td>    0.473</td> <td>    0.590</td>\n",
       "</tr>\n",
       "<tr>\n",
       "  <th>x_98008</th>       <td>    0.5396</td> <td>    0.028</td> <td>   19.024</td> <td> 0.000</td> <td>    0.484</td> <td>    0.595</td>\n",
       "</tr>\n",
       "<tr>\n",
       "  <th>x_98010</th>       <td>    0.3356</td> <td>    0.026</td> <td>   13.043</td> <td> 0.000</td> <td>    0.285</td> <td>    0.386</td>\n",
       "</tr>\n",
       "<tr>\n",
       "  <th>x_98011</th>       <td>    0.2428</td> <td>    0.037</td> <td>    6.604</td> <td> 0.000</td> <td>    0.171</td> <td>    0.315</td>\n",
       "</tr>\n",
       "<tr>\n",
       "  <th>x_98014</th>       <td>    0.2744</td> <td>    0.041</td> <td>    6.730</td> <td> 0.000</td> <td>    0.194</td> <td>    0.354</td>\n",
       "</tr>\n",
       "<tr>\n",
       "  <th>x_98019</th>       <td>    0.2350</td> <td>    0.040</td> <td>    5.863</td> <td> 0.000</td> <td>    0.156</td> <td>    0.314</td>\n",
       "</tr>\n",
       "<tr>\n",
       "  <th>x_98022</th>       <td>    0.2011</td> <td>    0.023</td> <td>    8.663</td> <td> 0.000</td> <td>    0.156</td> <td>    0.247</td>\n",
       "</tr>\n",
       "<tr>\n",
       "  <th>x_98023</th>       <td>   -0.0605</td> <td>    0.013</td> <td>   -4.533</td> <td> 0.000</td> <td>   -0.087</td> <td>   -0.034</td>\n",
       "</tr>\n",
       "<tr>\n",
       "  <th>x_98024</th>       <td>    0.4327</td> <td>    0.036</td> <td>   11.953</td> <td> 0.000</td> <td>    0.362</td> <td>    0.504</td>\n",
       "</tr>\n",
       "<tr>\n",
       "  <th>x_98027</th>       <td>    0.4870</td> <td>    0.025</td> <td>   19.727</td> <td> 0.000</td> <td>    0.439</td> <td>    0.535</td>\n",
       "</tr>\n",
       "<tr>\n",
       "  <th>x_98028</th>       <td>    0.2086</td> <td>    0.035</td> <td>    5.917</td> <td> 0.000</td> <td>    0.140</td> <td>    0.278</td>\n",
       "</tr>\n",
       "<tr>\n",
       "  <th>x_98029</th>       <td>    0.5756</td> <td>    0.028</td> <td>   20.434</td> <td> 0.000</td> <td>    0.520</td> <td>    0.631</td>\n",
       "</tr>\n",
       "<tr>\n",
       "  <th>x_98030</th>       <td>    0.0686</td> <td>    0.017</td> <td>    4.093</td> <td> 0.000</td> <td>    0.036</td> <td>    0.101</td>\n",
       "</tr>\n",
       "<tr>\n",
       "  <th>x_98031</th>       <td>    0.0687</td> <td>    0.017</td> <td>    3.967</td> <td> 0.000</td> <td>    0.035</td> <td>    0.103</td>\n",
       "</tr>\n",
       "<tr>\n",
       "  <th>x_98032</th>       <td>   -0.0586</td> <td>    0.020</td> <td>   -2.970</td> <td> 0.003</td> <td>   -0.097</td> <td>   -0.020</td>\n",
       "</tr>\n",
       "<tr>\n",
       "  <th>x_98033</th>       <td>    0.6255</td> <td>    0.030</td> <td>   20.649</td> <td> 0.000</td> <td>    0.566</td> <td>    0.685</td>\n",
       "</tr>\n",
       "<tr>\n",
       "  <th>x_98034</th>       <td>    0.3620</td> <td>    0.032</td> <td>   11.183</td> <td> 0.000</td> <td>    0.299</td> <td>    0.425</td>\n",
       "</tr>\n",
       "<tr>\n",
       "  <th>x_98038</th>       <td>    0.2486</td> <td>    0.020</td> <td>   12.510</td> <td> 0.000</td> <td>    0.210</td> <td>    0.288</td>\n",
       "</tr>\n",
       "<tr>\n",
       "  <th>x_98039</th>       <td>    1.0728</td> <td>    0.036</td> <td>   29.718</td> <td> 0.000</td> <td>    1.002</td> <td>    1.144</td>\n",
       "</tr>\n",
       "<tr>\n",
       "  <th>x_98040</th>       <td>    0.7470</td> <td>    0.023</td> <td>   31.790</td> <td> 0.000</td> <td>    0.701</td> <td>    0.793</td>\n",
       "</tr>\n",
       "<tr>\n",
       "  <th>x_98042</th>       <td>    0.1092</td> <td>    0.017</td> <td>    6.440</td> <td> 0.000</td> <td>    0.076</td> <td>    0.142</td>\n",
       "</tr>\n",
       "<tr>\n",
       "  <th>x_98045</th>       <td>    0.4599</td> <td>    0.036</td> <td>   12.837</td> <td> 0.000</td> <td>    0.390</td> <td>    0.530</td>\n",
       "</tr>\n",
       "<tr>\n",
       "  <th>x_98052</th>       <td>    0.5207</td> <td>    0.031</td> <td>   16.741</td> <td> 0.000</td> <td>    0.460</td> <td>    0.582</td>\n",
       "</tr>\n",
       "<tr>\n",
       "  <th>x_98053</th>       <td>    0.5037</td> <td>    0.034</td> <td>   14.876</td> <td> 0.000</td> <td>    0.437</td> <td>    0.570</td>\n",
       "</tr>\n",
       "<tr>\n",
       "  <th>x_98055</th>       <td>    0.1108</td> <td>    0.019</td> <td>    5.798</td> <td> 0.000</td> <td>    0.073</td> <td>    0.148</td>\n",
       "</tr>\n",
       "<tr>\n",
       "  <th>x_98056</th>       <td>    0.2670</td> <td>    0.021</td> <td>   12.933</td> <td> 0.000</td> <td>    0.227</td> <td>    0.308</td>\n",
       "</tr>\n",
       "<tr>\n",
       "  <th>x_98058</th>       <td>    0.1672</td> <td>    0.019</td> <td>    8.907</td> <td> 0.000</td> <td>    0.130</td> <td>    0.204</td>\n",
       "</tr>\n",
       "<tr>\n",
       "  <th>x_98059</th>       <td>    0.3148</td> <td>    0.021</td> <td>   15.155</td> <td> 0.000</td> <td>    0.274</td> <td>    0.356</td>\n",
       "</tr>\n",
       "<tr>\n",
       "  <th>x_98065</th>       <td>    0.4656</td> <td>    0.033</td> <td>   13.946</td> <td> 0.000</td> <td>    0.400</td> <td>    0.531</td>\n",
       "</tr>\n",
       "<tr>\n",
       "  <th>x_98070</th>       <td>    0.2382</td> <td>    0.022</td> <td>   10.966</td> <td> 0.000</td> <td>    0.196</td> <td>    0.281</td>\n",
       "</tr>\n",
       "<tr>\n",
       "  <th>x_98072</th>       <td>    0.3501</td> <td>    0.036</td> <td>    9.706</td> <td> 0.000</td> <td>    0.279</td> <td>    0.421</td>\n",
       "</tr>\n",
       "<tr>\n",
       "  <th>x_98074</th>       <td>    0.5076</td> <td>    0.030</td> <td>   16.736</td> <td> 0.000</td> <td>    0.448</td> <td>    0.567</td>\n",
       "</tr>\n",
       "<tr>\n",
       "  <th>x_98075</th>       <td>    0.5284</td> <td>    0.030</td> <td>   17.847</td> <td> 0.000</td> <td>    0.470</td> <td>    0.586</td>\n",
       "</tr>\n",
       "<tr>\n",
       "  <th>x_98077</th>       <td>    0.3280</td> <td>    0.038</td> <td>    8.623</td> <td> 0.000</td> <td>    0.253</td> <td>    0.403</td>\n",
       "</tr>\n",
       "<tr>\n",
       "  <th>x_98092</th>       <td>    0.1181</td> <td>    0.018</td> <td>    6.496</td> <td> 0.000</td> <td>    0.082</td> <td>    0.154</td>\n",
       "</tr>\n",
       "<tr>\n",
       "  <th>x_98102</th>       <td>    0.7950</td> <td>    0.030</td> <td>   26.765</td> <td> 0.000</td> <td>    0.737</td> <td>    0.853</td>\n",
       "</tr>\n",
       "<tr>\n",
       "  <th>x_98103</th>       <td>    0.6389</td> <td>    0.027</td> <td>   23.739</td> <td> 0.000</td> <td>    0.586</td> <td>    0.692</td>\n",
       "</tr>\n",
       "<tr>\n",
       "  <th>x_98105</th>       <td>    0.7851</td> <td>    0.028</td> <td>   27.593</td> <td> 0.000</td> <td>    0.729</td> <td>    0.841</td>\n",
       "</tr>\n",
       "<tr>\n",
       "  <th>x_98106</th>       <td>    0.2298</td> <td>    0.019</td> <td>   11.821</td> <td> 0.000</td> <td>    0.192</td> <td>    0.268</td>\n",
       "</tr>\n",
       "<tr>\n",
       "  <th>x_98107</th>       <td>    0.6500</td> <td>    0.028</td> <td>   23.628</td> <td> 0.000</td> <td>    0.596</td> <td>    0.704</td>\n",
       "</tr>\n",
       "<tr>\n",
       "  <th>x_98108</th>       <td>    0.2663</td> <td>    0.023</td> <td>   11.765</td> <td> 0.000</td> <td>    0.222</td> <td>    0.311</td>\n",
       "</tr>\n",
       "<tr>\n",
       "  <th>x_98109</th>       <td>    0.8285</td> <td>    0.029</td> <td>   28.464</td> <td> 0.000</td> <td>    0.771</td> <td>    0.886</td>\n",
       "</tr>\n",
       "<tr>\n",
       "  <th>x_98112</th>       <td>    0.9043</td> <td>    0.026</td> <td>   34.822</td> <td> 0.000</td> <td>    0.853</td> <td>    0.955</td>\n",
       "</tr>\n",
       "<tr>\n",
       "  <th>x_98115</th>       <td>    0.6603</td> <td>    0.028</td> <td>   23.808</td> <td> 0.000</td> <td>    0.606</td> <td>    0.715</td>\n",
       "</tr>\n",
       "<tr>\n",
       "  <th>x_98116</th>       <td>    0.6243</td> <td>    0.021</td> <td>   29.510</td> <td> 0.000</td> <td>    0.583</td> <td>    0.666</td>\n",
       "</tr>\n",
       "<tr>\n",
       "  <th>x_98117</th>       <td>    0.6201</td> <td>    0.027</td> <td>   22.935</td> <td> 0.000</td> <td>    0.567</td> <td>    0.673</td>\n",
       "</tr>\n",
       "<tr>\n",
       "  <th>x_98118</th>       <td>    0.3853</td> <td>    0.020</td> <td>   19.060</td> <td> 0.000</td> <td>    0.346</td> <td>    0.425</td>\n",
       "</tr>\n",
       "<tr>\n",
       "  <th>x_98119</th>       <td>    0.8154</td> <td>    0.027</td> <td>   30.462</td> <td> 0.000</td> <td>    0.763</td> <td>    0.868</td>\n",
       "</tr>\n",
       "<tr>\n",
       "  <th>x_98122</th>       <td>    0.6849</td> <td>    0.025</td> <td>   27.921</td> <td> 0.000</td> <td>    0.637</td> <td>    0.733</td>\n",
       "</tr>\n",
       "<tr>\n",
       "  <th>x_98125</th>       <td>    0.4056</td> <td>    0.030</td> <td>   13.536</td> <td> 0.000</td> <td>    0.347</td> <td>    0.464</td>\n",
       "</tr>\n",
       "<tr>\n",
       "  <th>x_98126</th>       <td>    0.4347</td> <td>    0.019</td> <td>   22.419</td> <td> 0.000</td> <td>    0.397</td> <td>    0.473</td>\n",
       "</tr>\n",
       "<tr>\n",
       "  <th>x_98133</th>       <td>    0.2729</td> <td>    0.030</td> <td>    9.027</td> <td> 0.000</td> <td>    0.214</td> <td>    0.332</td>\n",
       "</tr>\n",
       "<tr>\n",
       "  <th>x_98136</th>       <td>    0.5792</td> <td>    0.020</td> <td>   29.269</td> <td> 0.000</td> <td>    0.540</td> <td>    0.618</td>\n",
       "</tr>\n",
       "<tr>\n",
       "  <th>x_98144</th>       <td>    0.5713</td> <td>    0.023</td> <td>   25.088</td> <td> 0.000</td> <td>    0.527</td> <td>    0.616</td>\n",
       "</tr>\n",
       "<tr>\n",
       "  <th>x_98146</th>       <td>    0.2189</td> <td>    0.018</td> <td>   12.053</td> <td> 0.000</td> <td>    0.183</td> <td>    0.254</td>\n",
       "</tr>\n",
       "<tr>\n",
       "  <th>x_98148</th>       <td>    0.1462</td> <td>    0.028</td> <td>    5.293</td> <td> 0.000</td> <td>    0.092</td> <td>    0.200</td>\n",
       "</tr>\n",
       "<tr>\n",
       "  <th>x_98155</th>       <td>    0.2645</td> <td>    0.032</td> <td>    8.307</td> <td> 0.000</td> <td>    0.202</td> <td>    0.327</td>\n",
       "</tr>\n",
       "<tr>\n",
       "  <th>x_98166</th>       <td>    0.2902</td> <td>    0.018</td> <td>   16.552</td> <td> 0.000</td> <td>    0.256</td> <td>    0.325</td>\n",
       "</tr>\n",
       "<tr>\n",
       "  <th>x_98168</th>       <td>    0.0548</td> <td>    0.019</td> <td>    2.844</td> <td> 0.004</td> <td>    0.017</td> <td>    0.092</td>\n",
       "</tr>\n",
       "<tr>\n",
       "  <th>x_98177</th>       <td>    0.4215</td> <td>    0.031</td> <td>   13.700</td> <td> 0.000</td> <td>    0.361</td> <td>    0.482</td>\n",
       "</tr>\n",
       "<tr>\n",
       "  <th>x_98178</th>       <td>    0.1496</td> <td>    0.022</td> <td>    6.903</td> <td> 0.000</td> <td>    0.107</td> <td>    0.192</td>\n",
       "</tr>\n",
       "<tr>\n",
       "  <th>x_98188</th>       <td>    0.1268</td> <td>    0.022</td> <td>    5.644</td> <td> 0.000</td> <td>    0.083</td> <td>    0.171</td>\n",
       "</tr>\n",
       "<tr>\n",
       "  <th>x_98198</th>       <td>    0.1137</td> <td>    0.018</td> <td>    6.236</td> <td> 0.000</td> <td>    0.078</td> <td>    0.149</td>\n",
       "</tr>\n",
       "<tr>\n",
       "  <th>x_98199</th>       <td>    0.7334</td> <td>    0.024</td> <td>   30.301</td> <td> 0.000</td> <td>    0.686</td> <td>    0.781</td>\n",
       "</tr>\n",
       "</table>\n",
       "<table class=\"simpletable\">\n",
       "<tr>\n",
       "  <th>Omnibus:</th>       <td>1971.836</td> <th>  Durbin-Watson:     </th> <td>   2.007</td>\n",
       "</tr>\n",
       "<tr>\n",
       "  <th>Prob(Omnibus):</th>  <td> 0.000</td>  <th>  Jarque-Bera (JB):  </th> <td>8920.015</td>\n",
       "</tr>\n",
       "<tr>\n",
       "  <th>Skew:</th>           <td>-0.350</td>  <th>  Prob(JB):          </th> <td>    0.00</td>\n",
       "</tr>\n",
       "<tr>\n",
       "  <th>Kurtosis:</th>       <td> 6.074</td>  <th>  Cond. No.          </th> <td>1.19e+20</td>\n",
       "</tr>\n",
       "</table><br/><br/>Notes:<br/>[1] Standard Errors assume that the covariance matrix of the errors is correctly specified.<br/>[2] The smallest eigenvalue is 1.53e-26. This might indicate that there are<br/>strong multicollinearity problems or that the design matrix is singular."
      ],
      "text/plain": [
       "<class 'statsmodels.iolib.summary.Summary'>\n",
       "\"\"\"\n",
       "                            OLS Regression Results                            \n",
       "==============================================================================\n",
       "Dep. Variable:                  price   R-squared:                       0.877\n",
       "Model:                            OLS   Adj. R-squared:                  0.876\n",
       "Method:                 Least Squares   F-statistic:                     1776.\n",
       "Date:                Wed, 14 Jul 2021   Prob (F-statistic):               0.00\n",
       "Time:                        10:37:04   Log-Likelihood:                 5816.2\n",
       "No. Observations:               21533   AIC:                        -1.146e+04\n",
       "Df Residuals:                   21446   BIC:                        -1.076e+04\n",
       "Df Model:                          86                                         \n",
       "Covariance Type:            nonrobust                                         \n",
       "=================================================================================\n",
       "                    coef    std err          t      P>|t|      [0.025      0.975]\n",
       "---------------------------------------------------------------------------------\n",
       "const            -0.0227      0.001    -20.735      0.000      -0.025      -0.021\n",
       "bedrooms          0.0030      0.002      1.596      0.110      -0.001       0.007\n",
       "bathrooms         0.0416      0.003     13.689      0.000       0.036       0.048\n",
       "sqft_living       0.0001   1.67e-05      6.625      0.000    7.77e-05       0.000\n",
       "sqft_lot       6.072e-07   4.43e-08     13.711      0.000     5.2e-07    6.94e-07\n",
       "floors           -0.0300      0.004     -8.230      0.000      -0.037      -0.023\n",
       "waterfront        0.4589      0.017     26.977      0.000       0.426       0.492\n",
       "view              0.0602      0.002     29.985      0.000       0.056       0.064\n",
       "condition         0.0573      0.002     25.891      0.000       0.053       0.062\n",
       "grade             0.0936      0.002     44.492      0.000       0.089       0.098\n",
       "sqft_above     8.705e-05   1.67e-05      5.216      0.000    5.43e-05       0.000\n",
       "sqft_basement  1.388e-05   1.65e-05      0.842      0.400   -1.84e-05    4.62e-05\n",
       "yr_renovated   3.939e-05   3.69e-06     10.685      0.000    3.22e-05    4.66e-05\n",
       "zipcode          -0.0006   7.22e-05     -8.515      0.000      -0.001      -0.000\n",
       "lat               0.5214      0.073      7.130      0.000       0.378       0.665\n",
       "long             -0.3815      0.053     -7.264      0.000      -0.484      -0.279\n",
       "sqft_living15  8.424e-05   3.33e-06     25.282      0.000    7.77e-05    9.08e-05\n",
       "sqft_lot15     7.774e-08   6.97e-08      1.115      0.265    -5.9e-08    2.14e-07\n",
       "age               0.0005   7.41e-05      6.544      0.000       0.000       0.001\n",
       "x_98002          -0.0139      0.017     -0.835      0.404      -0.047       0.019\n",
       "x_98003          -0.0089      0.015     -0.600      0.549      -0.038       0.020\n",
       "x_98004           0.9494      0.027     35.077      0.000       0.896       1.002\n",
       "x_98005           0.5988      0.029     20.700      0.000       0.542       0.655\n",
       "x_98006           0.5254      0.024     22.197      0.000       0.479       0.572\n",
       "x_98007           0.5310      0.030     17.791      0.000       0.473       0.590\n",
       "x_98008           0.5396      0.028     19.024      0.000       0.484       0.595\n",
       "x_98010           0.3356      0.026     13.043      0.000       0.285       0.386\n",
       "x_98011           0.2428      0.037      6.604      0.000       0.171       0.315\n",
       "x_98014           0.2744      0.041      6.730      0.000       0.194       0.354\n",
       "x_98019           0.2350      0.040      5.863      0.000       0.156       0.314\n",
       "x_98022           0.2011      0.023      8.663      0.000       0.156       0.247\n",
       "x_98023          -0.0605      0.013     -4.533      0.000      -0.087      -0.034\n",
       "x_98024           0.4327      0.036     11.953      0.000       0.362       0.504\n",
       "x_98027           0.4870      0.025     19.727      0.000       0.439       0.535\n",
       "x_98028           0.2086      0.035      5.917      0.000       0.140       0.278\n",
       "x_98029           0.5756      0.028     20.434      0.000       0.520       0.631\n",
       "x_98030           0.0686      0.017      4.093      0.000       0.036       0.101\n",
       "x_98031           0.0687      0.017      3.967      0.000       0.035       0.103\n",
       "x_98032          -0.0586      0.020     -2.970      0.003      -0.097      -0.020\n",
       "x_98033           0.6255      0.030     20.649      0.000       0.566       0.685\n",
       "x_98034           0.3620      0.032     11.183      0.000       0.299       0.425\n",
       "x_98038           0.2486      0.020     12.510      0.000       0.210       0.288\n",
       "x_98039           1.0728      0.036     29.718      0.000       1.002       1.144\n",
       "x_98040           0.7470      0.023     31.790      0.000       0.701       0.793\n",
       "x_98042           0.1092      0.017      6.440      0.000       0.076       0.142\n",
       "x_98045           0.4599      0.036     12.837      0.000       0.390       0.530\n",
       "x_98052           0.5207      0.031     16.741      0.000       0.460       0.582\n",
       "x_98053           0.5037      0.034     14.876      0.000       0.437       0.570\n",
       "x_98055           0.1108      0.019      5.798      0.000       0.073       0.148\n",
       "x_98056           0.2670      0.021     12.933      0.000       0.227       0.308\n",
       "x_98058           0.1672      0.019      8.907      0.000       0.130       0.204\n",
       "x_98059           0.3148      0.021     15.155      0.000       0.274       0.356\n",
       "x_98065           0.4656      0.033     13.946      0.000       0.400       0.531\n",
       "x_98070           0.2382      0.022     10.966      0.000       0.196       0.281\n",
       "x_98072           0.3501      0.036      9.706      0.000       0.279       0.421\n",
       "x_98074           0.5076      0.030     16.736      0.000       0.448       0.567\n",
       "x_98075           0.5284      0.030     17.847      0.000       0.470       0.586\n",
       "x_98077           0.3280      0.038      8.623      0.000       0.253       0.403\n",
       "x_98092           0.1181      0.018      6.496      0.000       0.082       0.154\n",
       "x_98102           0.7950      0.030     26.765      0.000       0.737       0.853\n",
       "x_98103           0.6389      0.027     23.739      0.000       0.586       0.692\n",
       "x_98105           0.7851      0.028     27.593      0.000       0.729       0.841\n",
       "x_98106           0.2298      0.019     11.821      0.000       0.192       0.268\n",
       "x_98107           0.6500      0.028     23.628      0.000       0.596       0.704\n",
       "x_98108           0.2663      0.023     11.765      0.000       0.222       0.311\n",
       "x_98109           0.8285      0.029     28.464      0.000       0.771       0.886\n",
       "x_98112           0.9043      0.026     34.822      0.000       0.853       0.955\n",
       "x_98115           0.6603      0.028     23.808      0.000       0.606       0.715\n",
       "x_98116           0.6243      0.021     29.510      0.000       0.583       0.666\n",
       "x_98117           0.6201      0.027     22.935      0.000       0.567       0.673\n",
       "x_98118           0.3853      0.020     19.060      0.000       0.346       0.425\n",
       "x_98119           0.8154      0.027     30.462      0.000       0.763       0.868\n",
       "x_98122           0.6849      0.025     27.921      0.000       0.637       0.733\n",
       "x_98125           0.4056      0.030     13.536      0.000       0.347       0.464\n",
       "x_98126           0.4347      0.019     22.419      0.000       0.397       0.473\n",
       "x_98133           0.2729      0.030      9.027      0.000       0.214       0.332\n",
       "x_98136           0.5792      0.020     29.269      0.000       0.540       0.618\n",
       "x_98144           0.5713      0.023     25.088      0.000       0.527       0.616\n",
       "x_98146           0.2189      0.018     12.053      0.000       0.183       0.254\n",
       "x_98148           0.1462      0.028      5.293      0.000       0.092       0.200\n",
       "x_98155           0.2645      0.032      8.307      0.000       0.202       0.327\n",
       "x_98166           0.2902      0.018     16.552      0.000       0.256       0.325\n",
       "x_98168           0.0548      0.019      2.844      0.004       0.017       0.092\n",
       "x_98177           0.4215      0.031     13.700      0.000       0.361       0.482\n",
       "x_98178           0.1496      0.022      6.903      0.000       0.107       0.192\n",
       "x_98188           0.1268      0.022      5.644      0.000       0.083       0.171\n",
       "x_98198           0.1137      0.018      6.236      0.000       0.078       0.149\n",
       "x_98199           0.7334      0.024     30.301      0.000       0.686       0.781\n",
       "==============================================================================\n",
       "Omnibus:                     1971.836   Durbin-Watson:                   2.007\n",
       "Prob(Omnibus):                  0.000   Jarque-Bera (JB):             8920.015\n",
       "Skew:                          -0.350   Prob(JB):                         0.00\n",
       "Kurtosis:                       6.074   Cond. No.                     1.19e+20\n",
       "==============================================================================\n",
       "\n",
       "Notes:\n",
       "[1] Standard Errors assume that the covariance matrix of the errors is correctly specified.\n",
       "[2] The smallest eigenvalue is 1.53e-26. This might indicate that there are\n",
       "strong multicollinearity problems or that the design matrix is singular.\n",
       "\"\"\""
      ]
     },
     "execution_count": 38,
     "metadata": {},
     "output_type": "execute_result"
    }
   ],
   "source": [
    "# Making an OLS table to check for significance\n",
    "X = sm.add_constant(X)\n",
    "sm.OLS(y, X).fit().summary()"
   ]
  },
  {
   "cell_type": "code",
   "execution_count": 39,
   "metadata": {},
   "outputs": [
    {
     "data": {
      "image/png": "[encoded data removed]",
      "text/plain": [
       "<Figure size 432x288 with 1 Axes>"
      ]
     },
     "metadata": {
      "needs_background": "light"
     },
     "output_type": "display_data"
    }
   ],
   "source": [
    "# Making the QQ Plot\n",
    "residuals = (y_test - pred_lr)\n",
    "sm.graphics.qqplot(residuals, dist=stats.norm, line=\"45\", fit=True);"
   ]
  },
  {
   "cell_type": "markdown",
   "metadata": {},
   "source": [
    "### Model 4:  dropping features with high p_values\n"
   ]
  },
  {
   "cell_type": "code",
   "execution_count": 40,
   "metadata": {},
   "outputs": [],
   "source": [
    "# Use summary above to drop features with high p_values\n",
    "X = df.drop(['price', 'x_98002', 'x_98003', 'sqft_basement', 'sqft_lot15'], axis = 1)\n",
    "\n",
    "# Set our dependent variable as the natural log of price\n",
    "y = np.log(df['price'])\n",
    "\n",
    "# Split up our independent and dependent variables into training and test sets\n",
    "X_train, X_test, y_train, y_test = train_test_split(X, y, test_size=0.2, random_state=42)"
   ]
  },
  {
   "cell_type": "code",
   "execution_count": 41,
   "metadata": {},
   "outputs": [
    {
     "data": {
      "text/plain": [
       "LinearRegression()"
      ]
     },
     "execution_count": 41,
     "metadata": {},
     "output_type": "execute_result"
    }
   ],
   "source": [
    "# Initialize an empty regression model\n",
    "lr = LinearRegression()\n",
    "\n",
    "# Fits the model to our training dataset\n",
    "lr.fit(X_train, y_train)"
   ]
  },
  {
   "cell_type": "code",
   "execution_count": 42,
   "metadata": {},
   "outputs": [],
   "source": [
    "pred_lr = lr.predict(X_test)"
   ]
  },
  {
   "cell_type": "code",
   "execution_count": 43,
   "metadata": {},
   "outputs": [],
   "source": [
    "train_score_lr = lr.score(X_train, y_train)\n",
    "test_score_lr = lr.score(X_test, y_test)"
   ]
  },
  {
   "cell_type": "code",
   "execution_count": 44,
   "metadata": {},
   "outputs": [
    {
     "data": {
      "text/plain": [
       "0.0042019303533540105"
      ]
     },
     "execution_count": 44,
     "metadata": {},
     "output_type": "execute_result"
    }
   ],
   "source": [
    "lr.coef_[0]"
   ]
  },
  {
   "cell_type": "code",
   "execution_count": 45,
   "metadata": {},
   "outputs": [
    {
     "data": {
      "text/plain": [
       "249.5149070066243"
      ]
     },
     "execution_count": 45,
     "metadata": {},
     "output_type": "execute_result"
    }
   ],
   "source": [
    "lr.intercept_"
   ]
  },
  {
   "cell_type": "code",
   "execution_count": 46,
   "metadata": {},
   "outputs": [],
   "source": [
    "rmse_lr = mean_squared_error(y_test, pred_lr, squared=False)"
   ]
  },
  {
   "cell_type": "code",
   "execution_count": 47,
   "metadata": {},
   "outputs": [
    {
     "data": {
      "text/plain": [
       "(0.8783495053881849, 0.8702421515098588, 0.19106193728283521)"
      ]
     },
     "execution_count": 47,
     "metadata": {},
     "output_type": "execute_result"
    }
   ],
   "source": [
    "train_score_lr, test_score_lr, rmse_lr"
   ]
  },
  {
   "cell_type": "code",
   "execution_count": 48,
   "metadata": {
    "scrolled": true
   },
   "outputs": [
    {
     "data": {
      "text/html": [
       "<table class=\"simpletable\">\n",
       "<caption>OLS Regression Results</caption>\n",
       "<tr>\n",
       "  <th>Dep. Variable:</th>          <td>price</td>      <th>  R-squared:         </th>  <td>   0.877</td> \n",
       "</tr>\n",
       "<tr>\n",
       "  <th>Model:</th>                   <td>OLS</td>       <th>  Adj. R-squared:    </th>  <td>   0.876</td> \n",
       "</tr>\n",
       "<tr>\n",
       "  <th>Method:</th>             <td>Least Squares</td>  <th>  F-statistic:       </th>  <td>   1840.</td> \n",
       "</tr>\n",
       "<tr>\n",
       "  <th>Date:</th>             <td>Wed, 14 Jul 2021</td> <th>  Prob (F-statistic):</th>   <td>  0.00</td>  \n",
       "</tr>\n",
       "<tr>\n",
       "  <th>Time:</th>                 <td>10:37:05</td>     <th>  Log-Likelihood:    </th>  <td>  5815.0</td> \n",
       "</tr>\n",
       "<tr>\n",
       "  <th>No. Observations:</th>      <td> 21533</td>      <th>  AIC:               </th> <td>-1.146e+04</td>\n",
       "</tr>\n",
       "<tr>\n",
       "  <th>Df Residuals:</th>          <td> 21449</td>      <th>  BIC:               </th> <td>-1.079e+04</td>\n",
       "</tr>\n",
       "<tr>\n",
       "  <th>Df Model:</th>              <td>    83</td>      <th>                     </th>      <td> </td>    \n",
       "</tr>\n",
       "<tr>\n",
       "  <th>Covariance Type:</th>      <td>nonrobust</td>    <th>                     </th>      <td> </td>    \n",
       "</tr>\n",
       "</table>\n",
       "<table class=\"simpletable\">\n",
       "<tr>\n",
       "        <td></td>           <th>coef</th>     <th>std err</th>      <th>t</th>      <th>P>|t|</th>  <th>[0.025</th>    <th>0.975]</th>  \n",
       "</tr>\n",
       "<tr>\n",
       "  <th>const</th>         <td>  476.6149</td> <td>  726.953</td> <td>    0.656</td> <td> 0.512</td> <td> -948.268</td> <td> 1901.497</td>\n",
       "</tr>\n",
       "<tr>\n",
       "  <th>bedrooms</th>      <td>    0.0029</td> <td>    0.002</td> <td>    1.552</td> <td> 0.121</td> <td>   -0.001</td> <td>    0.006</td>\n",
       "</tr>\n",
       "<tr>\n",
       "  <th>bathrooms</th>     <td>    0.0415</td> <td>    0.003</td> <td>   13.660</td> <td> 0.000</td> <td>    0.036</td> <td>    0.047</td>\n",
       "</tr>\n",
       "<tr>\n",
       "  <th>sqft_living</th>   <td>    0.0001</td> <td> 4.11e-06</td> <td>   30.197</td> <td> 0.000</td> <td>    0.000</td> <td>    0.000</td>\n",
       "</tr>\n",
       "<tr>\n",
       "  <th>sqft_lot</th>      <td> 6.397e-07</td> <td> 3.37e-08</td> <td>   18.969</td> <td> 0.000</td> <td> 5.74e-07</td> <td> 7.06e-07</td>\n",
       "</tr>\n",
       "<tr>\n",
       "  <th>floors</th>        <td>   -0.0301</td> <td>    0.004</td> <td>   -8.271</td> <td> 0.000</td> <td>   -0.037</td> <td>   -0.023</td>\n",
       "</tr>\n",
       "<tr>\n",
       "  <th>waterfront</th>    <td>    0.4589</td> <td>    0.017</td> <td>   26.976</td> <td> 0.000</td> <td>    0.426</td> <td>    0.492</td>\n",
       "</tr>\n",
       "<tr>\n",
       "  <th>view</th>          <td>    0.0602</td> <td>    0.002</td> <td>   29.982</td> <td> 0.000</td> <td>    0.056</td> <td>    0.064</td>\n",
       "</tr>\n",
       "<tr>\n",
       "  <th>condition</th>     <td>    0.0573</td> <td>    0.002</td> <td>   25.894</td> <td> 0.000</td> <td>    0.053</td> <td>    0.062</td>\n",
       "</tr>\n",
       "<tr>\n",
       "  <th>grade</th>         <td>    0.0936</td> <td>    0.002</td> <td>   44.524</td> <td> 0.000</td> <td>    0.090</td> <td>    0.098</td>\n",
       "</tr>\n",
       "<tr>\n",
       "  <th>sqft_above</th>    <td> 7.342e-05</td> <td> 4.19e-06</td> <td>   17.515</td> <td> 0.000</td> <td> 6.52e-05</td> <td> 8.16e-05</td>\n",
       "</tr>\n",
       "<tr>\n",
       "  <th>yr_renovated</th>  <td> 3.938e-05</td> <td> 3.69e-06</td> <td>   10.682</td> <td> 0.000</td> <td> 3.22e-05</td> <td> 4.66e-05</td>\n",
       "</tr>\n",
       "<tr>\n",
       "  <th>zipcode</th>       <td>   -0.0055</td> <td>    0.007</td> <td>   -0.739</td> <td> 0.460</td> <td>   -0.020</td> <td>    0.009</td>\n",
       "</tr>\n",
       "<tr>\n",
       "  <th>lat</th>           <td>    0.5219</td> <td>    0.073</td> <td>    7.137</td> <td> 0.000</td> <td>    0.379</td> <td>    0.665</td>\n",
       "</tr>\n",
       "<tr>\n",
       "  <th>long</th>          <td>   -0.3865</td> <td>    0.051</td> <td>   -7.627</td> <td> 0.000</td> <td>   -0.486</td> <td>   -0.287</td>\n",
       "</tr>\n",
       "<tr>\n",
       "  <th>sqft_living15</th> <td> 8.457e-05</td> <td> 3.32e-06</td> <td>   25.448</td> <td> 0.000</td> <td> 7.81e-05</td> <td> 9.11e-05</td>\n",
       "</tr>\n",
       "<tr>\n",
       "  <th>age</th>           <td>    0.0005</td> <td> 7.41e-05</td> <td>    6.534</td> <td> 0.000</td> <td>    0.000</td> <td>    0.001</td>\n",
       "</tr>\n",
       "<tr>\n",
       "  <th>x_98004</th>       <td>    0.9660</td> <td>    0.030</td> <td>   32.042</td> <td> 0.000</td> <td>    0.907</td> <td>    1.025</td>\n",
       "</tr>\n",
       "<tr>\n",
       "  <th>x_98005</th>       <td>    0.6206</td> <td>    0.036</td> <td>   17.177</td> <td> 0.000</td> <td>    0.550</td> <td>    0.691</td>\n",
       "</tr>\n",
       "<tr>\n",
       "  <th>x_98006</th>       <td>    0.5518</td> <td>    0.038</td> <td>   14.554</td> <td> 0.000</td> <td>    0.478</td> <td>    0.626</td>\n",
       "</tr>\n",
       "<tr>\n",
       "  <th>x_98007</th>       <td>    0.5625</td> <td>    0.048</td> <td>   11.792</td> <td> 0.000</td> <td>    0.469</td> <td>    0.656</td>\n",
       "</tr>\n",
       "<tr>\n",
       "  <th>x_98008</th>       <td>    0.5762</td> <td>    0.053</td> <td>   10.852</td> <td> 0.000</td> <td>    0.472</td> <td>    0.680</td>\n",
       "</tr>\n",
       "<tr>\n",
       "  <th>x_98010</th>       <td>    0.3840</td> <td>    0.066</td> <td>    5.805</td> <td> 0.000</td> <td>    0.254</td> <td>    0.514</td>\n",
       "</tr>\n",
       "<tr>\n",
       "  <th>x_98011</th>       <td>    0.2933</td> <td>    0.076</td> <td>    3.846</td> <td> 0.000</td> <td>    0.144</td> <td>    0.443</td>\n",
       "</tr>\n",
       "<tr>\n",
       "  <th>x_98014</th>       <td>    0.3439</td> <td>    0.100</td> <td>    3.447</td> <td> 0.001</td> <td>    0.148</td> <td>    0.539</td>\n",
       "</tr>\n",
       "<tr>\n",
       "  <th>x_98019</th>       <td>    0.3270</td> <td>    0.134</td> <td>    2.442</td> <td> 0.015</td> <td>    0.065</td> <td>    0.589</td>\n",
       "</tr>\n",
       "<tr>\n",
       "  <th>x_98022</th>       <td>    0.3078</td> <td>    0.152</td> <td>    2.021</td> <td> 0.043</td> <td>    0.009</td> <td>    0.606</td>\n",
       "</tr>\n",
       "<tr>\n",
       "  <th>x_98023</th>       <td>    0.0480</td> <td>    0.157</td> <td>    0.307</td> <td> 0.759</td> <td>   -0.259</td> <td>    0.355</td>\n",
       "</tr>\n",
       "<tr>\n",
       "  <th>x_98024</th>       <td>    0.5506</td> <td>    0.169</td> <td>    3.252</td> <td> 0.001</td> <td>    0.219</td> <td>    0.882</td>\n",
       "</tr>\n",
       "<tr>\n",
       "  <th>x_98027</th>       <td>    0.6170</td> <td>    0.189</td> <td>    3.270</td> <td> 0.001</td> <td>    0.247</td> <td>    0.987</td>\n",
       "</tr>\n",
       "<tr>\n",
       "  <th>x_98028</th>       <td>    0.3416</td> <td>    0.196</td> <td>    1.740</td> <td> 0.082</td> <td>   -0.043</td> <td>    0.726</td>\n",
       "</tr>\n",
       "<tr>\n",
       "  <th>x_98029</th>       <td>    0.7147</td> <td>    0.204</td> <td>    3.503</td> <td> 0.000</td> <td>    0.315</td> <td>    1.115</td>\n",
       "</tr>\n",
       "<tr>\n",
       "  <th>x_98030</th>       <td>    0.2120</td> <td>    0.209</td> <td>    1.012</td> <td> 0.312</td> <td>   -0.199</td> <td>    0.623</td>\n",
       "</tr>\n",
       "<tr>\n",
       "  <th>x_98031</th>       <td>    0.2167</td> <td>    0.217</td> <td>    0.999</td> <td> 0.318</td> <td>   -0.208</td> <td>    0.642</td>\n",
       "</tr>\n",
       "<tr>\n",
       "  <th>x_98032</th>       <td>    0.0942</td> <td>    0.224</td> <td>    0.421</td> <td> 0.674</td> <td>   -0.345</td> <td>    0.533</td>\n",
       "</tr>\n",
       "<tr>\n",
       "  <th>x_98033</th>       <td>    0.7833</td> <td>    0.233</td> <td>    3.367</td> <td> 0.001</td> <td>    0.327</td> <td>    1.239</td>\n",
       "</tr>\n",
       "<tr>\n",
       "  <th>x_98034</th>       <td>    0.5246</td> <td>    0.240</td> <td>    2.185</td> <td> 0.029</td> <td>    0.054</td> <td>    0.995</td>\n",
       "</tr>\n",
       "<tr>\n",
       "  <th>x_98038</th>       <td>    0.4321</td> <td>    0.270</td> <td>    1.601</td> <td> 0.109</td> <td>   -0.097</td> <td>    0.961</td>\n",
       "</tr>\n",
       "<tr>\n",
       "  <th>x_98039</th>       <td>    1.2598</td> <td>    0.277</td> <td>    4.542</td> <td> 0.000</td> <td>    0.716</td> <td>    1.804</td>\n",
       "</tr>\n",
       "<tr>\n",
       "  <th>x_98040</th>       <td>    0.9388</td> <td>    0.284</td> <td>    3.310</td> <td> 0.001</td> <td>    0.383</td> <td>    1.495</td>\n",
       "</tr>\n",
       "<tr>\n",
       "  <th>x_98042</th>       <td>    0.3116</td> <td>    0.299</td> <td>    1.043</td> <td> 0.297</td> <td>   -0.274</td> <td>    0.897</td>\n",
       "</tr>\n",
       "<tr>\n",
       "  <th>x_98045</th>       <td>    0.6790</td> <td>    0.324</td> <td>    2.094</td> <td> 0.036</td> <td>    0.043</td> <td>    1.315</td>\n",
       "</tr>\n",
       "<tr>\n",
       "  <th>x_98052</th>       <td>    0.7713</td> <td>    0.373</td> <td>    2.065</td> <td> 0.039</td> <td>    0.039</td> <td>    1.503</td>\n",
       "</tr>\n",
       "<tr>\n",
       "  <th>x_98053</th>       <td>    0.7603</td> <td>    0.382</td> <td>    1.992</td> <td> 0.046</td> <td>    0.012</td> <td>    1.508</td>\n",
       "</tr>\n",
       "<tr>\n",
       "  <th>x_98055</th>       <td>    0.3758</td> <td>    0.395</td> <td>    0.952</td> <td> 0.341</td> <td>   -0.398</td> <td>    1.150</td>\n",
       "</tr>\n",
       "<tr>\n",
       "  <th>x_98056</th>       <td>    0.5369</td> <td>    0.402</td> <td>    1.335</td> <td> 0.182</td> <td>   -0.252</td> <td>    1.326</td>\n",
       "</tr>\n",
       "<tr>\n",
       "  <th>x_98058</th>       <td>    0.4471</td> <td>    0.417</td> <td>    1.071</td> <td> 0.284</td> <td>   -0.371</td> <td>    1.265</td>\n",
       "</tr>\n",
       "<tr>\n",
       "  <th>x_98059</th>       <td>    0.5997</td> <td>    0.425</td> <td>    1.411</td> <td> 0.158</td> <td>   -0.233</td> <td>    1.432</td>\n",
       "</tr>\n",
       "<tr>\n",
       "  <th>x_98065</th>       <td>    0.7808</td> <td>    0.471</td> <td>    1.656</td> <td> 0.098</td> <td>   -0.143</td> <td>    1.705</td>\n",
       "</tr>\n",
       "<tr>\n",
       "  <th>x_98070</th>       <td>    0.5778</td> <td>    0.505</td> <td>    1.145</td> <td> 0.252</td> <td>   -0.412</td> <td>    1.567</td>\n",
       "</tr>\n",
       "<tr>\n",
       "  <th>x_98072</th>       <td>    0.6985</td> <td>    0.522</td> <td>    1.339</td> <td> 0.181</td> <td>   -0.324</td> <td>    1.721</td>\n",
       "</tr>\n",
       "<tr>\n",
       "  <th>x_98074</th>       <td>    0.8658</td> <td>    0.537</td> <td>    1.613</td> <td> 0.107</td> <td>   -0.186</td> <td>    1.918</td>\n",
       "</tr>\n",
       "<tr>\n",
       "  <th>x_98075</th>       <td>    0.8915</td> <td>    0.544</td> <td>    1.638</td> <td> 0.102</td> <td>   -0.176</td> <td>    1.959</td>\n",
       "</tr>\n",
       "<tr>\n",
       "  <th>x_98077</th>       <td>    0.7018</td> <td>    0.559</td> <td>    1.255</td> <td> 0.210</td> <td>   -0.395</td> <td>    1.798</td>\n",
       "</tr>\n",
       "<tr>\n",
       "  <th>x_98092</th>       <td>    0.5644</td> <td>    0.670</td> <td>    0.843</td> <td> 0.399</td> <td>   -0.748</td> <td>    1.877</td>\n",
       "</tr>\n",
       "<tr>\n",
       "  <th>x_98102</th>       <td>    1.2880</td> <td>    0.743</td> <td>    1.733</td> <td> 0.083</td> <td>   -0.168</td> <td>    2.744</td>\n",
       "</tr>\n",
       "<tr>\n",
       "  <th>x_98103</th>       <td>    1.1369</td> <td>    0.750</td> <td>    1.516</td> <td> 0.130</td> <td>   -0.333</td> <td>    2.607</td>\n",
       "</tr>\n",
       "<tr>\n",
       "  <th>x_98105</th>       <td>    1.2930</td> <td>    0.765</td> <td>    1.690</td> <td> 0.091</td> <td>   -0.207</td> <td>    2.793</td>\n",
       "</tr>\n",
       "<tr>\n",
       "  <th>x_98106</th>       <td>    0.7425</td> <td>    0.772</td> <td>    0.961</td> <td> 0.336</td> <td>   -0.771</td> <td>    2.256</td>\n",
       "</tr>\n",
       "<tr>\n",
       "  <th>x_98107</th>       <td>    1.1673</td> <td>    0.780</td> <td>    1.497</td> <td> 0.134</td> <td>   -0.361</td> <td>    2.696</td>\n",
       "</tr>\n",
       "<tr>\n",
       "  <th>x_98108</th>       <td>    0.7890</td> <td>    0.788</td> <td>    1.002</td> <td> 0.316</td> <td>   -0.755</td> <td>    2.333</td>\n",
       "</tr>\n",
       "<tr>\n",
       "  <th>x_98109</th>       <td>    1.3553</td> <td>    0.795</td> <td>    1.705</td> <td> 0.088</td> <td>   -0.202</td> <td>    2.913</td>\n",
       "</tr>\n",
       "<tr>\n",
       "  <th>x_98112</th>       <td>    1.4462</td> <td>    0.817</td> <td>    1.770</td> <td> 0.077</td> <td>   -0.156</td> <td>    3.048</td>\n",
       "</tr>\n",
       "<tr>\n",
       "  <th>x_98115</th>       <td>    1.2168</td> <td>    0.839</td> <td>    1.450</td> <td> 0.147</td> <td>   -0.429</td> <td>    2.862</td>\n",
       "</tr>\n",
       "<tr>\n",
       "  <th>x_98116</th>       <td>    1.1853</td> <td>    0.846</td> <td>    1.401</td> <td> 0.161</td> <td>   -0.474</td> <td>    2.844</td>\n",
       "</tr>\n",
       "<tr>\n",
       "  <th>x_98117</th>       <td>    1.1861</td> <td>    0.854</td> <td>    1.389</td> <td> 0.165</td> <td>   -0.488</td> <td>    2.860</td>\n",
       "</tr>\n",
       "<tr>\n",
       "  <th>x_98118</th>       <td>    0.9568</td> <td>    0.862</td> <td>    1.110</td> <td> 0.267</td> <td>   -0.732</td> <td>    2.646</td>\n",
       "</tr>\n",
       "<tr>\n",
       "  <th>x_98119</th>       <td>    1.3908</td> <td>    0.869</td> <td>    1.601</td> <td> 0.109</td> <td>   -0.312</td> <td>    3.094</td>\n",
       "</tr>\n",
       "<tr>\n",
       "  <th>x_98122</th>       <td>    1.2757</td> <td>    0.891</td> <td>    1.431</td> <td> 0.152</td> <td>   -0.472</td> <td>    3.023</td>\n",
       "</tr>\n",
       "<tr>\n",
       "  <th>x_98125</th>       <td>    1.0109</td> <td>    0.914</td> <td>    1.106</td> <td> 0.269</td> <td>   -0.780</td> <td>    2.802</td>\n",
       "</tr>\n",
       "<tr>\n",
       "  <th>x_98126</th>       <td>    1.0446</td> <td>    0.921</td> <td>    1.135</td> <td> 0.257</td> <td>   -0.760</td> <td>    2.849</td>\n",
       "</tr>\n",
       "<tr>\n",
       "  <th>x_98133</th>       <td>    0.9171</td> <td>    0.973</td> <td>    0.943</td> <td> 0.346</td> <td>   -0.990</td> <td>    2.824</td>\n",
       "</tr>\n",
       "<tr>\n",
       "  <th>x_98136</th>       <td>    1.2377</td> <td>    0.995</td> <td>    1.244</td> <td> 0.213</td> <td>   -0.712</td> <td>    3.188</td>\n",
       "</tr>\n",
       "<tr>\n",
       "  <th>x_98144</th>       <td>    1.2692</td> <td>    1.055</td> <td>    1.203</td> <td> 0.229</td> <td>   -0.798</td> <td>    3.336</td>\n",
       "</tr>\n",
       "<tr>\n",
       "  <th>x_98146</th>       <td>    0.9264</td> <td>    1.069</td> <td>    0.866</td> <td> 0.386</td> <td>   -1.170</td> <td>    3.022</td>\n",
       "</tr>\n",
       "<tr>\n",
       "  <th>x_98148</th>       <td>    0.8636</td> <td>    1.085</td> <td>    0.796</td> <td> 0.426</td> <td>   -1.262</td> <td>    2.989</td>\n",
       "</tr>\n",
       "<tr>\n",
       "  <th>x_98155</th>       <td>    1.0161</td> <td>    1.136</td> <td>    0.894</td> <td> 0.371</td> <td>   -1.211</td> <td>    3.243</td>\n",
       "</tr>\n",
       "<tr>\n",
       "  <th>x_98166</th>       <td>    1.0952</td> <td>    1.218</td> <td>    0.899</td> <td> 0.369</td> <td>   -1.292</td> <td>    3.482</td>\n",
       "</tr>\n",
       "<tr>\n",
       "  <th>x_98168</th>       <td>    0.8697</td> <td>    1.233</td> <td>    0.705</td> <td> 0.481</td> <td>   -1.547</td> <td>    3.286</td>\n",
       "</tr>\n",
       "<tr>\n",
       "  <th>x_98177</th>       <td>    1.2797</td> <td>    1.299</td> <td>    0.985</td> <td> 0.325</td> <td>   -1.267</td> <td>    3.826</td>\n",
       "</tr>\n",
       "<tr>\n",
       "  <th>x_98178</th>       <td>    1.0135</td> <td>    1.308</td> <td>    0.775</td> <td> 0.438</td> <td>   -1.549</td> <td>    3.576</td>\n",
       "</tr>\n",
       "<tr>\n",
       "  <th>x_98188</th>       <td>    1.0393</td> <td>    1.382</td> <td>    0.752</td> <td> 0.452</td> <td>   -1.669</td> <td>    3.747</td>\n",
       "</tr>\n",
       "<tr>\n",
       "  <th>x_98198</th>       <td>    1.0747</td> <td>    1.456</td> <td>    0.738</td> <td> 0.460</td> <td>   -1.779</td> <td>    3.928</td>\n",
       "</tr>\n",
       "<tr>\n",
       "  <th>x_98199</th>       <td>    1.6986</td> <td>    1.462</td> <td>    1.162</td> <td> 0.245</td> <td>   -1.168</td> <td>    4.565</td>\n",
       "</tr>\n",
       "</table>\n",
       "<table class=\"simpletable\">\n",
       "<tr>\n",
       "  <th>Omnibus:</th>       <td>1969.660</td> <th>  Durbin-Watson:     </th> <td>   2.007</td>\n",
       "</tr>\n",
       "<tr>\n",
       "  <th>Prob(Omnibus):</th>  <td> 0.000</td>  <th>  Jarque-Bera (JB):  </th> <td>8908.263</td>\n",
       "</tr>\n",
       "<tr>\n",
       "  <th>Skew:</th>           <td>-0.349</td>  <th>  Prob(JB):          </th> <td>    0.00</td>\n",
       "</tr>\n",
       "<tr>\n",
       "  <th>Kurtosis:</th>       <td> 6.073</td>  <th>  Cond. No.          </th> <td>5.74e+10</td>\n",
       "</tr>\n",
       "</table><br/><br/>Notes:<br/>[1] Standard Errors assume that the covariance matrix of the errors is correctly specified.<br/>[2] The condition number is large, 5.74e+10. This might indicate that there are<br/>strong multicollinearity or other numerical problems."
      ],
      "text/plain": [
       "<class 'statsmodels.iolib.summary.Summary'>\n",
       "\"\"\"\n",
       "                            OLS Regression Results                            \n",
       "==============================================================================\n",
       "Dep. Variable:                  price   R-squared:                       0.877\n",
       "Model:                            OLS   Adj. R-squared:                  0.876\n",
       "Method:                 Least Squares   F-statistic:                     1840.\n",
       "Date:                Wed, 14 Jul 2021   Prob (F-statistic):               0.00\n",
       "Time:                        10:37:05   Log-Likelihood:                 5815.0\n",
       "No. Observations:               21533   AIC:                        -1.146e+04\n",
       "Df Residuals:                   21449   BIC:                        -1.079e+04\n",
       "Df Model:                          83                                         \n",
       "Covariance Type:            nonrobust                                         \n",
       "=================================================================================\n",
       "                    coef    std err          t      P>|t|      [0.025      0.975]\n",
       "---------------------------------------------------------------------------------\n",
       "const           476.6149    726.953      0.656      0.512    -948.268    1901.497\n",
       "bedrooms          0.0029      0.002      1.552      0.121      -0.001       0.006\n",
       "bathrooms         0.0415      0.003     13.660      0.000       0.036       0.047\n",
       "sqft_living       0.0001   4.11e-06     30.197      0.000       0.000       0.000\n",
       "sqft_lot       6.397e-07   3.37e-08     18.969      0.000    5.74e-07    7.06e-07\n",
       "floors           -0.0301      0.004     -8.271      0.000      -0.037      -0.023\n",
       "waterfront        0.4589      0.017     26.976      0.000       0.426       0.492\n",
       "view              0.0602      0.002     29.982      0.000       0.056       0.064\n",
       "condition         0.0573      0.002     25.894      0.000       0.053       0.062\n",
       "grade             0.0936      0.002     44.524      0.000       0.090       0.098\n",
       "sqft_above     7.342e-05   4.19e-06     17.515      0.000    6.52e-05    8.16e-05\n",
       "yr_renovated   3.938e-05   3.69e-06     10.682      0.000    3.22e-05    4.66e-05\n",
       "zipcode          -0.0055      0.007     -0.739      0.460      -0.020       0.009\n",
       "lat               0.5219      0.073      7.137      0.000       0.379       0.665\n",
       "long             -0.3865      0.051     -7.627      0.000      -0.486      -0.287\n",
       "sqft_living15  8.457e-05   3.32e-06     25.448      0.000    7.81e-05    9.11e-05\n",
       "age               0.0005   7.41e-05      6.534      0.000       0.000       0.001\n",
       "x_98004           0.9660      0.030     32.042      0.000       0.907       1.025\n",
       "x_98005           0.6206      0.036     17.177      0.000       0.550       0.691\n",
       "x_98006           0.5518      0.038     14.554      0.000       0.478       0.626\n",
       "x_98007           0.5625      0.048     11.792      0.000       0.469       0.656\n",
       "x_98008           0.5762      0.053     10.852      0.000       0.472       0.680\n",
       "x_98010           0.3840      0.066      5.805      0.000       0.254       0.514\n",
       "x_98011           0.2933      0.076      3.846      0.000       0.144       0.443\n",
       "x_98014           0.3439      0.100      3.447      0.001       0.148       0.539\n",
       "x_98019           0.3270      0.134      2.442      0.015       0.065       0.589\n",
       "x_98022           0.3078      0.152      2.021      0.043       0.009       0.606\n",
       "x_98023           0.0480      0.157      0.307      0.759      -0.259       0.355\n",
       "x_98024           0.5506      0.169      3.252      0.001       0.219       0.882\n",
       "x_98027           0.6170      0.189      3.270      0.001       0.247       0.987\n",
       "x_98028           0.3416      0.196      1.740      0.082      -0.043       0.726\n",
       "x_98029           0.7147      0.204      3.503      0.000       0.315       1.115\n",
       "x_98030           0.2120      0.209      1.012      0.312      -0.199       0.623\n",
       "x_98031           0.2167      0.217      0.999      0.318      -0.208       0.642\n",
       "x_98032           0.0942      0.224      0.421      0.674      -0.345       0.533\n",
       "x_98033           0.7833      0.233      3.367      0.001       0.327       1.239\n",
       "x_98034           0.5246      0.240      2.185      0.029       0.054       0.995\n",
       "x_98038           0.4321      0.270      1.601      0.109      -0.097       0.961\n",
       "x_98039           1.2598      0.277      4.542      0.000       0.716       1.804\n",
       "x_98040           0.9388      0.284      3.310      0.001       0.383       1.495\n",
       "x_98042           0.3116      0.299      1.043      0.297      -0.274       0.897\n",
       "x_98045           0.6790      0.324      2.094      0.036       0.043       1.315\n",
       "x_98052           0.7713      0.373      2.065      0.039       0.039       1.503\n",
       "x_98053           0.7603      0.382      1.992      0.046       0.012       1.508\n",
       "x_98055           0.3758      0.395      0.952      0.341      -0.398       1.150\n",
       "x_98056           0.5369      0.402      1.335      0.182      -0.252       1.326\n",
       "x_98058           0.4471      0.417      1.071      0.284      -0.371       1.265\n",
       "x_98059           0.5997      0.425      1.411      0.158      -0.233       1.432\n",
       "x_98065           0.7808      0.471      1.656      0.098      -0.143       1.705\n",
       "x_98070           0.5778      0.505      1.145      0.252      -0.412       1.567\n",
       "x_98072           0.6985      0.522      1.339      0.181      -0.324       1.721\n",
       "x_98074           0.8658      0.537      1.613      0.107      -0.186       1.918\n",
       "x_98075           0.8915      0.544      1.638      0.102      -0.176       1.959\n",
       "x_98077           0.7018      0.559      1.255      0.210      -0.395       1.798\n",
       "x_98092           0.5644      0.670      0.843      0.399      -0.748       1.877\n",
       "x_98102           1.2880      0.743      1.733      0.083      -0.168       2.744\n",
       "x_98103           1.1369      0.750      1.516      0.130      -0.333       2.607\n",
       "x_98105           1.2930      0.765      1.690      0.091      -0.207       2.793\n",
       "x_98106           0.7425      0.772      0.961      0.336      -0.771       2.256\n",
       "x_98107           1.1673      0.780      1.497      0.134      -0.361       2.696\n",
       "x_98108           0.7890      0.788      1.002      0.316      -0.755       2.333\n",
       "x_98109           1.3553      0.795      1.705      0.088      -0.202       2.913\n",
       "x_98112           1.4462      0.817      1.770      0.077      -0.156       3.048\n",
       "x_98115           1.2168      0.839      1.450      0.147      -0.429       2.862\n",
       "x_98116           1.1853      0.846      1.401      0.161      -0.474       2.844\n",
       "x_98117           1.1861      0.854      1.389      0.165      -0.488       2.860\n",
       "x_98118           0.9568      0.862      1.110      0.267      -0.732       2.646\n",
       "x_98119           1.3908      0.869      1.601      0.109      -0.312       3.094\n",
       "x_98122           1.2757      0.891      1.431      0.152      -0.472       3.023\n",
       "x_98125           1.0109      0.914      1.106      0.269      -0.780       2.802\n",
       "x_98126           1.0446      0.921      1.135      0.257      -0.760       2.849\n",
       "x_98133           0.9171      0.973      0.943      0.346      -0.990       2.824\n",
       "x_98136           1.2377      0.995      1.244      0.213      -0.712       3.188\n",
       "x_98144           1.2692      1.055      1.203      0.229      -0.798       3.336\n",
       "x_98146           0.9264      1.069      0.866      0.386      -1.170       3.022\n",
       "x_98148           0.8636      1.085      0.796      0.426      -1.262       2.989\n",
       "x_98155           1.0161      1.136      0.894      0.371      -1.211       3.243\n",
       "x_98166           1.0952      1.218      0.899      0.369      -1.292       3.482\n",
       "x_98168           0.8697      1.233      0.705      0.481      -1.547       3.286\n",
       "x_98177           1.2797      1.299      0.985      0.325      -1.267       3.826\n",
       "x_98178           1.0135      1.308      0.775      0.438      -1.549       3.576\n",
       "x_98188           1.0393      1.382      0.752      0.452      -1.669       3.747\n",
       "x_98198           1.0747      1.456      0.738      0.460      -1.779       3.928\n",
       "x_98199           1.6986      1.462      1.162      0.245      -1.168       4.565\n",
       "==============================================================================\n",
       "Omnibus:                     1969.660   Durbin-Watson:                   2.007\n",
       "Prob(Omnibus):                  0.000   Jarque-Bera (JB):             8908.263\n",
       "Skew:                          -0.349   Prob(JB):                         0.00\n",
       "Kurtosis:                       6.073   Cond. No.                     5.74e+10\n",
       "==============================================================================\n",
       "\n",
       "Notes:\n",
       "[1] Standard Errors assume that the covariance matrix of the errors is correctly specified.\n",
       "[2] The condition number is large, 5.74e+10. This might indicate that there are\n",
       "strong multicollinearity or other numerical problems.\n",
       "\"\"\""
      ]
     },
     "execution_count": 48,
     "metadata": {},
     "output_type": "execute_result"
    }
   ],
   "source": [
    "# Checking the OLS for values of significance\n",
    "X = sm.add_constant(X)\n",
    "sm.OLS(y, X).fit().summary()"
   ]
  },
  {
   "cell_type": "code",
   "execution_count": 49,
   "metadata": {},
   "outputs": [
    {
     "data": {
      "image/png": "[encoded data removed]",
      "text/plain": [
       "<Figure size 432x288 with 1 Axes>"
      ]
     },
     "metadata": {
      "needs_background": "light"
     },
     "output_type": "display_data"
    }
   ],
   "source": [
    "# Making the QQ Plot\n",
    "residuals = (y_test - pred_lr)\n",
    "sm.graphics.qqplot(residuals, dist=stats.norm, line=\"45\", fit=True);"
   ]
  },
  {
   "cell_type": "markdown",
   "metadata": {},
   "source": [
    "### Model 5: adding back the zipcodes we dropped in our previous model"
   ]
  },
  {
   "cell_type": "code",
   "execution_count": 50,
   "metadata": {},
   "outputs": [],
   "source": [
    "X = df.drop(['price', 'sqft_basement', 'sqft_lot15'], axis = 1)\n",
    "y = df['price'] \n",
    "y = np.log(y)\n",
    "X_train, X_test, y_train, y_test = train_test_split(X, y, test_size=0.2, random_state=42)"
   ]
  },
  {
   "cell_type": "code",
   "execution_count": 51,
   "metadata": {},
   "outputs": [
    {
     "data": {
      "text/plain": [
       "LinearRegression()"
      ]
     },
     "execution_count": 51,
     "metadata": {},
     "output_type": "execute_result"
    }
   ],
   "source": [
    "# Initialize an empty regression model\n",
    "lr = LinearRegression()\n",
    "\n",
    "# Fits the model to our training dataset\n",
    "lr.fit(X_train, y_train)"
   ]
  },
  {
   "cell_type": "code",
   "execution_count": 52,
   "metadata": {},
   "outputs": [],
   "source": [
    "pred_lr = lr.predict(X_test)"
   ]
  },
  {
   "cell_type": "code",
   "execution_count": 53,
   "metadata": {},
   "outputs": [],
   "source": [
    "train_score_lr = lr.score(X_train, y_train)\n",
    "test_score_lr = lr.score(X_test, y_test)"
   ]
  },
  {
   "cell_type": "code",
   "execution_count": 54,
   "metadata": {},
   "outputs": [
    {
     "data": {
      "text/plain": [
       "0.004208604780824059"
      ]
     },
     "execution_count": 54,
     "metadata": {},
     "output_type": "execute_result"
    }
   ],
   "source": [
    "lr.coef_[0]"
   ]
  },
  {
   "cell_type": "code",
   "execution_count": 55,
   "metadata": {},
   "outputs": [
    {
     "data": {
      "text/plain": [
       "-342.26705920095435"
      ]
     },
     "execution_count": 55,
     "metadata": {},
     "output_type": "execute_result"
    }
   ],
   "source": [
    "lr.intercept_"
   ]
  },
  {
   "cell_type": "code",
   "execution_count": 56,
   "metadata": {},
   "outputs": [],
   "source": [
    "rmse_lr = mean_squared_error(y_test, pred_lr, squared=False)"
   ]
  },
  {
   "cell_type": "code",
   "execution_count": 57,
   "metadata": {},
   "outputs": [
    {
     "data": {
      "text/plain": [
       "(0.8783558959432098, 0.8702225186552418, 0.19107639093401446)"
      ]
     },
     "execution_count": 57,
     "metadata": {},
     "output_type": "execute_result"
    }
   ],
   "source": [
    "train_score_lr, test_score_lr, rmse_lr"
   ]
  },
  {
   "cell_type": "code",
   "execution_count": 58,
   "metadata": {
    "scrolled": true
   },
   "outputs": [
    {
     "data": {
      "text/html": [
       "<table class=\"simpletable\">\n",
       "<caption>OLS Regression Results</caption>\n",
       "<tr>\n",
       "  <th>Dep. Variable:</th>          <td>price</td>      <th>  R-squared:         </th>  <td>   0.877</td> \n",
       "</tr>\n",
       "<tr>\n",
       "  <th>Model:</th>                   <td>OLS</td>       <th>  Adj. R-squared:    </th>  <td>   0.876</td> \n",
       "</tr>\n",
       "<tr>\n",
       "  <th>Method:</th>             <td>Least Squares</td>  <th>  F-statistic:       </th>  <td>   1818.</td> \n",
       "</tr>\n",
       "<tr>\n",
       "  <th>Date:</th>             <td>Wed, 14 Jul 2021</td> <th>  Prob (F-statistic):</th>   <td>  0.00</td>  \n",
       "</tr>\n",
       "<tr>\n",
       "  <th>Time:</th>                 <td>10:37:06</td>     <th>  Log-Likelihood:    </th>  <td>  5815.2</td> \n",
       "</tr>\n",
       "<tr>\n",
       "  <th>No. Observations:</th>      <td> 21533</td>      <th>  AIC:               </th> <td>-1.146e+04</td>\n",
       "</tr>\n",
       "<tr>\n",
       "  <th>Df Residuals:</th>          <td> 21448</td>      <th>  BIC:               </th> <td>-1.078e+04</td>\n",
       "</tr>\n",
       "<tr>\n",
       "  <th>Df Model:</th>              <td>    84</td>      <th>                     </th>      <td> </td>    \n",
       "</tr>\n",
       "<tr>\n",
       "  <th>Covariance Type:</th>      <td>nonrobust</td>    <th>                     </th>      <td> </td>    \n",
       "</tr>\n",
       "</table>\n",
       "<table class=\"simpletable\">\n",
       "<tr>\n",
       "        <td></td>           <th>coef</th>     <th>std err</th>      <th>t</th>      <th>P>|t|</th>  <th>[0.025</th>    <th>0.975]</th>  \n",
       "</tr>\n",
       "<tr>\n",
       "  <th>const</th>         <td>   -0.0226</td> <td>    0.001</td> <td>  -20.709</td> <td> 0.000</td> <td>   -0.025</td> <td>   -0.021</td>\n",
       "</tr>\n",
       "<tr>\n",
       "  <th>bedrooms</th>      <td>    0.0029</td> <td>    0.002</td> <td>    1.555</td> <td> 0.120</td> <td>   -0.001</td> <td>    0.007</td>\n",
       "</tr>\n",
       "<tr>\n",
       "  <th>bathrooms</th>     <td>    0.0415</td> <td>    0.003</td> <td>   13.665</td> <td> 0.000</td> <td>    0.036</td> <td>    0.047</td>\n",
       "</tr>\n",
       "<tr>\n",
       "  <th>sqft_living</th>   <td>    0.0001</td> <td> 4.11e-06</td> <td>   30.194</td> <td> 0.000</td> <td>    0.000</td> <td>    0.000</td>\n",
       "</tr>\n",
       "<tr>\n",
       "  <th>sqft_lot</th>      <td> 6.391e-07</td> <td> 3.37e-08</td> <td>   18.948</td> <td> 0.000</td> <td> 5.73e-07</td> <td> 7.05e-07</td>\n",
       "</tr>\n",
       "<tr>\n",
       "  <th>floors</th>        <td>   -0.0301</td> <td>    0.004</td> <td>   -8.258</td> <td> 0.000</td> <td>   -0.037</td> <td>   -0.023</td>\n",
       "</tr>\n",
       "<tr>\n",
       "  <th>waterfront</th>    <td>    0.4590</td> <td>    0.017</td> <td>   26.981</td> <td> 0.000</td> <td>    0.426</td> <td>    0.492</td>\n",
       "</tr>\n",
       "<tr>\n",
       "  <th>view</th>          <td>    0.0602</td> <td>    0.002</td> <td>   29.985</td> <td> 0.000</td> <td>    0.056</td> <td>    0.064</td>\n",
       "</tr>\n",
       "<tr>\n",
       "  <th>condition</th>     <td>    0.0573</td> <td>    0.002</td> <td>   25.898</td> <td> 0.000</td> <td>    0.053</td> <td>    0.062</td>\n",
       "</tr>\n",
       "<tr>\n",
       "  <th>grade</th>         <td>    0.0936</td> <td>    0.002</td> <td>   44.478</td> <td> 0.000</td> <td>    0.089</td> <td>    0.098</td>\n",
       "</tr>\n",
       "<tr>\n",
       "  <th>sqft_above</th>    <td> 7.347e-05</td> <td> 4.19e-06</td> <td>   17.523</td> <td> 0.000</td> <td> 6.53e-05</td> <td> 8.17e-05</td>\n",
       "</tr>\n",
       "<tr>\n",
       "  <th>yr_renovated</th>  <td> 3.939e-05</td> <td> 3.69e-06</td> <td>   10.684</td> <td> 0.000</td> <td> 3.22e-05</td> <td> 4.66e-05</td>\n",
       "</tr>\n",
       "<tr>\n",
       "  <th>zipcode</th>       <td>   -0.0006</td> <td> 7.21e-05</td> <td>   -8.472</td> <td> 0.000</td> <td>   -0.001</td> <td>   -0.000</td>\n",
       "</tr>\n",
       "<tr>\n",
       "  <th>lat</th>           <td>    0.5221</td> <td>    0.073</td> <td>    7.140</td> <td> 0.000</td> <td>    0.379</td> <td>    0.665</td>\n",
       "</tr>\n",
       "<tr>\n",
       "  <th>long</th>          <td>   -0.3782</td> <td>    0.052</td> <td>   -7.211</td> <td> 0.000</td> <td>   -0.481</td> <td>   -0.275</td>\n",
       "</tr>\n",
       "<tr>\n",
       "  <th>sqft_living15</th> <td> 8.451e-05</td> <td> 3.33e-06</td> <td>   25.415</td> <td> 0.000</td> <td>  7.8e-05</td> <td>  9.1e-05</td>\n",
       "</tr>\n",
       "<tr>\n",
       "  <th>age</th>           <td>    0.0005</td> <td> 7.41e-05</td> <td>    6.542</td> <td> 0.000</td> <td>    0.000</td> <td>    0.001</td>\n",
       "</tr>\n",
       "<tr>\n",
       "  <th>x_98002</th>       <td>   -0.0141</td> <td>    0.017</td> <td>   -0.845</td> <td> 0.398</td> <td>   -0.047</td> <td>    0.019</td>\n",
       "</tr>\n",
       "<tr>\n",
       "  <th>x_98003</th>       <td>   -0.0089</td> <td>    0.015</td> <td>   -0.596</td> <td> 0.551</td> <td>   -0.038</td> <td>    0.020</td>\n",
       "</tr>\n",
       "<tr>\n",
       "  <th>x_98004</th>       <td>    0.9490</td> <td>    0.027</td> <td>   35.064</td> <td> 0.000</td> <td>    0.896</td> <td>    1.002</td>\n",
       "</tr>\n",
       "<tr>\n",
       "  <th>x_98005</th>       <td>    0.5983</td> <td>    0.029</td> <td>   20.686</td> <td> 0.000</td> <td>    0.542</td> <td>    0.655</td>\n",
       "</tr>\n",
       "<tr>\n",
       "  <th>x_98006</th>       <td>    0.5246</td> <td>    0.024</td> <td>   22.169</td> <td> 0.000</td> <td>    0.478</td> <td>    0.571</td>\n",
       "</tr>\n",
       "<tr>\n",
       "  <th>x_98007</th>       <td>    0.5303</td> <td>    0.030</td> <td>   17.769</td> <td> 0.000</td> <td>    0.472</td> <td>    0.589</td>\n",
       "</tr>\n",
       "<tr>\n",
       "  <th>x_98008</th>       <td>    0.5388</td> <td>    0.028</td> <td>   19.002</td> <td> 0.000</td> <td>    0.483</td> <td>    0.594</td>\n",
       "</tr>\n",
       "<tr>\n",
       "  <th>x_98010</th>       <td>    0.3360</td> <td>    0.026</td> <td>   13.063</td> <td> 0.000</td> <td>    0.286</td> <td>    0.386</td>\n",
       "</tr>\n",
       "<tr>\n",
       "  <th>x_98011</th>       <td>    0.2421</td> <td>    0.037</td> <td>    6.586</td> <td> 0.000</td> <td>    0.170</td> <td>    0.314</td>\n",
       "</tr>\n",
       "<tr>\n",
       "  <th>x_98014</th>       <td>    0.2751</td> <td>    0.041</td> <td>    6.750</td> <td> 0.000</td> <td>    0.195</td> <td>    0.355</td>\n",
       "</tr>\n",
       "<tr>\n",
       "  <th>x_98019</th>       <td>    0.2347</td> <td>    0.040</td> <td>    5.857</td> <td> 0.000</td> <td>    0.156</td> <td>    0.313</td>\n",
       "</tr>\n",
       "<tr>\n",
       "  <th>x_98022</th>       <td>    0.2013</td> <td>    0.023</td> <td>    8.676</td> <td> 0.000</td> <td>    0.156</td> <td>    0.247</td>\n",
       "</tr>\n",
       "<tr>\n",
       "  <th>x_98023</th>       <td>   -0.0603</td> <td>    0.013</td> <td>   -4.520</td> <td> 0.000</td> <td>   -0.086</td> <td>   -0.034</td>\n",
       "</tr>\n",
       "<tr>\n",
       "  <th>x_98024</th>       <td>    0.4336</td> <td>    0.036</td> <td>   11.982</td> <td> 0.000</td> <td>    0.363</td> <td>    0.504</td>\n",
       "</tr>\n",
       "<tr>\n",
       "  <th>x_98027</th>       <td>    0.4865</td> <td>    0.025</td> <td>   19.710</td> <td> 0.000</td> <td>    0.438</td> <td>    0.535</td>\n",
       "</tr>\n",
       "<tr>\n",
       "  <th>x_98028</th>       <td>    0.2079</td> <td>    0.035</td> <td>    5.897</td> <td> 0.000</td> <td>    0.139</td> <td>    0.277</td>\n",
       "</tr>\n",
       "<tr>\n",
       "  <th>x_98029</th>       <td>    0.5742</td> <td>    0.028</td> <td>   20.399</td> <td> 0.000</td> <td>    0.519</td> <td>    0.629</td>\n",
       "</tr>\n",
       "<tr>\n",
       "  <th>x_98030</th>       <td>    0.0681</td> <td>    0.017</td> <td>    4.061</td> <td> 0.000</td> <td>    0.035</td> <td>    0.101</td>\n",
       "</tr>\n",
       "<tr>\n",
       "  <th>x_98031</th>       <td>    0.0679</td> <td>    0.017</td> <td>    3.922</td> <td> 0.000</td> <td>    0.034</td> <td>    0.102</td>\n",
       "</tr>\n",
       "<tr>\n",
       "  <th>x_98032</th>       <td>   -0.0587</td> <td>    0.020</td> <td>   -2.974</td> <td> 0.003</td> <td>   -0.097</td> <td>   -0.020</td>\n",
       "</tr>\n",
       "<tr>\n",
       "  <th>x_98033</th>       <td>    0.6247</td> <td>    0.030</td> <td>   20.628</td> <td> 0.000</td> <td>    0.565</td> <td>    0.684</td>\n",
       "</tr>\n",
       "<tr>\n",
       "  <th>x_98034</th>       <td>    0.3613</td> <td>    0.032</td> <td>   11.161</td> <td> 0.000</td> <td>    0.298</td> <td>    0.425</td>\n",
       "</tr>\n",
       "<tr>\n",
       "  <th>x_98038</th>       <td>    0.2479</td> <td>    0.020</td> <td>   12.476</td> <td> 0.000</td> <td>    0.209</td> <td>    0.287</td>\n",
       "</tr>\n",
       "<tr>\n",
       "  <th>x_98039</th>       <td>    1.0724</td> <td>    0.036</td> <td>   29.708</td> <td> 0.000</td> <td>    1.002</td> <td>    1.143</td>\n",
       "</tr>\n",
       "<tr>\n",
       "  <th>x_98040</th>       <td>    0.7464</td> <td>    0.023</td> <td>   31.770</td> <td> 0.000</td> <td>    0.700</td> <td>    0.792</td>\n",
       "</tr>\n",
       "<tr>\n",
       "  <th>x_98042</th>       <td>    0.1086</td> <td>    0.017</td> <td>    6.407</td> <td> 0.000</td> <td>    0.075</td> <td>    0.142</td>\n",
       "</tr>\n",
       "<tr>\n",
       "  <th>x_98045</th>       <td>    0.4584</td> <td>    0.036</td> <td>   12.802</td> <td> 0.000</td> <td>    0.388</td> <td>    0.529</td>\n",
       "</tr>\n",
       "<tr>\n",
       "  <th>x_98052</th>       <td>    0.5196</td> <td>    0.031</td> <td>   16.710</td> <td> 0.000</td> <td>    0.459</td> <td>    0.581</td>\n",
       "</tr>\n",
       "<tr>\n",
       "  <th>x_98053</th>       <td>    0.5030</td> <td>    0.034</td> <td>   14.855</td> <td> 0.000</td> <td>    0.437</td> <td>    0.569</td>\n",
       "</tr>\n",
       "<tr>\n",
       "  <th>x_98055</th>       <td>    0.1102</td> <td>    0.019</td> <td>    5.764</td> <td> 0.000</td> <td>    0.073</td> <td>    0.148</td>\n",
       "</tr>\n",
       "<tr>\n",
       "  <th>x_98056</th>       <td>    0.2662</td> <td>    0.021</td> <td>   12.899</td> <td> 0.000</td> <td>    0.226</td> <td>    0.307</td>\n",
       "</tr>\n",
       "<tr>\n",
       "  <th>x_98058</th>       <td>    0.1664</td> <td>    0.019</td> <td>    8.866</td> <td> 0.000</td> <td>    0.130</td> <td>    0.203</td>\n",
       "</tr>\n",
       "<tr>\n",
       "  <th>x_98059</th>       <td>    0.3140</td> <td>    0.021</td> <td>   15.122</td> <td> 0.000</td> <td>    0.273</td> <td>    0.355</td>\n",
       "</tr>\n",
       "<tr>\n",
       "  <th>x_98065</th>       <td>    0.4635</td> <td>    0.033</td> <td>   13.901</td> <td> 0.000</td> <td>    0.398</td> <td>    0.529</td>\n",
       "</tr>\n",
       "<tr>\n",
       "  <th>x_98070</th>       <td>    0.2412</td> <td>    0.022</td> <td>   11.192</td> <td> 0.000</td> <td>    0.199</td> <td>    0.283</td>\n",
       "</tr>\n",
       "<tr>\n",
       "  <th>x_98072</th>       <td>    0.3494</td> <td>    0.036</td> <td>    9.687</td> <td> 0.000</td> <td>    0.279</td> <td>    0.420</td>\n",
       "</tr>\n",
       "<tr>\n",
       "  <th>x_98074</th>       <td>    0.5063</td> <td>    0.030</td> <td>   16.702</td> <td> 0.000</td> <td>    0.447</td> <td>    0.566</td>\n",
       "</tr>\n",
       "<tr>\n",
       "  <th>x_98075</th>       <td>    0.5269</td> <td>    0.030</td> <td>   17.810</td> <td> 0.000</td> <td>    0.469</td> <td>    0.585</td>\n",
       "</tr>\n",
       "<tr>\n",
       "  <th>x_98077</th>       <td>    0.3278</td> <td>    0.038</td> <td>    8.618</td> <td> 0.000</td> <td>    0.253</td> <td>    0.402</td>\n",
       "</tr>\n",
       "<tr>\n",
       "  <th>x_98092</th>       <td>    0.1182</td> <td>    0.018</td> <td>    6.504</td> <td> 0.000</td> <td>    0.083</td> <td>    0.154</td>\n",
       "</tr>\n",
       "<tr>\n",
       "  <th>x_98102</th>       <td>    0.7942</td> <td>    0.030</td> <td>   26.744</td> <td> 0.000</td> <td>    0.736</td> <td>    0.852</td>\n",
       "</tr>\n",
       "<tr>\n",
       "  <th>x_98103</th>       <td>    0.6384</td> <td>    0.027</td> <td>   23.720</td> <td> 0.000</td> <td>    0.586</td> <td>    0.691</td>\n",
       "</tr>\n",
       "<tr>\n",
       "  <th>x_98105</th>       <td>    0.7844</td> <td>    0.028</td> <td>   27.572</td> <td> 0.000</td> <td>    0.729</td> <td>    0.840</td>\n",
       "</tr>\n",
       "<tr>\n",
       "  <th>x_98106</th>       <td>    0.2295</td> <td>    0.019</td> <td>   11.804</td> <td> 0.000</td> <td>    0.191</td> <td>    0.268</td>\n",
       "</tr>\n",
       "<tr>\n",
       "  <th>x_98107</th>       <td>    0.6495</td> <td>    0.028</td> <td>   23.614</td> <td> 0.000</td> <td>    0.596</td> <td>    0.703</td>\n",
       "</tr>\n",
       "<tr>\n",
       "  <th>x_98108</th>       <td>    0.2658</td> <td>    0.023</td> <td>   11.744</td> <td> 0.000</td> <td>    0.221</td> <td>    0.310</td>\n",
       "</tr>\n",
       "<tr>\n",
       "  <th>x_98109</th>       <td>    0.8276</td> <td>    0.029</td> <td>   28.442</td> <td> 0.000</td> <td>    0.771</td> <td>    0.885</td>\n",
       "</tr>\n",
       "<tr>\n",
       "  <th>x_98112</th>       <td>    0.9035</td> <td>    0.026</td> <td>   34.800</td> <td> 0.000</td> <td>    0.853</td> <td>    0.954</td>\n",
       "</tr>\n",
       "<tr>\n",
       "  <th>x_98115</th>       <td>    0.6595</td> <td>    0.028</td> <td>   23.784</td> <td> 0.000</td> <td>    0.605</td> <td>    0.714</td>\n",
       "</tr>\n",
       "<tr>\n",
       "  <th>x_98116</th>       <td>    0.6238</td> <td>    0.021</td> <td>   29.491</td> <td> 0.000</td> <td>    0.582</td> <td>    0.665</td>\n",
       "</tr>\n",
       "<tr>\n",
       "  <th>x_98117</th>       <td>    0.6196</td> <td>    0.027</td> <td>   22.919</td> <td> 0.000</td> <td>    0.567</td> <td>    0.673</td>\n",
       "</tr>\n",
       "<tr>\n",
       "  <th>x_98118</th>       <td>    0.3846</td> <td>    0.020</td> <td>   19.032</td> <td> 0.000</td> <td>    0.345</td> <td>    0.424</td>\n",
       "</tr>\n",
       "<tr>\n",
       "  <th>x_98119</th>       <td>    0.8146</td> <td>    0.027</td> <td>   30.440</td> <td> 0.000</td> <td>    0.762</td> <td>    0.867</td>\n",
       "</tr>\n",
       "<tr>\n",
       "  <th>x_98122</th>       <td>    0.6842</td> <td>    0.025</td> <td>   27.899</td> <td> 0.000</td> <td>    0.636</td> <td>    0.732</td>\n",
       "</tr>\n",
       "<tr>\n",
       "  <th>x_98125</th>       <td>    0.4048</td> <td>    0.030</td> <td>   13.513</td> <td> 0.000</td> <td>    0.346</td> <td>    0.464</td>\n",
       "</tr>\n",
       "<tr>\n",
       "  <th>x_98126</th>       <td>    0.4342</td> <td>    0.019</td> <td>   22.398</td> <td> 0.000</td> <td>    0.396</td> <td>    0.472</td>\n",
       "</tr>\n",
       "<tr>\n",
       "  <th>x_98133</th>       <td>    0.2723</td> <td>    0.030</td> <td>    9.009</td> <td> 0.000</td> <td>    0.213</td> <td>    0.332</td>\n",
       "</tr>\n",
       "<tr>\n",
       "  <th>x_98136</th>       <td>    0.5787</td> <td>    0.020</td> <td>   29.249</td> <td> 0.000</td> <td>    0.540</td> <td>    0.618</td>\n",
       "</tr>\n",
       "<tr>\n",
       "  <th>x_98144</th>       <td>    0.5705</td> <td>    0.023</td> <td>   25.060</td> <td> 0.000</td> <td>    0.526</td> <td>    0.615</td>\n",
       "</tr>\n",
       "<tr>\n",
       "  <th>x_98146</th>       <td>    0.2184</td> <td>    0.018</td> <td>   12.031</td> <td> 0.000</td> <td>    0.183</td> <td>    0.254</td>\n",
       "</tr>\n",
       "<tr>\n",
       "  <th>x_98148</th>       <td>    0.1457</td> <td>    0.028</td> <td>    5.273</td> <td> 0.000</td> <td>    0.092</td> <td>    0.200</td>\n",
       "</tr>\n",
       "<tr>\n",
       "  <th>x_98155</th>       <td>    0.2638</td> <td>    0.032</td> <td>    8.284</td> <td> 0.000</td> <td>    0.201</td> <td>    0.326</td>\n",
       "</tr>\n",
       "<tr>\n",
       "  <th>x_98166</th>       <td>    0.2897</td> <td>    0.018</td> <td>   16.529</td> <td> 0.000</td> <td>    0.255</td> <td>    0.324</td>\n",
       "</tr>\n",
       "<tr>\n",
       "  <th>x_98168</th>       <td>    0.0541</td> <td>    0.019</td> <td>    2.811</td> <td> 0.005</td> <td>    0.016</td> <td>    0.092</td>\n",
       "</tr>\n",
       "<tr>\n",
       "  <th>x_98177</th>       <td>    0.4208</td> <td>    0.031</td> <td>   13.678</td> <td> 0.000</td> <td>    0.360</td> <td>    0.481</td>\n",
       "</tr>\n",
       "<tr>\n",
       "  <th>x_98178</th>       <td>    0.1486</td> <td>    0.022</td> <td>    6.864</td> <td> 0.000</td> <td>    0.106</td> <td>    0.191</td>\n",
       "</tr>\n",
       "<tr>\n",
       "  <th>x_98188</th>       <td>    0.1260</td> <td>    0.022</td> <td>    5.611</td> <td> 0.000</td> <td>    0.082</td> <td>    0.170</td>\n",
       "</tr>\n",
       "<tr>\n",
       "  <th>x_98198</th>       <td>    0.1130</td> <td>    0.018</td> <td>    6.199</td> <td> 0.000</td> <td>    0.077</td> <td>    0.149</td>\n",
       "</tr>\n",
       "<tr>\n",
       "  <th>x_98199</th>       <td>    0.7327</td> <td>    0.024</td> <td>   30.279</td> <td> 0.000</td> <td>    0.685</td> <td>    0.780</td>\n",
       "</tr>\n",
       "</table>\n",
       "<table class=\"simpletable\">\n",
       "<tr>\n",
       "  <th>Omnibus:</th>       <td>1970.591</td> <th>  Durbin-Watson:     </th> <td>   2.007</td>\n",
       "</tr>\n",
       "<tr>\n",
       "  <th>Prob(Omnibus):</th>  <td> 0.000</td>  <th>  Jarque-Bera (JB):  </th> <td>8912.981</td>\n",
       "</tr>\n",
       "<tr>\n",
       "  <th>Skew:</th>           <td>-0.350</td>  <th>  Prob(JB):          </th> <td>    0.00</td>\n",
       "</tr>\n",
       "<tr>\n",
       "  <th>Kurtosis:</th>       <td> 6.073</td>  <th>  Cond. No.          </th> <td>1.18e+20</td>\n",
       "</tr>\n",
       "</table><br/><br/>Notes:<br/>[1] Standard Errors assume that the covariance matrix of the errors is correctly specified.<br/>[2] The smallest eigenvalue is 1.53e-26. This might indicate that there are<br/>strong multicollinearity problems or that the design matrix is singular."
      ],
      "text/plain": [
       "<class 'statsmodels.iolib.summary.Summary'>\n",
       "\"\"\"\n",
       "                            OLS Regression Results                            \n",
       "==============================================================================\n",
       "Dep. Variable:                  price   R-squared:                       0.877\n",
       "Model:                            OLS   Adj. R-squared:                  0.876\n",
       "Method:                 Least Squares   F-statistic:                     1818.\n",
       "Date:                Wed, 14 Jul 2021   Prob (F-statistic):               0.00\n",
       "Time:                        10:37:06   Log-Likelihood:                 5815.2\n",
       "No. Observations:               21533   AIC:                        -1.146e+04\n",
       "Df Residuals:                   21448   BIC:                        -1.078e+04\n",
       "Df Model:                          84                                         \n",
       "Covariance Type:            nonrobust                                         \n",
       "=================================================================================\n",
       "                    coef    std err          t      P>|t|      [0.025      0.975]\n",
       "---------------------------------------------------------------------------------\n",
       "const            -0.0226      0.001    -20.709      0.000      -0.025      -0.021\n",
       "bedrooms          0.0029      0.002      1.555      0.120      -0.001       0.007\n",
       "bathrooms         0.0415      0.003     13.665      0.000       0.036       0.047\n",
       "sqft_living       0.0001   4.11e-06     30.194      0.000       0.000       0.000\n",
       "sqft_lot       6.391e-07   3.37e-08     18.948      0.000    5.73e-07    7.05e-07\n",
       "floors           -0.0301      0.004     -8.258      0.000      -0.037      -0.023\n",
       "waterfront        0.4590      0.017     26.981      0.000       0.426       0.492\n",
       "view              0.0602      0.002     29.985      0.000       0.056       0.064\n",
       "condition         0.0573      0.002     25.898      0.000       0.053       0.062\n",
       "grade             0.0936      0.002     44.478      0.000       0.089       0.098\n",
       "sqft_above     7.347e-05   4.19e-06     17.523      0.000    6.53e-05    8.17e-05\n",
       "yr_renovated   3.939e-05   3.69e-06     10.684      0.000    3.22e-05    4.66e-05\n",
       "zipcode          -0.0006   7.21e-05     -8.472      0.000      -0.001      -0.000\n",
       "lat               0.5221      0.073      7.140      0.000       0.379       0.665\n",
       "long             -0.3782      0.052     -7.211      0.000      -0.481      -0.275\n",
       "sqft_living15  8.451e-05   3.33e-06     25.415      0.000     7.8e-05     9.1e-05\n",
       "age               0.0005   7.41e-05      6.542      0.000       0.000       0.001\n",
       "x_98002          -0.0141      0.017     -0.845      0.398      -0.047       0.019\n",
       "x_98003          -0.0089      0.015     -0.596      0.551      -0.038       0.020\n",
       "x_98004           0.9490      0.027     35.064      0.000       0.896       1.002\n",
       "x_98005           0.5983      0.029     20.686      0.000       0.542       0.655\n",
       "x_98006           0.5246      0.024     22.169      0.000       0.478       0.571\n",
       "x_98007           0.5303      0.030     17.769      0.000       0.472       0.589\n",
       "x_98008           0.5388      0.028     19.002      0.000       0.483       0.594\n",
       "x_98010           0.3360      0.026     13.063      0.000       0.286       0.386\n",
       "x_98011           0.2421      0.037      6.586      0.000       0.170       0.314\n",
       "x_98014           0.2751      0.041      6.750      0.000       0.195       0.355\n",
       "x_98019           0.2347      0.040      5.857      0.000       0.156       0.313\n",
       "x_98022           0.2013      0.023      8.676      0.000       0.156       0.247\n",
       "x_98023          -0.0603      0.013     -4.520      0.000      -0.086      -0.034\n",
       "x_98024           0.4336      0.036     11.982      0.000       0.363       0.504\n",
       "x_98027           0.4865      0.025     19.710      0.000       0.438       0.535\n",
       "x_98028           0.2079      0.035      5.897      0.000       0.139       0.277\n",
       "x_98029           0.5742      0.028     20.399      0.000       0.519       0.629\n",
       "x_98030           0.0681      0.017      4.061      0.000       0.035       0.101\n",
       "x_98031           0.0679      0.017      3.922      0.000       0.034       0.102\n",
       "x_98032          -0.0587      0.020     -2.974      0.003      -0.097      -0.020\n",
       "x_98033           0.6247      0.030     20.628      0.000       0.565       0.684\n",
       "x_98034           0.3613      0.032     11.161      0.000       0.298       0.425\n",
       "x_98038           0.2479      0.020     12.476      0.000       0.209       0.287\n",
       "x_98039           1.0724      0.036     29.708      0.000       1.002       1.143\n",
       "x_98040           0.7464      0.023     31.770      0.000       0.700       0.792\n",
       "x_98042           0.1086      0.017      6.407      0.000       0.075       0.142\n",
       "x_98045           0.4584      0.036     12.802      0.000       0.388       0.529\n",
       "x_98052           0.5196      0.031     16.710      0.000       0.459       0.581\n",
       "x_98053           0.5030      0.034     14.855      0.000       0.437       0.569\n",
       "x_98055           0.1102      0.019      5.764      0.000       0.073       0.148\n",
       "x_98056           0.2662      0.021     12.899      0.000       0.226       0.307\n",
       "x_98058           0.1664      0.019      8.866      0.000       0.130       0.203\n",
       "x_98059           0.3140      0.021     15.122      0.000       0.273       0.355\n",
       "x_98065           0.4635      0.033     13.901      0.000       0.398       0.529\n",
       "x_98070           0.2412      0.022     11.192      0.000       0.199       0.283\n",
       "x_98072           0.3494      0.036      9.687      0.000       0.279       0.420\n",
       "x_98074           0.5063      0.030     16.702      0.000       0.447       0.566\n",
       "x_98075           0.5269      0.030     17.810      0.000       0.469       0.585\n",
       "x_98077           0.3278      0.038      8.618      0.000       0.253       0.402\n",
       "x_98092           0.1182      0.018      6.504      0.000       0.083       0.154\n",
       "x_98102           0.7942      0.030     26.744      0.000       0.736       0.852\n",
       "x_98103           0.6384      0.027     23.720      0.000       0.586       0.691\n",
       "x_98105           0.7844      0.028     27.572      0.000       0.729       0.840\n",
       "x_98106           0.2295      0.019     11.804      0.000       0.191       0.268\n",
       "x_98107           0.6495      0.028     23.614      0.000       0.596       0.703\n",
       "x_98108           0.2658      0.023     11.744      0.000       0.221       0.310\n",
       "x_98109           0.8276      0.029     28.442      0.000       0.771       0.885\n",
       "x_98112           0.9035      0.026     34.800      0.000       0.853       0.954\n",
       "x_98115           0.6595      0.028     23.784      0.000       0.605       0.714\n",
       "x_98116           0.6238      0.021     29.491      0.000       0.582       0.665\n",
       "x_98117           0.6196      0.027     22.919      0.000       0.567       0.673\n",
       "x_98118           0.3846      0.020     19.032      0.000       0.345       0.424\n",
       "x_98119           0.8146      0.027     30.440      0.000       0.762       0.867\n",
       "x_98122           0.6842      0.025     27.899      0.000       0.636       0.732\n",
       "x_98125           0.4048      0.030     13.513      0.000       0.346       0.464\n",
       "x_98126           0.4342      0.019     22.398      0.000       0.396       0.472\n",
       "x_98133           0.2723      0.030      9.009      0.000       0.213       0.332\n",
       "x_98136           0.5787      0.020     29.249      0.000       0.540       0.618\n",
       "x_98144           0.5705      0.023     25.060      0.000       0.526       0.615\n",
       "x_98146           0.2184      0.018     12.031      0.000       0.183       0.254\n",
       "x_98148           0.1457      0.028      5.273      0.000       0.092       0.200\n",
       "x_98155           0.2638      0.032      8.284      0.000       0.201       0.326\n",
       "x_98166           0.2897      0.018     16.529      0.000       0.255       0.324\n",
       "x_98168           0.0541      0.019      2.811      0.005       0.016       0.092\n",
       "x_98177           0.4208      0.031     13.678      0.000       0.360       0.481\n",
       "x_98178           0.1486      0.022      6.864      0.000       0.106       0.191\n",
       "x_98188           0.1260      0.022      5.611      0.000       0.082       0.170\n",
       "x_98198           0.1130      0.018      6.199      0.000       0.077       0.149\n",
       "x_98199           0.7327      0.024     30.279      0.000       0.685       0.780\n",
       "==============================================================================\n",
       "Omnibus:                     1970.591   Durbin-Watson:                   2.007\n",
       "Prob(Omnibus):                  0.000   Jarque-Bera (JB):             8912.981\n",
       "Skew:                          -0.350   Prob(JB):                         0.00\n",
       "Kurtosis:                       6.073   Cond. No.                     1.18e+20\n",
       "==============================================================================\n",
       "\n",
       "Notes:\n",
       "[1] Standard Errors assume that the covariance matrix of the errors is correctly specified.\n",
       "[2] The smallest eigenvalue is 1.53e-26. This might indicate that there are\n",
       "strong multicollinearity problems or that the design matrix is singular.\n",
       "\"\"\""
      ]
     },
     "execution_count": 58,
     "metadata": {},
     "output_type": "execute_result"
    }
   ],
   "source": [
    "# Checking the OLS for values of significance\n",
    "X = sm.add_constant(X)\n",
    "sm.OLS(y, X).fit().summary()"
   ]
  },
  {
   "cell_type": "code",
   "execution_count": 59,
   "metadata": {},
   "outputs": [
    {
     "data": {
      "image/png": "[encoded data removed]",
      "text/plain": [
       "<Figure size 432x288 with 1 Axes>"
      ]
     },
     "metadata": {
      "needs_background": "light"
     },
     "output_type": "display_data"
    }
   ],
   "source": [
    "residuals = (y_test - pred_lr)\n",
    "sm.graphics.qqplot(residuals, dist=stats.norm, line=\"45\", fit=True);"
   ]
  },
  {
   "cell_type": "markdown",
   "metadata": {},
   "source": [
    "### Model 6: Our best LR model"
   ]
  },
  {
   "cell_type": "code",
   "execution_count": 60,
   "metadata": {},
   "outputs": [],
   "source": [
    "X = df.drop(['price', 'sqft_basement', 'sqft_lot15', 'sqft_above'], axis = 1)\n",
    "y = df['price'] \n",
    "y = np.log(y)\n",
    "X_train, X_test, y_train, y_test = train_test_split(X, y, test_size=0.2, random_state=42)"
   ]
  },
  {
   "cell_type": "code",
   "execution_count": 61,
   "metadata": {},
   "outputs": [],
   "source": [
    "lr = LinearRegression()\n",
    "lr.fit(X_train, y_train)\n",
    "pred_lr = lr.predict(X_test)\n",
    "\n",
    "train_score_lr = lr.score(X_train, y_train)\n",
    "test_score_lr = lr.score(X_test, y_test)\n",
    "\n",
    "lr.coef_[0]\n",
    "lr.intercept_\n",
    "rmse_lr = mean_squared_error(y_test, pred_lr, squared=False)"
   ]
  },
  {
   "cell_type": "code",
   "execution_count": 62,
   "metadata": {},
   "outputs": [
    {
     "data": {
      "text/plain": [
       "(0.8765432246064853, 0.8686285930436822, 0.19224620904800913)"
      ]
     },
     "execution_count": 62,
     "metadata": {},
     "output_type": "execute_result"
    }
   ],
   "source": [
    "train_score_lr, test_score_lr, rmse_lr"
   ]
  },
  {
   "cell_type": "code",
   "execution_count": 63,
   "metadata": {
    "jupyter": {
     "outputs_hidden": true
    }
   },
   "outputs": [
    {
     "data": {
      "text/html": [
       "<table class=\"simpletable\">\n",
       "<caption>OLS Regression Results</caption>\n",
       "<tr>\n",
       "  <th>Dep. Variable:</th>          <td>price</td>      <th>  R-squared:         </th>  <td>   0.875</td> \n",
       "</tr>\n",
       "<tr>\n",
       "  <th>Model:</th>                   <td>OLS</td>       <th>  Adj. R-squared:    </th>  <td>   0.875</td> \n",
       "</tr>\n",
       "<tr>\n",
       "  <th>Method:</th>             <td>Least Squares</td>  <th>  F-statistic:       </th>  <td>   1810.</td> \n",
       "</tr>\n",
       "<tr>\n",
       "  <th>Date:</th>             <td>Wed, 14 Jul 2021</td> <th>  Prob (F-statistic):</th>   <td>  0.00</td>  \n",
       "</tr>\n",
       "<tr>\n",
       "  <th>Time:</th>                 <td>10:37:06</td>     <th>  Log-Likelihood:    </th>  <td>  5662.2</td> \n",
       "</tr>\n",
       "<tr>\n",
       "  <th>No. Observations:</th>      <td> 21533</td>      <th>  AIC:               </th> <td>-1.116e+04</td>\n",
       "</tr>\n",
       "<tr>\n",
       "  <th>Df Residuals:</th>          <td> 21449</td>      <th>  BIC:               </th> <td>-1.049e+04</td>\n",
       "</tr>\n",
       "<tr>\n",
       "  <th>Df Model:</th>              <td>    83</td>      <th>                     </th>      <td> </td>    \n",
       "</tr>\n",
       "<tr>\n",
       "  <th>Covariance Type:</th>      <td>nonrobust</td>    <th>                     </th>      <td> </td>    \n",
       "</tr>\n",
       "</table>\n",
       "<table class=\"simpletable\">\n",
       "<tr>\n",
       "        <td></td>           <th>coef</th>     <th>std err</th>      <th>t</th>      <th>P>|t|</th>  <th>[0.025</th>    <th>0.975]</th>  \n",
       "</tr>\n",
       "<tr>\n",
       "  <th>const</th>         <td>   -0.0218</td> <td>    0.001</td> <td>  -19.819</td> <td> 0.000</td> <td>   -0.024</td> <td>   -0.020</td>\n",
       "</tr>\n",
       "<tr>\n",
       "  <th>bedrooms</th>      <td>    0.0021</td> <td>    0.002</td> <td>    1.119</td> <td> 0.263</td> <td>   -0.002</td> <td>    0.006</td>\n",
       "</tr>\n",
       "<tr>\n",
       "  <th>bathrooms</th>     <td>    0.0349</td> <td>    0.003</td> <td>   11.486</td> <td> 0.000</td> <td>    0.029</td> <td>    0.041</td>\n",
       "</tr>\n",
       "<tr>\n",
       "  <th>sqft_living</th>   <td>    0.0002</td> <td> 3.17e-06</td> <td>   53.832</td> <td> 0.000</td> <td>    0.000</td> <td>    0.000</td>\n",
       "</tr>\n",
       "<tr>\n",
       "  <th>sqft_lot</th>      <td>  6.61e-07</td> <td> 3.39e-08</td> <td>   19.470</td> <td> 0.000</td> <td> 5.94e-07</td> <td> 7.28e-07</td>\n",
       "</tr>\n",
       "<tr>\n",
       "  <th>floors</th>        <td>    0.0006</td> <td>    0.003</td> <td>    0.181</td> <td> 0.857</td> <td>   -0.006</td> <td>    0.007</td>\n",
       "</tr>\n",
       "<tr>\n",
       "  <th>waterfront</th>    <td>    0.4618</td> <td>    0.017</td> <td>   26.958</td> <td> 0.000</td> <td>    0.428</td> <td>    0.495</td>\n",
       "</tr>\n",
       "<tr>\n",
       "  <th>view</th>          <td>    0.0549</td> <td>    0.002</td> <td>   27.477</td> <td> 0.000</td> <td>    0.051</td> <td>    0.059</td>\n",
       "</tr>\n",
       "<tr>\n",
       "  <th>condition</th>     <td>    0.0538</td> <td>    0.002</td> <td>   24.221</td> <td> 0.000</td> <td>    0.049</td> <td>    0.058</td>\n",
       "</tr>\n",
       "<tr>\n",
       "  <th>grade</th>         <td>    0.1006</td> <td>    0.002</td> <td>   48.320</td> <td> 0.000</td> <td>    0.096</td> <td>    0.105</td>\n",
       "</tr>\n",
       "<tr>\n",
       "  <th>yr_renovated</th>  <td> 3.758e-05</td> <td> 3.71e-06</td> <td>   10.124</td> <td> 0.000</td> <td> 3.03e-05</td> <td> 4.49e-05</td>\n",
       "</tr>\n",
       "<tr>\n",
       "  <th>zipcode</th>       <td>   -0.0006</td> <td> 7.26e-05</td> <td>   -7.932</td> <td> 0.000</td> <td>   -0.001</td> <td>   -0.000</td>\n",
       "</tr>\n",
       "<tr>\n",
       "  <th>lat</th>           <td>    0.5170</td> <td>    0.074</td> <td>    7.020</td> <td> 0.000</td> <td>    0.373</td> <td>    0.661</td>\n",
       "</tr>\n",
       "<tr>\n",
       "  <th>long</th>          <td>   -0.3516</td> <td>    0.053</td> <td>   -6.661</td> <td> 0.000</td> <td>   -0.455</td> <td>   -0.248</td>\n",
       "</tr>\n",
       "<tr>\n",
       "  <th>sqft_living15</th> <td> 9.106e-05</td> <td> 3.33e-06</td> <td>   27.367</td> <td> 0.000</td> <td> 8.45e-05</td> <td> 9.76e-05</td>\n",
       "</tr>\n",
       "<tr>\n",
       "  <th>age</th>           <td>    0.0006</td> <td> 7.41e-05</td> <td>    8.597</td> <td> 0.000</td> <td>    0.000</td> <td>    0.001</td>\n",
       "</tr>\n",
       "<tr>\n",
       "  <th>x_98002</th>       <td>   -0.0103</td> <td>    0.017</td> <td>   -0.613</td> <td> 0.540</td> <td>   -0.043</td> <td>    0.023</td>\n",
       "</tr>\n",
       "<tr>\n",
       "  <th>x_98003</th>       <td>   -0.0115</td> <td>    0.015</td> <td>   -0.766</td> <td> 0.443</td> <td>   -0.041</td> <td>    0.018</td>\n",
       "</tr>\n",
       "<tr>\n",
       "  <th>x_98004</th>       <td>    0.9423</td> <td>    0.027</td> <td>   34.573</td> <td> 0.000</td> <td>    0.889</td> <td>    0.996</td>\n",
       "</tr>\n",
       "<tr>\n",
       "  <th>x_98005</th>       <td>    0.5881</td> <td>    0.029</td> <td>   20.194</td> <td> 0.000</td> <td>    0.531</td> <td>    0.645</td>\n",
       "</tr>\n",
       "<tr>\n",
       "  <th>x_98006</th>       <td>    0.5091</td> <td>    0.024</td> <td>   21.378</td> <td> 0.000</td> <td>    0.462</td> <td>    0.556</td>\n",
       "</tr>\n",
       "<tr>\n",
       "  <th>x_98007</th>       <td>    0.5218</td> <td>    0.030</td> <td>   17.364</td> <td> 0.000</td> <td>    0.463</td> <td>    0.581</td>\n",
       "</tr>\n",
       "<tr>\n",
       "  <th>x_98008</th>       <td>    0.5302</td> <td>    0.029</td> <td>   18.568</td> <td> 0.000</td> <td>    0.474</td> <td>    0.586</td>\n",
       "</tr>\n",
       "<tr>\n",
       "  <th>x_98010</th>       <td>    0.3345</td> <td>    0.026</td> <td>   12.911</td> <td> 0.000</td> <td>    0.284</td> <td>    0.385</td>\n",
       "</tr>\n",
       "<tr>\n",
       "  <th>x_98011</th>       <td>    0.2361</td> <td>    0.037</td> <td>    6.377</td> <td> 0.000</td> <td>    0.164</td> <td>    0.309</td>\n",
       "</tr>\n",
       "<tr>\n",
       "  <th>x_98014</th>       <td>    0.2688</td> <td>    0.041</td> <td>    6.549</td> <td> 0.000</td> <td>    0.188</td> <td>    0.349</td>\n",
       "</tr>\n",
       "<tr>\n",
       "  <th>x_98019</th>       <td>    0.2277</td> <td>    0.040</td> <td>    5.643</td> <td> 0.000</td> <td>    0.149</td> <td>    0.307</td>\n",
       "</tr>\n",
       "<tr>\n",
       "  <th>x_98022</th>       <td>    0.2011</td> <td>    0.023</td> <td>    8.606</td> <td> 0.000</td> <td>    0.155</td> <td>    0.247</td>\n",
       "</tr>\n",
       "<tr>\n",
       "  <th>x_98023</th>       <td>   -0.0631</td> <td>    0.013</td> <td>   -4.696</td> <td> 0.000</td> <td>   -0.089</td> <td>   -0.037</td>\n",
       "</tr>\n",
       "<tr>\n",
       "  <th>x_98024</th>       <td>    0.4323</td> <td>    0.036</td> <td>   11.864</td> <td> 0.000</td> <td>    0.361</td> <td>    0.504</td>\n",
       "</tr>\n",
       "<tr>\n",
       "  <th>x_98027</th>       <td>    0.4680</td> <td>    0.025</td> <td>   18.844</td> <td> 0.000</td> <td>    0.419</td> <td>    0.517</td>\n",
       "</tr>\n",
       "<tr>\n",
       "  <th>x_98028</th>       <td>    0.1997</td> <td>    0.035</td> <td>    5.627</td> <td> 0.000</td> <td>    0.130</td> <td>    0.269</td>\n",
       "</tr>\n",
       "<tr>\n",
       "  <th>x_98029</th>       <td>    0.5622</td> <td>    0.028</td> <td>   19.839</td> <td> 0.000</td> <td>    0.507</td> <td>    0.618</td>\n",
       "</tr>\n",
       "<tr>\n",
       "  <th>x_98030</th>       <td>    0.0658</td> <td>    0.017</td> <td>    3.897</td> <td> 0.000</td> <td>    0.033</td> <td>    0.099</td>\n",
       "</tr>\n",
       "<tr>\n",
       "  <th>x_98031</th>       <td>    0.0623</td> <td>    0.017</td> <td>    3.574</td> <td> 0.000</td> <td>    0.028</td> <td>    0.096</td>\n",
       "</tr>\n",
       "<tr>\n",
       "  <th>x_98032</th>       <td>   -0.0678</td> <td>    0.020</td> <td>   -3.410</td> <td> 0.001</td> <td>   -0.107</td> <td>   -0.029</td>\n",
       "</tr>\n",
       "<tr>\n",
       "  <th>x_98033</th>       <td>    0.6195</td> <td>    0.030</td> <td>   20.313</td> <td> 0.000</td> <td>    0.560</td> <td>    0.679</td>\n",
       "</tr>\n",
       "<tr>\n",
       "  <th>x_98034</th>       <td>    0.3548</td> <td>    0.033</td> <td>   10.883</td> <td> 0.000</td> <td>    0.291</td> <td>    0.419</td>\n",
       "</tr>\n",
       "<tr>\n",
       "  <th>x_98038</th>       <td>    0.2436</td> <td>    0.020</td> <td>   12.176</td> <td> 0.000</td> <td>    0.204</td> <td>    0.283</td>\n",
       "</tr>\n",
       "<tr>\n",
       "  <th>x_98039</th>       <td>    1.0805</td> <td>    0.036</td> <td>   29.722</td> <td> 0.000</td> <td>    1.009</td> <td>    1.152</td>\n",
       "</tr>\n",
       "<tr>\n",
       "  <th>x_98040</th>       <td>    0.7330</td> <td>    0.024</td> <td>   30.997</td> <td> 0.000</td> <td>    0.687</td> <td>    0.779</td>\n",
       "</tr>\n",
       "<tr>\n",
       "  <th>x_98042</th>       <td>    0.1067</td> <td>    0.017</td> <td>    6.255</td> <td> 0.000</td> <td>    0.073</td> <td>    0.140</td>\n",
       "</tr>\n",
       "<tr>\n",
       "  <th>x_98045</th>       <td>    0.4481</td> <td>    0.036</td> <td>   12.428</td> <td> 0.000</td> <td>    0.377</td> <td>    0.519</td>\n",
       "</tr>\n",
       "<tr>\n",
       "  <th>x_98052</th>       <td>    0.5109</td> <td>    0.031</td> <td>   16.319</td> <td> 0.000</td> <td>    0.450</td> <td>    0.572</td>\n",
       "</tr>\n",
       "<tr>\n",
       "  <th>x_98053</th>       <td>    0.5091</td> <td>    0.034</td> <td>   14.932</td> <td> 0.000</td> <td>    0.442</td> <td>    0.576</td>\n",
       "</tr>\n",
       "<tr>\n",
       "  <th>x_98055</th>       <td>    0.1030</td> <td>    0.019</td> <td>    5.354</td> <td> 0.000</td> <td>    0.065</td> <td>    0.141</td>\n",
       "</tr>\n",
       "<tr>\n",
       "  <th>x_98056</th>       <td>    0.2627</td> <td>    0.021</td> <td>   12.641</td> <td> 0.000</td> <td>    0.222</td> <td>    0.303</td>\n",
       "</tr>\n",
       "<tr>\n",
       "  <th>x_98058</th>       <td>    0.1598</td> <td>    0.019</td> <td>    8.456</td> <td> 0.000</td> <td>    0.123</td> <td>    0.197</td>\n",
       "</tr>\n",
       "<tr>\n",
       "  <th>x_98059</th>       <td>    0.3162</td> <td>    0.021</td> <td>   15.124</td> <td> 0.000</td> <td>    0.275</td> <td>    0.357</td>\n",
       "</tr>\n",
       "<tr>\n",
       "  <th>x_98065</th>       <td>    0.4583</td> <td>    0.034</td> <td>   13.647</td> <td> 0.000</td> <td>    0.392</td> <td>    0.524</td>\n",
       "</tr>\n",
       "<tr>\n",
       "  <th>x_98070</th>       <td>    0.2445</td> <td>    0.022</td> <td>   11.263</td> <td> 0.000</td> <td>    0.202</td> <td>    0.287</td>\n",
       "</tr>\n",
       "<tr>\n",
       "  <th>x_98072</th>       <td>    0.3409</td> <td>    0.036</td> <td>    9.385</td> <td> 0.000</td> <td>    0.270</td> <td>    0.412</td>\n",
       "</tr>\n",
       "<tr>\n",
       "  <th>x_98074</th>       <td>    0.4982</td> <td>    0.031</td> <td>   16.321</td> <td> 0.000</td> <td>    0.438</td> <td>    0.558</td>\n",
       "</tr>\n",
       "<tr>\n",
       "  <th>x_98075</th>       <td>    0.5255</td> <td>    0.030</td> <td>   17.635</td> <td> 0.000</td> <td>    0.467</td> <td>    0.584</td>\n",
       "</tr>\n",
       "<tr>\n",
       "  <th>x_98077</th>       <td>    0.3266</td> <td>    0.038</td> <td>    8.526</td> <td> 0.000</td> <td>    0.251</td> <td>    0.402</td>\n",
       "</tr>\n",
       "<tr>\n",
       "  <th>x_98092</th>       <td>    0.1151</td> <td>    0.018</td> <td>    6.288</td> <td> 0.000</td> <td>    0.079</td> <td>    0.151</td>\n",
       "</tr>\n",
       "<tr>\n",
       "  <th>x_98102</th>       <td>    0.7573</td> <td>    0.030</td> <td>   25.386</td> <td> 0.000</td> <td>    0.699</td> <td>    0.816</td>\n",
       "</tr>\n",
       "<tr>\n",
       "  <th>x_98103</th>       <td>    0.6119</td> <td>    0.027</td> <td>   22.613</td> <td> 0.000</td> <td>    0.559</td> <td>    0.665</td>\n",
       "</tr>\n",
       "<tr>\n",
       "  <th>x_98105</th>       <td>    0.7568</td> <td>    0.029</td> <td>   26.456</td> <td> 0.000</td> <td>    0.701</td> <td>    0.813</td>\n",
       "</tr>\n",
       "<tr>\n",
       "  <th>x_98106</th>       <td>    0.2125</td> <td>    0.020</td> <td>   10.870</td> <td> 0.000</td> <td>    0.174</td> <td>    0.251</td>\n",
       "</tr>\n",
       "<tr>\n",
       "  <th>x_98107</th>       <td>    0.6222</td> <td>    0.028</td> <td>   22.496</td> <td> 0.000</td> <td>    0.568</td> <td>    0.676</td>\n",
       "</tr>\n",
       "<tr>\n",
       "  <th>x_98108</th>       <td>    0.2438</td> <td>    0.023</td> <td>   10.714</td> <td> 0.000</td> <td>    0.199</td> <td>    0.288</td>\n",
       "</tr>\n",
       "<tr>\n",
       "  <th>x_98109</th>       <td>    0.7975</td> <td>    0.029</td> <td>   27.259</td> <td> 0.000</td> <td>    0.740</td> <td>    0.855</td>\n",
       "</tr>\n",
       "<tr>\n",
       "  <th>x_98112</th>       <td>    0.8708</td> <td>    0.026</td> <td>   33.390</td> <td> 0.000</td> <td>    0.820</td> <td>    0.922</td>\n",
       "</tr>\n",
       "<tr>\n",
       "  <th>x_98115</th>       <td>    0.6343</td> <td>    0.028</td> <td>   22.746</td> <td> 0.000</td> <td>    0.580</td> <td>    0.689</td>\n",
       "</tr>\n",
       "<tr>\n",
       "  <th>x_98116</th>       <td>    0.5996</td> <td>    0.021</td> <td>   28.206</td> <td> 0.000</td> <td>    0.558</td> <td>    0.641</td>\n",
       "</tr>\n",
       "<tr>\n",
       "  <th>x_98117</th>       <td>    0.5974</td> <td>    0.027</td> <td>   21.967</td> <td> 0.000</td> <td>    0.544</td> <td>    0.651</td>\n",
       "</tr>\n",
       "<tr>\n",
       "  <th>x_98118</th>       <td>    0.3638</td> <td>    0.020</td> <td>   17.904</td> <td> 0.000</td> <td>    0.324</td> <td>    0.404</td>\n",
       "</tr>\n",
       "<tr>\n",
       "  <th>x_98119</th>       <td>    0.7829</td> <td>    0.027</td> <td>   29.115</td> <td> 0.000</td> <td>    0.730</td> <td>    0.836</td>\n",
       "</tr>\n",
       "<tr>\n",
       "  <th>x_98122</th>       <td>    0.6543</td> <td>    0.025</td> <td>   26.555</td> <td> 0.000</td> <td>    0.606</td> <td>    0.703</td>\n",
       "</tr>\n",
       "<tr>\n",
       "  <th>x_98125</th>       <td>    0.3887</td> <td>    0.030</td> <td>   12.888</td> <td> 0.000</td> <td>    0.330</td> <td>    0.448</td>\n",
       "</tr>\n",
       "<tr>\n",
       "  <th>x_98126</th>       <td>    0.4179</td> <td>    0.020</td> <td>   21.430</td> <td> 0.000</td> <td>    0.380</td> <td>    0.456</td>\n",
       "</tr>\n",
       "<tr>\n",
       "  <th>x_98133</th>       <td>    0.2584</td> <td>    0.030</td> <td>    8.490</td> <td> 0.000</td> <td>    0.199</td> <td>    0.318</td>\n",
       "</tr>\n",
       "<tr>\n",
       "  <th>x_98136</th>       <td>    0.5565</td> <td>    0.020</td> <td>   27.985</td> <td> 0.000</td> <td>    0.518</td> <td>    0.596</td>\n",
       "</tr>\n",
       "<tr>\n",
       "  <th>x_98144</th>       <td>    0.5405</td> <td>    0.023</td> <td>   23.645</td> <td> 0.000</td> <td>    0.496</td> <td>    0.585</td>\n",
       "</tr>\n",
       "<tr>\n",
       "  <th>x_98146</th>       <td>    0.2108</td> <td>    0.018</td> <td>   11.530</td> <td> 0.000</td> <td>    0.175</td> <td>    0.247</td>\n",
       "</tr>\n",
       "<tr>\n",
       "  <th>x_98148</th>       <td>    0.1437</td> <td>    0.028</td> <td>    5.167</td> <td> 0.000</td> <td>    0.089</td> <td>    0.198</td>\n",
       "</tr>\n",
       "<tr>\n",
       "  <th>x_98155</th>       <td>    0.2537</td> <td>    0.032</td> <td>    7.912</td> <td> 0.000</td> <td>    0.191</td> <td>    0.317</td>\n",
       "</tr>\n",
       "<tr>\n",
       "  <th>x_98166</th>       <td>    0.2820</td> <td>    0.018</td> <td>   15.982</td> <td> 0.000</td> <td>    0.247</td> <td>    0.317</td>\n",
       "</tr>\n",
       "<tr>\n",
       "  <th>x_98168</th>       <td>    0.0413</td> <td>    0.019</td> <td>    2.130</td> <td> 0.033</td> <td>    0.003</td> <td>    0.079</td>\n",
       "</tr>\n",
       "<tr>\n",
       "  <th>x_98177</th>       <td>    0.4081</td> <td>    0.031</td> <td>   13.175</td> <td> 0.000</td> <td>    0.347</td> <td>    0.469</td>\n",
       "</tr>\n",
       "<tr>\n",
       "  <th>x_98178</th>       <td>    0.1301</td> <td>    0.022</td> <td>    5.974</td> <td> 0.000</td> <td>    0.087</td> <td>    0.173</td>\n",
       "</tr>\n",
       "<tr>\n",
       "  <th>x_98188</th>       <td>    0.1143</td> <td>    0.023</td> <td>    5.058</td> <td> 0.000</td> <td>    0.070</td> <td>    0.159</td>\n",
       "</tr>\n",
       "<tr>\n",
       "  <th>x_98198</th>       <td>    0.1043</td> <td>    0.018</td> <td>    5.687</td> <td> 0.000</td> <td>    0.068</td> <td>    0.140</td>\n",
       "</tr>\n",
       "<tr>\n",
       "  <th>x_98199</th>       <td>    0.7025</td> <td>    0.024</td> <td>   28.900</td> <td> 0.000</td> <td>    0.655</td> <td>    0.750</td>\n",
       "</tr>\n",
       "</table>\n",
       "<table class=\"simpletable\">\n",
       "<tr>\n",
       "  <th>Omnibus:</th>       <td>1903.499</td> <th>  Durbin-Watson:     </th> <td>   2.005</td>\n",
       "</tr>\n",
       "<tr>\n",
       "  <th>Prob(Omnibus):</th>  <td> 0.000</td>  <th>  Jarque-Bera (JB):  </th> <td>8551.934</td>\n",
       "</tr>\n",
       "<tr>\n",
       "  <th>Skew:</th>           <td>-0.332</td>  <th>  Prob(JB):          </th> <td>    0.00</td>\n",
       "</tr>\n",
       "<tr>\n",
       "  <th>Kurtosis:</th>       <td> 6.015</td>  <th>  Cond. No.          </th> <td>8.11e+19</td>\n",
       "</tr>\n",
       "</table><br/><br/>Notes:<br/>[1] Standard Errors assume that the covariance matrix of the errors is correctly specified.<br/>[2] The smallest eigenvalue is 3.25e-26. This might indicate that there are<br/>strong multicollinearity problems or that the design matrix is singular."
      ],
      "text/plain": [
       "<class 'statsmodels.iolib.summary.Summary'>\n",
       "\"\"\"\n",
       "                            OLS Regression Results                            \n",
       "==============================================================================\n",
       "Dep. Variable:                  price   R-squared:                       0.875\n",
       "Model:                            OLS   Adj. R-squared:                  0.875\n",
       "Method:                 Least Squares   F-statistic:                     1810.\n",
       "Date:                Wed, 14 Jul 2021   Prob (F-statistic):               0.00\n",
       "Time:                        10:37:06   Log-Likelihood:                 5662.2\n",
       "No. Observations:               21533   AIC:                        -1.116e+04\n",
       "Df Residuals:                   21449   BIC:                        -1.049e+04\n",
       "Df Model:                          83                                         \n",
       "Covariance Type:            nonrobust                                         \n",
       "=================================================================================\n",
       "                    coef    std err          t      P>|t|      [0.025      0.975]\n",
       "---------------------------------------------------------------------------------\n",
       "const            -0.0218      0.001    -19.819      0.000      -0.024      -0.020\n",
       "bedrooms          0.0021      0.002      1.119      0.263      -0.002       0.006\n",
       "bathrooms         0.0349      0.003     11.486      0.000       0.029       0.041\n",
       "sqft_living       0.0002   3.17e-06     53.832      0.000       0.000       0.000\n",
       "sqft_lot        6.61e-07   3.39e-08     19.470      0.000    5.94e-07    7.28e-07\n",
       "floors            0.0006      0.003      0.181      0.857      -0.006       0.007\n",
       "waterfront        0.4618      0.017     26.958      0.000       0.428       0.495\n",
       "view              0.0549      0.002     27.477      0.000       0.051       0.059\n",
       "condition         0.0538      0.002     24.221      0.000       0.049       0.058\n",
       "grade             0.1006      0.002     48.320      0.000       0.096       0.105\n",
       "yr_renovated   3.758e-05   3.71e-06     10.124      0.000    3.03e-05    4.49e-05\n",
       "zipcode          -0.0006   7.26e-05     -7.932      0.000      -0.001      -0.000\n",
       "lat               0.5170      0.074      7.020      0.000       0.373       0.661\n",
       "long             -0.3516      0.053     -6.661      0.000      -0.455      -0.248\n",
       "sqft_living15  9.106e-05   3.33e-06     27.367      0.000    8.45e-05    9.76e-05\n",
       "age               0.0006   7.41e-05      8.597      0.000       0.000       0.001\n",
       "x_98002          -0.0103      0.017     -0.613      0.540      -0.043       0.023\n",
       "x_98003          -0.0115      0.015     -0.766      0.443      -0.041       0.018\n",
       "x_98004           0.9423      0.027     34.573      0.000       0.889       0.996\n",
       "x_98005           0.5881      0.029     20.194      0.000       0.531       0.645\n",
       "x_98006           0.5091      0.024     21.378      0.000       0.462       0.556\n",
       "x_98007           0.5218      0.030     17.364      0.000       0.463       0.581\n",
       "x_98008           0.5302      0.029     18.568      0.000       0.474       0.586\n",
       "x_98010           0.3345      0.026     12.911      0.000       0.284       0.385\n",
       "x_98011           0.2361      0.037      6.377      0.000       0.164       0.309\n",
       "x_98014           0.2688      0.041      6.549      0.000       0.188       0.349\n",
       "x_98019           0.2277      0.040      5.643      0.000       0.149       0.307\n",
       "x_98022           0.2011      0.023      8.606      0.000       0.155       0.247\n",
       "x_98023          -0.0631      0.013     -4.696      0.000      -0.089      -0.037\n",
       "x_98024           0.4323      0.036     11.864      0.000       0.361       0.504\n",
       "x_98027           0.4680      0.025     18.844      0.000       0.419       0.517\n",
       "x_98028           0.1997      0.035      5.627      0.000       0.130       0.269\n",
       "x_98029           0.5622      0.028     19.839      0.000       0.507       0.618\n",
       "x_98030           0.0658      0.017      3.897      0.000       0.033       0.099\n",
       "x_98031           0.0623      0.017      3.574      0.000       0.028       0.096\n",
       "x_98032          -0.0678      0.020     -3.410      0.001      -0.107      -0.029\n",
       "x_98033           0.6195      0.030     20.313      0.000       0.560       0.679\n",
       "x_98034           0.3548      0.033     10.883      0.000       0.291       0.419\n",
       "x_98038           0.2436      0.020     12.176      0.000       0.204       0.283\n",
       "x_98039           1.0805      0.036     29.722      0.000       1.009       1.152\n",
       "x_98040           0.7330      0.024     30.997      0.000       0.687       0.779\n",
       "x_98042           0.1067      0.017      6.255      0.000       0.073       0.140\n",
       "x_98045           0.4481      0.036     12.428      0.000       0.377       0.519\n",
       "x_98052           0.5109      0.031     16.319      0.000       0.450       0.572\n",
       "x_98053           0.5091      0.034     14.932      0.000       0.442       0.576\n",
       "x_98055           0.1030      0.019      5.354      0.000       0.065       0.141\n",
       "x_98056           0.2627      0.021     12.641      0.000       0.222       0.303\n",
       "x_98058           0.1598      0.019      8.456      0.000       0.123       0.197\n",
       "x_98059           0.3162      0.021     15.124      0.000       0.275       0.357\n",
       "x_98065           0.4583      0.034     13.647      0.000       0.392       0.524\n",
       "x_98070           0.2445      0.022     11.263      0.000       0.202       0.287\n",
       "x_98072           0.3409      0.036      9.385      0.000       0.270       0.412\n",
       "x_98074           0.4982      0.031     16.321      0.000       0.438       0.558\n",
       "x_98075           0.5255      0.030     17.635      0.000       0.467       0.584\n",
       "x_98077           0.3266      0.038      8.526      0.000       0.251       0.402\n",
       "x_98092           0.1151      0.018      6.288      0.000       0.079       0.151\n",
       "x_98102           0.7573      0.030     25.386      0.000       0.699       0.816\n",
       "x_98103           0.6119      0.027     22.613      0.000       0.559       0.665\n",
       "x_98105           0.7568      0.029     26.456      0.000       0.701       0.813\n",
       "x_98106           0.2125      0.020     10.870      0.000       0.174       0.251\n",
       "x_98107           0.6222      0.028     22.496      0.000       0.568       0.676\n",
       "x_98108           0.2438      0.023     10.714      0.000       0.199       0.288\n",
       "x_98109           0.7975      0.029     27.259      0.000       0.740       0.855\n",
       "x_98112           0.8708      0.026     33.390      0.000       0.820       0.922\n",
       "x_98115           0.6343      0.028     22.746      0.000       0.580       0.689\n",
       "x_98116           0.5996      0.021     28.206      0.000       0.558       0.641\n",
       "x_98117           0.5974      0.027     21.967      0.000       0.544       0.651\n",
       "x_98118           0.3638      0.020     17.904      0.000       0.324       0.404\n",
       "x_98119           0.7829      0.027     29.115      0.000       0.730       0.836\n",
       "x_98122           0.6543      0.025     26.555      0.000       0.606       0.703\n",
       "x_98125           0.3887      0.030     12.888      0.000       0.330       0.448\n",
       "x_98126           0.4179      0.020     21.430      0.000       0.380       0.456\n",
       "x_98133           0.2584      0.030      8.490      0.000       0.199       0.318\n",
       "x_98136           0.5565      0.020     27.985      0.000       0.518       0.596\n",
       "x_98144           0.5405      0.023     23.645      0.000       0.496       0.585\n",
       "x_98146           0.2108      0.018     11.530      0.000       0.175       0.247\n",
       "x_98148           0.1437      0.028      5.167      0.000       0.089       0.198\n",
       "x_98155           0.2537      0.032      7.912      0.000       0.191       0.317\n",
       "x_98166           0.2820      0.018     15.982      0.000       0.247       0.317\n",
       "x_98168           0.0413      0.019      2.130      0.033       0.003       0.079\n",
       "x_98177           0.4081      0.031     13.175      0.000       0.347       0.469\n",
       "x_98178           0.1301      0.022      5.974      0.000       0.087       0.173\n",
       "x_98188           0.1143      0.023      5.058      0.000       0.070       0.159\n",
       "x_98198           0.1043      0.018      5.687      0.000       0.068       0.140\n",
       "x_98199           0.7025      0.024     28.900      0.000       0.655       0.750\n",
       "==============================================================================\n",
       "Omnibus:                     1903.499   Durbin-Watson:                   2.005\n",
       "Prob(Omnibus):                  0.000   Jarque-Bera (JB):             8551.934\n",
       "Skew:                          -0.332   Prob(JB):                         0.00\n",
       "Kurtosis:                       6.015   Cond. No.                     8.11e+19\n",
       "==============================================================================\n",
       "\n",
       "Notes:\n",
       "[1] Standard Errors assume that the covariance matrix of the errors is correctly specified.\n",
       "[2] The smallest eigenvalue is 3.25e-26. This might indicate that there are\n",
       "strong multicollinearity problems or that the design matrix is singular.\n",
       "\"\"\""
      ]
     },
     "execution_count": 63,
     "metadata": {},
     "output_type": "execute_result"
    }
   ],
   "source": [
    "X = sm.add_constant(X)\n",
    "sm.OLS(y, X).fit().summary()"
   ]
  },
  {
   "cell_type": "code",
   "execution_count": 64,
   "metadata": {},
   "outputs": [
    {
     "data": {
      "image/png": "[encoded data removed]",
      "text/plain": [
       "<Figure size 432x288 with 1 Axes>"
      ]
     },
     "metadata": {
      "needs_background": "light"
     },
     "output_type": "display_data"
    }
   ],
   "source": [
    "# Making the QQ Plot\n",
    "residuals = (y_test - pred_lr)\n",
    "sm.graphics.qqplot(residuals, dist=stats.norm, line=\"45\", fit=True);"
   ]
  },
  {
   "cell_type": "markdown",
   "metadata": {},
   "source": [
    "### Model 7: Feature Engineering"
   ]
  },
  {
   "cell_type": "code",
   "execution_count": 65,
   "metadata": {},
   "outputs": [],
   "source": [
    "# Feature Engineering Making 4 new colmns\n",
    "df['grade_sqft_living'] = (df.grade**2) * df.sqft_living\n",
    "df['grade_sqft_above'] = (df.grade**2) * df.sqft_above\n",
    "df['grade_sqft_living15'] = (df.grade**2) * df.sqft_living15\n",
    "df['grade_bathrooms'] = (df.grade**2) * df.bathrooms"
   ]
  },
  {
   "cell_type": "code",
   "execution_count": 66,
   "metadata": {},
   "outputs": [],
   "source": [
    "# Droping columns that are not going to be used\n",
    "X = df.drop(['price', 'sqft_basement', 'sqft_lot15', 'sqft_above', 'bathrooms', 'sqft_living', 'grade'], axis = 1)\n",
    "y = df['price'] \n",
    "y = np.log(y)\n",
    "X_train, X_test, y_train, y_test = train_test_split(X, y, test_size=0.2, random_state=42)"
   ]
  },
  {
   "cell_type": "code",
   "execution_count": 67,
   "metadata": {},
   "outputs": [
    {
     "data": {
      "text/plain": [
       "LinearRegression()"
      ]
     },
     "execution_count": 67,
     "metadata": {},
     "output_type": "execute_result"
    }
   ],
   "source": [
    "# Initialize an empty regression model\n",
    "lr = LinearRegression()\n",
    "\n",
    "# Fits the model to our training dataset\n",
    "lr.fit(X_train, y_train)"
   ]
  },
  {
   "cell_type": "code",
   "execution_count": 68,
   "metadata": {},
   "outputs": [],
   "source": [
    "pred_lr = lr.predict(X_test)"
   ]
  },
  {
   "cell_type": "code",
   "execution_count": 69,
   "metadata": {},
   "outputs": [],
   "source": [
    "train_score_lr = lr.score(X_train, y_train)\n",
    "test_score_lr = lr.score(X_test, y_test)"
   ]
  },
  {
   "cell_type": "code",
   "execution_count": 70,
   "metadata": {},
   "outputs": [
    {
     "data": {
      "text/plain": [
       "0.03313124921093065"
      ]
     },
     "execution_count": 70,
     "metadata": {},
     "output_type": "execute_result"
    }
   ],
   "source": [
    "lr.coef_[0]"
   ]
  },
  {
   "cell_type": "code",
   "execution_count": 71,
   "metadata": {},
   "outputs": [
    {
     "data": {
      "text/plain": [
       "-347.4322928629627"
      ]
     },
     "execution_count": 71,
     "metadata": {},
     "output_type": "execute_result"
    }
   ],
   "source": [
    "lr.intercept_"
   ]
  },
  {
   "cell_type": "code",
   "execution_count": 72,
   "metadata": {},
   "outputs": [],
   "source": [
    "rmse_lr = mean_squared_error(y_test, pred_lr, squared=False)"
   ]
  },
  {
   "cell_type": "code",
   "execution_count": 73,
   "metadata": {},
   "outputs": [
    {
     "data": {
      "text/plain": [
       "(0.8571154620484477, 0.8450870182575906, 0.2087619119328388)"
      ]
     },
     "execution_count": 73,
     "metadata": {},
     "output_type": "execute_result"
    }
   ],
   "source": [
    "train_score_lr, test_score_lr, rmse_lr"
   ]
  },
  {
   "cell_type": "code",
   "execution_count": 74,
   "metadata": {
    "scrolled": true
   },
   "outputs": [
    {
     "data": {
      "text/html": [
       "<table class=\"simpletable\">\n",
       "<caption>OLS Regression Results</caption>\n",
       "<tr>\n",
       "  <th>Dep. Variable:</th>          <td>price</td>      <th>  R-squared:         </th> <td>   0.855</td>\n",
       "</tr>\n",
       "<tr>\n",
       "  <th>Model:</th>                   <td>OLS</td>       <th>  Adj. R-squared:    </th> <td>   0.854</td>\n",
       "</tr>\n",
       "<tr>\n",
       "  <th>Method:</th>             <td>Least Squares</td>  <th>  F-statistic:       </th> <td>   1503.</td>\n",
       "</tr>\n",
       "<tr>\n",
       "  <th>Date:</th>             <td>Wed, 14 Jul 2021</td> <th>  Prob (F-statistic):</th>  <td>  0.00</td> \n",
       "</tr>\n",
       "<tr>\n",
       "  <th>Time:</th>                 <td>10:37:07</td>     <th>  Log-Likelihood:    </th> <td>  4044.5</td>\n",
       "</tr>\n",
       "<tr>\n",
       "  <th>No. Observations:</th>      <td> 21533</td>      <th>  AIC:               </th> <td>  -7919.</td>\n",
       "</tr>\n",
       "<tr>\n",
       "  <th>Df Residuals:</th>          <td> 21448</td>      <th>  BIC:               </th> <td>  -7241.</td>\n",
       "</tr>\n",
       "<tr>\n",
       "  <th>Df Model:</th>              <td>    84</td>      <th>                     </th>     <td> </td>   \n",
       "</tr>\n",
       "<tr>\n",
       "  <th>Covariance Type:</th>      <td>nonrobust</td>    <th>                     </th>     <td> </td>   \n",
       "</tr>\n",
       "</table>\n",
       "<table class=\"simpletable\">\n",
       "<tr>\n",
       "           <td></td>              <th>coef</th>     <th>std err</th>      <th>t</th>      <th>P>|t|</th>  <th>[0.025</th>    <th>0.975]</th>  \n",
       "</tr>\n",
       "<tr>\n",
       "  <th>const</th>               <td>   -0.0232</td> <td>    0.001</td> <td>  -19.550</td> <td> 0.000</td> <td>   -0.026</td> <td>   -0.021</td>\n",
       "</tr>\n",
       "<tr>\n",
       "  <th>bedrooms</th>            <td>    0.0330</td> <td>    0.002</td> <td>   17.521</td> <td> 0.000</td> <td>    0.029</td> <td>    0.037</td>\n",
       "</tr>\n",
       "<tr>\n",
       "  <th>sqft_lot</th>            <td> 6.961e-07</td> <td> 3.68e-08</td> <td>   18.939</td> <td> 0.000</td> <td> 6.24e-07</td> <td> 7.68e-07</td>\n",
       "</tr>\n",
       "<tr>\n",
       "  <th>floors</th>              <td>    0.0013</td> <td>    0.004</td> <td>    0.346</td> <td> 0.729</td> <td>   -0.006</td> <td>    0.009</td>\n",
       "</tr>\n",
       "<tr>\n",
       "  <th>waterfront</th>          <td>    0.4534</td> <td>    0.018</td> <td>   24.536</td> <td> 0.000</td> <td>    0.417</td> <td>    0.490</td>\n",
       "</tr>\n",
       "<tr>\n",
       "  <th>view</th>                <td>    0.0658</td> <td>    0.002</td> <td>   29.962</td> <td> 0.000</td> <td>    0.061</td> <td>    0.070</td>\n",
       "</tr>\n",
       "<tr>\n",
       "  <th>condition</th>           <td>    0.0670</td> <td>    0.002</td> <td>   27.979</td> <td> 0.000</td> <td>    0.062</td> <td>    0.072</td>\n",
       "</tr>\n",
       "<tr>\n",
       "  <th>yr_renovated</th>        <td> 5.812e-05</td> <td> 3.99e-06</td> <td>   14.575</td> <td> 0.000</td> <td> 5.03e-05</td> <td> 6.59e-05</td>\n",
       "</tr>\n",
       "<tr>\n",
       "  <th>zipcode</th>             <td>   -0.0007</td> <td> 7.83e-05</td> <td>   -8.509</td> <td> 0.000</td> <td>   -0.001</td> <td>   -0.001</td>\n",
       "</tr>\n",
       "<tr>\n",
       "  <th>lat</th>                 <td>    0.5661</td> <td>    0.079</td> <td>    7.130</td> <td> 0.000</td> <td>    0.410</td> <td>    0.722</td>\n",
       "</tr>\n",
       "<tr>\n",
       "  <th>long</th>                <td>   -0.4096</td> <td>    0.057</td> <td>   -7.194</td> <td> 0.000</td> <td>   -0.521</td> <td>   -0.298</td>\n",
       "</tr>\n",
       "<tr>\n",
       "  <th>sqft_living15</th>       <td>    0.0003</td> <td>  6.2e-06</td> <td>   41.466</td> <td> 0.000</td> <td>    0.000</td> <td>    0.000</td>\n",
       "</tr>\n",
       "<tr>\n",
       "  <th>age</th>                 <td>   -0.0004</td> <td>  7.7e-05</td> <td>   -4.943</td> <td> 0.000</td> <td>   -0.001</td> <td>   -0.000</td>\n",
       "</tr>\n",
       "<tr>\n",
       "  <th>x_98002</th>             <td>   -0.0235</td> <td>    0.018</td> <td>   -1.294</td> <td> 0.196</td> <td>   -0.059</td> <td>    0.012</td>\n",
       "</tr>\n",
       "<tr>\n",
       "  <th>x_98003</th>             <td>    0.0059</td> <td>    0.016</td> <td>    0.368</td> <td> 0.713</td> <td>   -0.026</td> <td>    0.038</td>\n",
       "</tr>\n",
       "<tr>\n",
       "  <th>x_98004</th>             <td>    0.9473</td> <td>    0.029</td> <td>   32.239</td> <td> 0.000</td> <td>    0.890</td> <td>    1.005</td>\n",
       "</tr>\n",
       "<tr>\n",
       "  <th>x_98005</th>             <td>    0.6270</td> <td>    0.031</td> <td>   19.976</td> <td> 0.000</td> <td>    0.565</td> <td>    0.689</td>\n",
       "</tr>\n",
       "<tr>\n",
       "  <th>x_98006</th>             <td>    0.5399</td> <td>    0.026</td> <td>   21.016</td> <td> 0.000</td> <td>    0.490</td> <td>    0.590</td>\n",
       "</tr>\n",
       "<tr>\n",
       "  <th>x_98007</th>             <td>    0.5433</td> <td>    0.032</td> <td>   16.775</td> <td> 0.000</td> <td>    0.480</td> <td>    0.607</td>\n",
       "</tr>\n",
       "<tr>\n",
       "  <th>x_98008</th>             <td>    0.5491</td> <td>    0.031</td> <td>   17.837</td> <td> 0.000</td> <td>    0.489</td> <td>    0.609</td>\n",
       "</tr>\n",
       "<tr>\n",
       "  <th>x_98010</th>             <td>    0.3312</td> <td>    0.028</td> <td>   11.858</td> <td> 0.000</td> <td>    0.276</td> <td>    0.386</td>\n",
       "</tr>\n",
       "<tr>\n",
       "  <th>x_98011</th>             <td>    0.2337</td> <td>    0.040</td> <td>    5.855</td> <td> 0.000</td> <td>    0.155</td> <td>    0.312</td>\n",
       "</tr>\n",
       "<tr>\n",
       "  <th>x_98014</th>             <td>    0.2643</td> <td>    0.044</td> <td>    5.973</td> <td> 0.000</td> <td>    0.178</td> <td>    0.351</td>\n",
       "</tr>\n",
       "<tr>\n",
       "  <th>x_98019</th>             <td>    0.2176</td> <td>    0.044</td> <td>    5.000</td> <td> 0.000</td> <td>    0.132</td> <td>    0.303</td>\n",
       "</tr>\n",
       "<tr>\n",
       "  <th>x_98022</th>             <td>    0.2101</td> <td>    0.025</td> <td>    8.338</td> <td> 0.000</td> <td>    0.161</td> <td>    0.259</td>\n",
       "</tr>\n",
       "<tr>\n",
       "  <th>x_98023</th>             <td>   -0.0518</td> <td>    0.014</td> <td>   -3.577</td> <td> 0.000</td> <td>   -0.080</td> <td>   -0.023</td>\n",
       "</tr>\n",
       "<tr>\n",
       "  <th>x_98024</th>             <td>    0.4330</td> <td>    0.039</td> <td>   11.021</td> <td> 0.000</td> <td>    0.356</td> <td>    0.510</td>\n",
       "</tr>\n",
       "<tr>\n",
       "  <th>x_98027</th>             <td>    0.4914</td> <td>    0.027</td> <td>   18.342</td> <td> 0.000</td> <td>    0.439</td> <td>    0.544</td>\n",
       "</tr>\n",
       "<tr>\n",
       "  <th>x_98028</th>             <td>    0.2002</td> <td>    0.038</td> <td>    5.231</td> <td> 0.000</td> <td>    0.125</td> <td>    0.275</td>\n",
       "</tr>\n",
       "<tr>\n",
       "  <th>x_98029</th>             <td>    0.5919</td> <td>    0.031</td> <td>   19.377</td> <td> 0.000</td> <td>    0.532</td> <td>    0.652</td>\n",
       "</tr>\n",
       "<tr>\n",
       "  <th>x_98030</th>             <td>    0.0681</td> <td>    0.018</td> <td>    3.742</td> <td> 0.000</td> <td>    0.032</td> <td>    0.104</td>\n",
       "</tr>\n",
       "<tr>\n",
       "  <th>x_98031</th>             <td>    0.0623</td> <td>    0.019</td> <td>    3.313</td> <td> 0.001</td> <td>    0.025</td> <td>    0.099</td>\n",
       "</tr>\n",
       "<tr>\n",
       "  <th>x_98032</th>             <td>   -0.0528</td> <td>    0.021</td> <td>   -2.467</td> <td> 0.014</td> <td>   -0.095</td> <td>   -0.011</td>\n",
       "</tr>\n",
       "<tr>\n",
       "  <th>x_98033</th>             <td>    0.6214</td> <td>    0.033</td> <td>   18.896</td> <td> 0.000</td> <td>    0.557</td> <td>    0.686</td>\n",
       "</tr>\n",
       "<tr>\n",
       "  <th>x_98034</th>             <td>    0.3533</td> <td>    0.035</td> <td>   10.053</td> <td> 0.000</td> <td>    0.284</td> <td>    0.422</td>\n",
       "</tr>\n",
       "<tr>\n",
       "  <th>x_98038</th>             <td>    0.2446</td> <td>    0.022</td> <td>   11.332</td> <td> 0.000</td> <td>    0.202</td> <td>    0.287</td>\n",
       "</tr>\n",
       "<tr>\n",
       "  <th>x_98039</th>             <td>    1.0122</td> <td>    0.039</td> <td>   25.770</td> <td> 0.000</td> <td>    0.935</td> <td>    1.089</td>\n",
       "</tr>\n",
       "<tr>\n",
       "  <th>x_98040</th>             <td>    0.7562</td> <td>    0.026</td> <td>   29.651</td> <td> 0.000</td> <td>    0.706</td> <td>    0.806</td>\n",
       "</tr>\n",
       "<tr>\n",
       "  <th>x_98042</th>             <td>    0.1058</td> <td>    0.018</td> <td>    5.749</td> <td> 0.000</td> <td>    0.070</td> <td>    0.142</td>\n",
       "</tr>\n",
       "<tr>\n",
       "  <th>x_98045</th>             <td>    0.4813</td> <td>    0.039</td> <td>   12.380</td> <td> 0.000</td> <td>    0.405</td> <td>    0.557</td>\n",
       "</tr>\n",
       "<tr>\n",
       "  <th>x_98052</th>             <td>    0.5324</td> <td>    0.034</td> <td>   15.775</td> <td> 0.000</td> <td>    0.466</td> <td>    0.599</td>\n",
       "</tr>\n",
       "<tr>\n",
       "  <th>x_98053</th>             <td>    0.5178</td> <td>    0.037</td> <td>   14.081</td> <td> 0.000</td> <td>    0.446</td> <td>    0.590</td>\n",
       "</tr>\n",
       "<tr>\n",
       "  <th>x_98055</th>             <td>    0.1046</td> <td>    0.021</td> <td>    5.043</td> <td> 0.000</td> <td>    0.064</td> <td>    0.145</td>\n",
       "</tr>\n",
       "<tr>\n",
       "  <th>x_98056</th>             <td>    0.2596</td> <td>    0.022</td> <td>   11.583</td> <td> 0.000</td> <td>    0.216</td> <td>    0.303</td>\n",
       "</tr>\n",
       "<tr>\n",
       "  <th>x_98058</th>             <td>    0.1743</td> <td>    0.020</td> <td>    8.556</td> <td> 0.000</td> <td>    0.134</td> <td>    0.214</td>\n",
       "</tr>\n",
       "<tr>\n",
       "  <th>x_98059</th>             <td>    0.3082</td> <td>    0.023</td> <td>   13.668</td> <td> 0.000</td> <td>    0.264</td> <td>    0.352</td>\n",
       "</tr>\n",
       "<tr>\n",
       "  <th>x_98065</th>             <td>    0.4563</td> <td>    0.036</td> <td>   12.591</td> <td> 0.000</td> <td>    0.385</td> <td>    0.527</td>\n",
       "</tr>\n",
       "<tr>\n",
       "  <th>x_98070</th>             <td>    0.2411</td> <td>    0.023</td> <td>   10.303</td> <td> 0.000</td> <td>    0.195</td> <td>    0.287</td>\n",
       "</tr>\n",
       "<tr>\n",
       "  <th>x_98072</th>             <td>    0.3578</td> <td>    0.039</td> <td>    9.137</td> <td> 0.000</td> <td>    0.281</td> <td>    0.435</td>\n",
       "</tr>\n",
       "<tr>\n",
       "  <th>x_98074</th>             <td>    0.5361</td> <td>    0.033</td> <td>   16.299</td> <td> 0.000</td> <td>    0.472</td> <td>    0.601</td>\n",
       "</tr>\n",
       "<tr>\n",
       "  <th>x_98075</th>             <td>    0.5405</td> <td>    0.032</td> <td>   16.832</td> <td> 0.000</td> <td>    0.478</td> <td>    0.603</td>\n",
       "</tr>\n",
       "<tr>\n",
       "  <th>x_98077</th>             <td>    0.3463</td> <td>    0.041</td> <td>    8.387</td> <td> 0.000</td> <td>    0.265</td> <td>    0.427</td>\n",
       "</tr>\n",
       "<tr>\n",
       "  <th>x_98092</th>             <td>    0.1342</td> <td>    0.020</td> <td>    6.806</td> <td> 0.000</td> <td>    0.096</td> <td>    0.173</td>\n",
       "</tr>\n",
       "<tr>\n",
       "  <th>x_98102</th>             <td>    0.8189</td> <td>    0.032</td> <td>   25.449</td> <td> 0.000</td> <td>    0.756</td> <td>    0.882</td>\n",
       "</tr>\n",
       "<tr>\n",
       "  <th>x_98103</th>             <td>    0.6545</td> <td>    0.029</td> <td>   22.420</td> <td> 0.000</td> <td>    0.597</td> <td>    0.712</td>\n",
       "</tr>\n",
       "<tr>\n",
       "  <th>x_98105</th>             <td>    0.8108</td> <td>    0.031</td> <td>   26.283</td> <td> 0.000</td> <td>    0.750</td> <td>    0.871</td>\n",
       "</tr>\n",
       "<tr>\n",
       "  <th>x_98106</th>             <td>    0.2194</td> <td>    0.021</td> <td>   10.397</td> <td> 0.000</td> <td>    0.178</td> <td>    0.261</td>\n",
       "</tr>\n",
       "<tr>\n",
       "  <th>x_98107</th>             <td>    0.6536</td> <td>    0.030</td> <td>   21.910</td> <td> 0.000</td> <td>    0.595</td> <td>    0.712</td>\n",
       "</tr>\n",
       "<tr>\n",
       "  <th>x_98108</th>             <td>    0.2685</td> <td>    0.025</td> <td>   10.937</td> <td> 0.000</td> <td>    0.220</td> <td>    0.317</td>\n",
       "</tr>\n",
       "<tr>\n",
       "  <th>x_98109</th>             <td>    0.8669</td> <td>    0.032</td> <td>   27.482</td> <td> 0.000</td> <td>    0.805</td> <td>    0.929</td>\n",
       "</tr>\n",
       "<tr>\n",
       "  <th>x_98112</th>             <td>    0.9471</td> <td>    0.028</td> <td>   33.670</td> <td> 0.000</td> <td>    0.892</td> <td>    1.002</td>\n",
       "</tr>\n",
       "<tr>\n",
       "  <th>x_98115</th>             <td>    0.6795</td> <td>    0.030</td> <td>   22.592</td> <td> 0.000</td> <td>    0.621</td> <td>    0.738</td>\n",
       "</tr>\n",
       "<tr>\n",
       "  <th>x_98116</th>             <td>    0.6474</td> <td>    0.023</td> <td>   28.234</td> <td> 0.000</td> <td>    0.602</td> <td>    0.692</td>\n",
       "</tr>\n",
       "<tr>\n",
       "  <th>x_98117</th>             <td>    0.6390</td> <td>    0.029</td> <td>   21.785</td> <td> 0.000</td> <td>    0.581</td> <td>    0.696</td>\n",
       "</tr>\n",
       "<tr>\n",
       "  <th>x_98118</th>             <td>    0.3848</td> <td>    0.022</td> <td>   17.553</td> <td> 0.000</td> <td>    0.342</td> <td>    0.428</td>\n",
       "</tr>\n",
       "<tr>\n",
       "  <th>x_98119</th>             <td>    0.8492</td> <td>    0.029</td> <td>   29.285</td> <td> 0.000</td> <td>    0.792</td> <td>    0.906</td>\n",
       "</tr>\n",
       "<tr>\n",
       "  <th>x_98122</th>             <td>    0.7183</td> <td>    0.027</td> <td>   27.038</td> <td> 0.000</td> <td>    0.666</td> <td>    0.770</td>\n",
       "</tr>\n",
       "<tr>\n",
       "  <th>x_98125</th>             <td>    0.4065</td> <td>    0.033</td> <td>   12.501</td> <td> 0.000</td> <td>    0.343</td> <td>    0.470</td>\n",
       "</tr>\n",
       "<tr>\n",
       "  <th>x_98126</th>             <td>    0.4499</td> <td>    0.021</td> <td>   21.388</td> <td> 0.000</td> <td>    0.409</td> <td>    0.491</td>\n",
       "</tr>\n",
       "<tr>\n",
       "  <th>x_98133</th>             <td>    0.2689</td> <td>    0.033</td> <td>    8.194</td> <td> 0.000</td> <td>    0.205</td> <td>    0.333</td>\n",
       "</tr>\n",
       "<tr>\n",
       "  <th>x_98136</th>             <td>    0.5937</td> <td>    0.021</td> <td>   27.678</td> <td> 0.000</td> <td>    0.552</td> <td>    0.636</td>\n",
       "</tr>\n",
       "<tr>\n",
       "  <th>x_98144</th>             <td>    0.5835</td> <td>    0.025</td> <td>   23.645</td> <td> 0.000</td> <td>    0.535</td> <td>    0.632</td>\n",
       "</tr>\n",
       "<tr>\n",
       "  <th>x_98146</th>             <td>    0.2148</td> <td>    0.020</td> <td>   10.900</td> <td> 0.000</td> <td>    0.176</td> <td>    0.253</td>\n",
       "</tr>\n",
       "<tr>\n",
       "  <th>x_98148</th>             <td>    0.1545</td> <td>    0.030</td> <td>    5.152</td> <td> 0.000</td> <td>    0.096</td> <td>    0.213</td>\n",
       "</tr>\n",
       "<tr>\n",
       "  <th>x_98155</th>             <td>    0.2606</td> <td>    0.035</td> <td>    7.540</td> <td> 0.000</td> <td>    0.193</td> <td>    0.328</td>\n",
       "</tr>\n",
       "<tr>\n",
       "  <th>x_98166</th>             <td>    0.3045</td> <td>    0.019</td> <td>   16.007</td> <td> 0.000</td> <td>    0.267</td> <td>    0.342</td>\n",
       "</tr>\n",
       "<tr>\n",
       "  <th>x_98168</th>             <td>    0.0373</td> <td>    0.021</td> <td>    1.783</td> <td> 0.075</td> <td>   -0.004</td> <td>    0.078</td>\n",
       "</tr>\n",
       "<tr>\n",
       "  <th>x_98177</th>             <td>    0.4378</td> <td>    0.033</td> <td>   13.111</td> <td> 0.000</td> <td>    0.372</td> <td>    0.503</td>\n",
       "</tr>\n",
       "<tr>\n",
       "  <th>x_98178</th>             <td>    0.1431</td> <td>    0.023</td> <td>    6.088</td> <td> 0.000</td> <td>    0.097</td> <td>    0.189</td>\n",
       "</tr>\n",
       "<tr>\n",
       "  <th>x_98188</th>             <td>    0.1323</td> <td>    0.024</td> <td>    5.428</td> <td> 0.000</td> <td>    0.085</td> <td>    0.180</td>\n",
       "</tr>\n",
       "<tr>\n",
       "  <th>x_98198</th>             <td>    0.1192</td> <td>    0.020</td> <td>    6.027</td> <td> 0.000</td> <td>    0.080</td> <td>    0.158</td>\n",
       "</tr>\n",
       "<tr>\n",
       "  <th>x_98199</th>             <td>    0.7662</td> <td>    0.026</td> <td>   29.217</td> <td> 0.000</td> <td>    0.715</td> <td>    0.818</td>\n",
       "</tr>\n",
       "<tr>\n",
       "  <th>grade_sqft_living</th>   <td> 1.006e-06</td> <td>  5.8e-08</td> <td>   17.345</td> <td> 0.000</td> <td> 8.92e-07</td> <td> 1.12e-06</td>\n",
       "</tr>\n",
       "<tr>\n",
       "  <th>grade_sqft_above</th>    <td> 8.386e-07</td> <td> 5.84e-08</td> <td>   14.356</td> <td> 0.000</td> <td> 7.24e-07</td> <td> 9.53e-07</td>\n",
       "</tr>\n",
       "<tr>\n",
       "  <th>grade_sqft_living15</th> <td>-1.452e-06</td> <td> 7.43e-08</td> <td>  -19.539</td> <td> 0.000</td> <td> -1.6e-06</td> <td>-1.31e-06</td>\n",
       "</tr>\n",
       "<tr>\n",
       "  <th>grade_bathrooms</th>     <td>    0.0008</td> <td> 4.72e-05</td> <td>   17.684</td> <td> 0.000</td> <td>    0.001</td> <td>    0.001</td>\n",
       "</tr>\n",
       "</table>\n",
       "<table class=\"simpletable\">\n",
       "<tr>\n",
       "  <th>Omnibus:</th>       <td>3462.137</td> <th>  Durbin-Watson:     </th> <td>   2.011</td> \n",
       "</tr>\n",
       "<tr>\n",
       "  <th>Prob(Omnibus):</th>  <td> 0.000</td>  <th>  Jarque-Bera (JB):  </th> <td>22583.756</td>\n",
       "</tr>\n",
       "<tr>\n",
       "  <th>Skew:</th>           <td>-0.611</td>  <th>  Prob(JB):          </th> <td>    0.00</td> \n",
       "</tr>\n",
       "<tr>\n",
       "  <th>Kurtosis:</th>       <td> 7.866</td>  <th>  Cond. No.          </th> <td>3.48e+20</td> \n",
       "</tr>\n",
       "</table><br/><br/>Notes:<br/>[1] Standard Errors assume that the covariance matrix of the errors is correctly specified.<br/>[2] The smallest eigenvalue is 1.53e-26. This might indicate that there are<br/>strong multicollinearity problems or that the design matrix is singular."
      ],
      "text/plain": [
       "<class 'statsmodels.iolib.summary.Summary'>\n",
       "\"\"\"\n",
       "                            OLS Regression Results                            \n",
       "==============================================================================\n",
       "Dep. Variable:                  price   R-squared:                       0.855\n",
       "Model:                            OLS   Adj. R-squared:                  0.854\n",
       "Method:                 Least Squares   F-statistic:                     1503.\n",
       "Date:                Wed, 14 Jul 2021   Prob (F-statistic):               0.00\n",
       "Time:                        10:37:07   Log-Likelihood:                 4044.5\n",
       "No. Observations:               21533   AIC:                            -7919.\n",
       "Df Residuals:                   21448   BIC:                            -7241.\n",
       "Df Model:                          84                                         \n",
       "Covariance Type:            nonrobust                                         \n",
       "=======================================================================================\n",
       "                          coef    std err          t      P>|t|      [0.025      0.975]\n",
       "---------------------------------------------------------------------------------------\n",
       "const                  -0.0232      0.001    -19.550      0.000      -0.026      -0.021\n",
       "bedrooms                0.0330      0.002     17.521      0.000       0.029       0.037\n",
       "sqft_lot             6.961e-07   3.68e-08     18.939      0.000    6.24e-07    7.68e-07\n",
       "floors                  0.0013      0.004      0.346      0.729      -0.006       0.009\n",
       "waterfront              0.4534      0.018     24.536      0.000       0.417       0.490\n",
       "view                    0.0658      0.002     29.962      0.000       0.061       0.070\n",
       "condition               0.0670      0.002     27.979      0.000       0.062       0.072\n",
       "yr_renovated         5.812e-05   3.99e-06     14.575      0.000    5.03e-05    6.59e-05\n",
       "zipcode                -0.0007   7.83e-05     -8.509      0.000      -0.001      -0.001\n",
       "lat                     0.5661      0.079      7.130      0.000       0.410       0.722\n",
       "long                   -0.4096      0.057     -7.194      0.000      -0.521      -0.298\n",
       "sqft_living15           0.0003    6.2e-06     41.466      0.000       0.000       0.000\n",
       "age                    -0.0004    7.7e-05     -4.943      0.000      -0.001      -0.000\n",
       "x_98002                -0.0235      0.018     -1.294      0.196      -0.059       0.012\n",
       "x_98003                 0.0059      0.016      0.368      0.713      -0.026       0.038\n",
       "x_98004                 0.9473      0.029     32.239      0.000       0.890       1.005\n",
       "x_98005                 0.6270      0.031     19.976      0.000       0.565       0.689\n",
       "x_98006                 0.5399      0.026     21.016      0.000       0.490       0.590\n",
       "x_98007                 0.5433      0.032     16.775      0.000       0.480       0.607\n",
       "x_98008                 0.5491      0.031     17.837      0.000       0.489       0.609\n",
       "x_98010                 0.3312      0.028     11.858      0.000       0.276       0.386\n",
       "x_98011                 0.2337      0.040      5.855      0.000       0.155       0.312\n",
       "x_98014                 0.2643      0.044      5.973      0.000       0.178       0.351\n",
       "x_98019                 0.2176      0.044      5.000      0.000       0.132       0.303\n",
       "x_98022                 0.2101      0.025      8.338      0.000       0.161       0.259\n",
       "x_98023                -0.0518      0.014     -3.577      0.000      -0.080      -0.023\n",
       "x_98024                 0.4330      0.039     11.021      0.000       0.356       0.510\n",
       "x_98027                 0.4914      0.027     18.342      0.000       0.439       0.544\n",
       "x_98028                 0.2002      0.038      5.231      0.000       0.125       0.275\n",
       "x_98029                 0.5919      0.031     19.377      0.000       0.532       0.652\n",
       "x_98030                 0.0681      0.018      3.742      0.000       0.032       0.104\n",
       "x_98031                 0.0623      0.019      3.313      0.001       0.025       0.099\n",
       "x_98032                -0.0528      0.021     -2.467      0.014      -0.095      -0.011\n",
       "x_98033                 0.6214      0.033     18.896      0.000       0.557       0.686\n",
       "x_98034                 0.3533      0.035     10.053      0.000       0.284       0.422\n",
       "x_98038                 0.2446      0.022     11.332      0.000       0.202       0.287\n",
       "x_98039                 1.0122      0.039     25.770      0.000       0.935       1.089\n",
       "x_98040                 0.7562      0.026     29.651      0.000       0.706       0.806\n",
       "x_98042                 0.1058      0.018      5.749      0.000       0.070       0.142\n",
       "x_98045                 0.4813      0.039     12.380      0.000       0.405       0.557\n",
       "x_98052                 0.5324      0.034     15.775      0.000       0.466       0.599\n",
       "x_98053                 0.5178      0.037     14.081      0.000       0.446       0.590\n",
       "x_98055                 0.1046      0.021      5.043      0.000       0.064       0.145\n",
       "x_98056                 0.2596      0.022     11.583      0.000       0.216       0.303\n",
       "x_98058                 0.1743      0.020      8.556      0.000       0.134       0.214\n",
       "x_98059                 0.3082      0.023     13.668      0.000       0.264       0.352\n",
       "x_98065                 0.4563      0.036     12.591      0.000       0.385       0.527\n",
       "x_98070                 0.2411      0.023     10.303      0.000       0.195       0.287\n",
       "x_98072                 0.3578      0.039      9.137      0.000       0.281       0.435\n",
       "x_98074                 0.5361      0.033     16.299      0.000       0.472       0.601\n",
       "x_98075                 0.5405      0.032     16.832      0.000       0.478       0.603\n",
       "x_98077                 0.3463      0.041      8.387      0.000       0.265       0.427\n",
       "x_98092                 0.1342      0.020      6.806      0.000       0.096       0.173\n",
       "x_98102                 0.8189      0.032     25.449      0.000       0.756       0.882\n",
       "x_98103                 0.6545      0.029     22.420      0.000       0.597       0.712\n",
       "x_98105                 0.8108      0.031     26.283      0.000       0.750       0.871\n",
       "x_98106                 0.2194      0.021     10.397      0.000       0.178       0.261\n",
       "x_98107                 0.6536      0.030     21.910      0.000       0.595       0.712\n",
       "x_98108                 0.2685      0.025     10.937      0.000       0.220       0.317\n",
       "x_98109                 0.8669      0.032     27.482      0.000       0.805       0.929\n",
       "x_98112                 0.9471      0.028     33.670      0.000       0.892       1.002\n",
       "x_98115                 0.6795      0.030     22.592      0.000       0.621       0.738\n",
       "x_98116                 0.6474      0.023     28.234      0.000       0.602       0.692\n",
       "x_98117                 0.6390      0.029     21.785      0.000       0.581       0.696\n",
       "x_98118                 0.3848      0.022     17.553      0.000       0.342       0.428\n",
       "x_98119                 0.8492      0.029     29.285      0.000       0.792       0.906\n",
       "x_98122                 0.7183      0.027     27.038      0.000       0.666       0.770\n",
       "x_98125                 0.4065      0.033     12.501      0.000       0.343       0.470\n",
       "x_98126                 0.4499      0.021     21.388      0.000       0.409       0.491\n",
       "x_98133                 0.2689      0.033      8.194      0.000       0.205       0.333\n",
       "x_98136                 0.5937      0.021     27.678      0.000       0.552       0.636\n",
       "x_98144                 0.5835      0.025     23.645      0.000       0.535       0.632\n",
       "x_98146                 0.2148      0.020     10.900      0.000       0.176       0.253\n",
       "x_98148                 0.1545      0.030      5.152      0.000       0.096       0.213\n",
       "x_98155                 0.2606      0.035      7.540      0.000       0.193       0.328\n",
       "x_98166                 0.3045      0.019     16.007      0.000       0.267       0.342\n",
       "x_98168                 0.0373      0.021      1.783      0.075      -0.004       0.078\n",
       "x_98177                 0.4378      0.033     13.111      0.000       0.372       0.503\n",
       "x_98178                 0.1431      0.023      6.088      0.000       0.097       0.189\n",
       "x_98188                 0.1323      0.024      5.428      0.000       0.085       0.180\n",
       "x_98198                 0.1192      0.020      6.027      0.000       0.080       0.158\n",
       "x_98199                 0.7662      0.026     29.217      0.000       0.715       0.818\n",
       "grade_sqft_living    1.006e-06    5.8e-08     17.345      0.000    8.92e-07    1.12e-06\n",
       "grade_sqft_above     8.386e-07   5.84e-08     14.356      0.000    7.24e-07    9.53e-07\n",
       "grade_sqft_living15 -1.452e-06   7.43e-08    -19.539      0.000    -1.6e-06   -1.31e-06\n",
       "grade_bathrooms         0.0008   4.72e-05     17.684      0.000       0.001       0.001\n",
       "==============================================================================\n",
       "Omnibus:                     3462.137   Durbin-Watson:                   2.011\n",
       "Prob(Omnibus):                  0.000   Jarque-Bera (JB):            22583.756\n",
       "Skew:                          -0.611   Prob(JB):                         0.00\n",
       "Kurtosis:                       7.866   Cond. No.                     3.48e+20\n",
       "==============================================================================\n",
       "\n",
       "Notes:\n",
       "[1] Standard Errors assume that the covariance matrix of the errors is correctly specified.\n",
       "[2] The smallest eigenvalue is 1.53e-26. This might indicate that there are\n",
       "strong multicollinearity problems or that the design matrix is singular.\n",
       "\"\"\""
      ]
     },
     "execution_count": 74,
     "metadata": {},
     "output_type": "execute_result"
    }
   ],
   "source": [
    "# Checking OLS for values of significance\n",
    "X = sm.add_constant(X)\n",
    "sm.OLS(y, X).fit().summary()"
   ]
  },
  {
   "cell_type": "code",
   "execution_count": 75,
   "metadata": {
    "scrolled": true
   },
   "outputs": [
    {
     "data": {
      "image/png": "[encoded data removed]",
      "text/plain": [
       "<Figure size 432x288 with 1 Axes>"
      ]
     },
     "metadata": {
      "needs_background": "light"
     },
     "output_type": "display_data"
    }
   ],
   "source": [
    "residuals = (y_test - pred_lr)\n",
    "sm.graphics.qqplot(residuals, dist=stats.norm, line=\"45\", fit=True);"
   ]
  },
  {
   "cell_type": "markdown",
   "metadata": {},
   "source": [
    "### Model 8: A Polynomial model"
   ]
  },
  {
   "cell_type": "code",
   "execution_count": 76,
   "metadata": {},
   "outputs": [],
   "source": [
    "df['grade_sqft_living'] = (df.grade**2) * df.sqft_living\n",
    "df['grade_sqft_above'] = (df.grade**2) * df.sqft_above\n",
    "df['grade_sqft_living15'] = (df.grade**2) * df.sqft_living15\n",
    "df['grade_bathrooms'] = (df.grade**2) * df.bathrooms"
   ]
  },
  {
   "cell_type": "code",
   "execution_count": 77,
   "metadata": {},
   "outputs": [],
   "source": [
    "X = df.drop(['price', 'sqft_basement', 'sqft_lot15', 'sqft_above', 'bathrooms', 'sqft_living', 'grade'], axis = 1)\n",
    "y = df['price'] \n",
    "# y = np.log(y)\n",
    "\n",
    "# ss = StandardScaler()\n",
    "# X = ss.fit_transform(X)\n",
    "\n",
    "X_train, X_test, y_train, y_test = train_test_split(X, y, test_size=0.2, random_state=42)"
   ]
  },
  {
   "cell_type": "code",
   "execution_count": 78,
   "metadata": {},
   "outputs": [],
   "source": [
    "poly = PolynomialFeatures(2)"
   ]
  },
  {
   "cell_type": "code",
   "execution_count": 79,
   "metadata": {},
   "outputs": [],
   "source": [
    "X_train_poly = poly.fit_transform(X_train)"
   ]
  },
  {
   "cell_type": "code",
   "execution_count": 80,
   "metadata": {},
   "outputs": [],
   "source": [
    "X_test_poly = poly.transform(X_test)"
   ]
  },
  {
   "cell_type": "code",
   "execution_count": 81,
   "metadata": {},
   "outputs": [],
   "source": [
    "lr = LinearRegression()"
   ]
  },
  {
   "cell_type": "code",
   "execution_count": 82,
   "metadata": {},
   "outputs": [
    {
     "data": {
      "text/plain": [
       "LinearRegression()"
      ]
     },
     "execution_count": 82,
     "metadata": {},
     "output_type": "execute_result"
    }
   ],
   "source": [
    "lr.fit(X_train_poly, y_train)"
   ]
  },
  {
   "cell_type": "code",
   "execution_count": 83,
   "metadata": {},
   "outputs": [
    {
     "data": {
      "text/plain": [
       "0.9311303754696946"
      ]
     },
     "execution_count": 83,
     "metadata": {},
     "output_type": "execute_result"
    }
   ],
   "source": [
    "score_train_poly = lr.score(X_train_poly, y_train)"
   ]
  },
  {
   "cell_type": "code",
   "execution_count": 84,
   "metadata": {},
   "outputs": [
    {
     "data": {
      "text/plain": [
       "0.8807605532085232"
      ]
     },
     "execution_count": 84,
     "metadata": {},
     "output_type": "execute_result"
    }
   ],
   "source": [
    "score_test_poly = lr.score(X_test_poly,y_test)"
   ]
  },
  {
   "cell_type": "code",
   "execution_count": 85,
   "metadata": {},
   "outputs": [],
   "source": [
    "pred_poly = lr.predict(X_test_poly)"
   ]
  },
  {
   "cell_type": "code",
   "execution_count": 86,
   "metadata": {},
   "outputs": [
    {
     "data": {
      "text/plain": [
       "128251.62197963722"
      ]
     },
     "execution_count": 86,
     "metadata": {},
     "output_type": "execute_result"
    }
   ],
   "source": [
    "rmse_poly = mean_squared_error(y_test, pred_poly, squared=False)"
   ]
  },
  {
   "cell_type": "code",
   "execution_count": 87,
   "metadata": {},
   "outputs": [
    {
     "data": {
      "text/plain": [
       "(0.9311303754696946, 0.8807605532085232, 128251.62197963722)"
      ]
     },
     "execution_count": 87,
     "metadata": {},
     "output_type": "execute_result"
    }
   ],
   "source": [
    "score_train_poly, score_test_poly, rmse_poly"
   ]
  },
  {
   "cell_type": "code",
   "execution_count": 88,
   "metadata": {
    "scrolled": true
   },
   "outputs": [
    {
     "data": {
      "text/plain": [
       "{'fit_time': array([23.65998435, 23.7805295 , 23.6192615 , 23.87995744, 24.27799988]),\n",
       " 'score_time': array([0.03091598, 0.02793288, 0.02693009, 0.03084373, 0.03191543]),\n",
       " 'test_score': array([0.88036736, 0.89341397, 0.88573392, 0.89675157, 0.87936985]),\n",
       " 'train_score': array([0.93326917, 0.93449447, 0.93289414, 0.93265807, 0.93634702])}"
      ]
     },
     "execution_count": 88,
     "metadata": {},
     "output_type": "execute_result"
    }
   ],
   "source": [
    "poly = PolynomialFeatures(2)\n",
    "X_poly = poly.fit_transform(X_train)\n",
    "\n",
    "model_1 = LinearRegression()\n",
    "\n",
    "scores_simple = cross_validate(\n",
    "                    model_1, X_poly, y_train, cv=5, \n",
    "                    return_train_score=True\n",
    ")\n",
    "scores_simple"
   ]
  },
  {
   "cell_type": "code",
   "execution_count": 89,
   "metadata": {
    "scrolled": false
   },
   "outputs": [
    {
     "data": {
      "image/png": "[encoded data removed]",
      "text/plain": [
       "<Figure size 432x288 with 1 Axes>"
      ]
     },
     "metadata": {
      "needs_background": "light"
     },
     "output_type": "display_data"
    }
   ],
   "source": [
    "residuals = (y_test - pred_poly)\n",
    "sm.graphics.qqplot(residuals, dist=stats.norm, line='45', fit=True);"
   ]
  },
  {
   "cell_type": "code",
   "execution_count": 91,
   "metadata": {},
   "outputs": [
    {
     "name": "stdout",
     "output_type": "stream",
     "text": [
      "--- 161.74444603919983 seconds ---\n"
     ]
    }
   ],
   "source": [
    "print(\"--- %s seconds ---\" % (time.time() - start_time))"
   ]
  },
  {
   "cell_type": "code",
   "execution_count": null,
   "metadata": {},
   "outputs": [],
   "source": []
  }
 ],
 "metadata": {
  "kernelspec": {
   "display_name": "Python (learn-env)",
   "language": "python",
   "name": "learn-env"
  },
  "language_info": {
   "codemirror_mode": {
    "name": "ipython",
    "version": 3
   },
   "file_extension": ".py",
   "mimetype": "text/x-python",
   "name": "python",
   "nbconvert_exporter": "python",
   "pygments_lexer": "ipython3",
   "version": "3.8.5"
  }
 },
 "nbformat": 4,
 "nbformat_minor": 4
}
